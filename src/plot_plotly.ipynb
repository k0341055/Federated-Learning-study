{
 "cells": [
  {
   "cell_type": "code",
   "execution_count": 10,
   "metadata": {},
   "outputs": [],
   "source": [
    "from plotly.validators.scatter.marker import SymbolValidator\n",
    "raw_symbols = SymbolValidator().values\n",
    "symbols = []\n",
    "for i in range(85):\n",
    "    if i % 12 == 0:\n",
    "        symbols.append(raw_symbols[i+2])\n",
    "symbols.remove('cross')"
   ]
  },
  {
   "cell_type": "code",
   "execution_count": 249,
   "metadata": {},
   "outputs": [
    {
     "name": "stderr",
     "output_type": "stream",
     "text": [
      "  0%|          | 0/1 [00:00<?, ?it/s]"
     ]
    },
    {
     "data": {
      "application/vnd.plotly.v1+json": {
       "config": {
        "plotlyServerURL": "https://plot.ly"
       },
       "data": [
        {
         "line": {
          "color": "#00CC96",
          "dash": "dash"
         },
         "marker": {
          "size": 15,
          "symbol": "circle"
         },
         "mode": "lines+markers",
         "name": "fedavg_mnist_one(nan)",
         "type": "scatter",
         "x": [
          0,
          1,
          2,
          3,
          4,
          5,
          6,
          7,
          8,
          9,
          10,
          11,
          12,
          13,
          14,
          15,
          16,
          17,
          18,
          19,
          20,
          21,
          22,
          23,
          24,
          25,
          26,
          27,
          28,
          29,
          30,
          31,
          32,
          33,
          34,
          35,
          36,
          37,
          38,
          39,
          40,
          41,
          42,
          43,
          44,
          45,
          46,
          47,
          48,
          49,
          50,
          51,
          52,
          53,
          54,
          55,
          56,
          57,
          58,
          59,
          60,
          61,
          62,
          63,
          64,
          65,
          66,
          67,
          68,
          69,
          70,
          71,
          72,
          73,
          74,
          75,
          76,
          77,
          78,
          79,
          80,
          81,
          82,
          83,
          84,
          85,
          86,
          87,
          88,
          89,
          90,
          91,
          92,
          93,
          94,
          95,
          96,
          97,
          98,
          99
         ],
         "y": [
          0.10750000000000001,
          0.10008333333333333,
          0.24449999999999997,
          0.2843333333333333,
          0.4258333333333333,
          0.5235,
          0.27858333333333335,
          0.41333333333333333,
          0.357,
          0.6720833333333333,
          0.6450833333333335,
          0.5589166666666666,
          0.5110833333333333,
          0.4800833333333333,
          0.5960833333333333,
          0.772,
          0.7746666666666667,
          0.59925,
          0.5454166666666665,
          0.5174166666666666,
          0.7122499999999997,
          0.74175,
          0.7444166666666666,
          0.6688333333333334,
          0.7511666666666666,
          0.7969166666666665,
          0.8732500000000002,
          0.8710833333333332,
          0.8732500000000001,
          0.8020833333333333,
          0.67175,
          0.7124166666666665,
          0.7865,
          0.8814999999999997,
          0.9036666666666666,
          0.8888333333333333,
          0.8774166666666666,
          0.8113333333333334,
          0.7760833333333333,
          0.8103333333333332,
          0.8840833333333332,
          0.9169166666666668,
          0.9188333333333334,
          0.9155,
          0.9231666666666666,
          0.91675,
          0.9215833333333335,
          0.916,
          0.9193333333333332,
          0.8178333333333333,
          0.5932499999999999,
          0.72225,
          0.7154999999999999,
          0.862,
          0.9134166666666665,
          0.9214166666666668,
          0.9229166666666665,
          0.9208333333333332,
          0.9115,
          0.8966666666666665,
          0.8356666666666667,
          0.8040833333333334,
          0.8165833333333333,
          0.9170833333333334,
          0.9326666666666666,
          0.9394166666666668,
          0.9304166666666666,
          0.9357499999999999,
          0.9306666666666668,
          0.9365833333333332,
          0.9338333333333332,
          0.9367499999999997,
          0.92825,
          0.93325,
          0.9321666666666666,
          0.9165833333333333,
          0.9111666666666667,
          0.8941666666666668,
          0.9043333333333333,
          0.9123333333333332,
          0.93625,
          0.9461666666666667,
          0.9422499999999999,
          0.9465000000000001,
          0.94225,
          0.9444166666666667,
          0.9461666666666667,
          0.9470833333333334,
          0.9455000000000001,
          0.9451666666666667,
          0.9445,
          0.9373333333333334,
          0.9460000000000001,
          0.9469166666666665,
          0.9419166666666666,
          0.9446666666666665,
          0.9413333333333334,
          0.9415,
          0.9333333333333332,
          0.9127500000000001
         ]
        },
        {
         "line": {
          "color": "#636EFA",
          "dash": "dash"
         },
         "marker": {
          "size": 15,
          "symbol": "square"
         },
         "mode": "lines+markers",
         "name": "feddbscan_mnist_one(0)",
         "type": "scatter",
         "x": [
          0,
          1,
          2,
          3,
          4,
          5,
          6,
          7,
          8,
          9,
          10,
          11,
          12,
          13,
          14,
          15,
          16,
          17,
          18,
          19,
          20,
          21,
          22,
          23,
          24,
          25,
          26,
          27,
          28,
          29,
          30,
          31,
          32,
          33,
          34,
          35,
          36,
          37,
          38,
          39,
          40,
          41,
          42,
          43,
          44,
          45,
          46,
          47,
          48,
          49,
          50,
          51,
          52,
          53,
          54,
          55,
          56,
          57,
          58,
          59,
          60,
          61,
          62,
          63,
          64,
          65,
          66,
          67,
          68,
          69,
          70,
          71,
          72,
          73,
          74,
          75,
          76,
          77,
          78,
          79,
          80,
          81,
          82,
          83,
          84,
          85,
          86,
          87,
          88,
          89,
          90,
          91,
          92,
          93,
          94,
          95,
          96,
          97,
          98,
          99
         ],
         "y": [
          1,
          1,
          1,
          1,
          1,
          1,
          1,
          1,
          1,
          1,
          1,
          1,
          1,
          1,
          1,
          1,
          1,
          1,
          1,
          1,
          1,
          1,
          1,
          1,
          1,
          1,
          1,
          1,
          1,
          1,
          1,
          1,
          1,
          1,
          1,
          1,
          1,
          1,
          1,
          1,
          1,
          1,
          1,
          1,
          1,
          1,
          1,
          1,
          1,
          1,
          1,
          1,
          1,
          1,
          1,
          1,
          1,
          1,
          1,
          1,
          1,
          1,
          1,
          1,
          1,
          1,
          1,
          1,
          1,
          1,
          1,
          1,
          1,
          1,
          1,
          1,
          1,
          1,
          1,
          1,
          1,
          1,
          1,
          1,
          1,
          1,
          1,
          1,
          1,
          1,
          1,
          1,
          1,
          1,
          1,
          1,
          1,
          1,
          1,
          1
         ]
        },
        {
         "line": {
          "color": "#EF553B",
          "dash": "dash"
         },
         "marker": {
          "size": 15,
          "symbol": "diamond"
         },
         "mode": "lines+markers",
         "name": "fedsem_mnist_one(nan)",
         "type": "scatter",
         "x": [
          0,
          1,
          2,
          3,
          4,
          5,
          6,
          7,
          8,
          9,
          10,
          11,
          12,
          13,
          14,
          15,
          16,
          17,
          18,
          19,
          20,
          21,
          22,
          23,
          24,
          25,
          26,
          27,
          28,
          29,
          30,
          31,
          32,
          33,
          34,
          35,
          36,
          37,
          38,
          39,
          40,
          41,
          42,
          43,
          44,
          45,
          46,
          47,
          48,
          49,
          50,
          51,
          52,
          53,
          54,
          55,
          56,
          57,
          58,
          59,
          60,
          61,
          62,
          63,
          64,
          65,
          66,
          67,
          68,
          69,
          70,
          71,
          72,
          73,
          74,
          75,
          76,
          77,
          78,
          79,
          80,
          81,
          82,
          83,
          84,
          85,
          86,
          87,
          88,
          89,
          90,
          91,
          92,
          93,
          94,
          95,
          96,
          97,
          98,
          99
         ],
         "y": [
          0.29850000000000004,
          0.10041666666666667,
          0.13158333333333333,
          0.28450000000000003,
          0.4995833333333333,
          0.1055,
          0.4984166666666667,
          0.5163333333333333,
          0.5924166666666668,
          0.47474999999999995,
          0.35124999999999995,
          0.45475,
          0.4924166666666668,
          0.7005833333333332,
          0.6870833333333334,
          0.5451666666666667,
          0.5334166666666665,
          0.6018333333333333,
          0.7930833333333334,
          0.7909166666666667,
          0.7884999999999999,
          0.7100000000000001,
          0.7296666666666667,
          0.8051666666666666,
          0.8326666666666667,
          0.751,
          0.6964999999999999,
          0.7623333333333334,
          0.9008333333333335,
          0.8930833333333333,
          0.8949999999999999,
          0.7890833333333334,
          0.7025833333333333,
          0.6544166666666666,
          0.8288333333333333,
          0.8991666666666666,
          0.908,
          0.9110000000000001,
          0.9089166666666666,
          0.9074166666666668,
          0.8793333333333332,
          0.7747499999999999,
          0.7465833333333334,
          0.76325,
          0.9228333333333333,
          0.9275000000000001,
          0.9314166666666667,
          0.9324166666666668,
          0.9301666666666667,
          0.9314166666666668,
          0.9348333333333334,
          0.9292499999999998,
          0.8973333333333334,
          0.7599166666666669,
          0.7215833333333332,
          0.7774166666666668,
          0.92175,
          0.9364166666666667,
          0.9364166666666667,
          0.9391666666666668,
          0.93825,
          0.9408333333333333,
          0.9423333333333334,
          0.9404166666666668,
          0.9422499999999997,
          0.9419166666666666,
          0.9478333333333334,
          0.9449166666666666,
          0.9418333333333333,
          0.9350000000000002,
          0.9271666666666666,
          0.8750833333333333,
          0.8044166666666668,
          0.8196666666666665,
          0.8804166666666666,
          0.9475833333333333,
          0.9480833333333333,
          0.9525833333333333,
          0.95275,
          0.9536666666666666,
          0.9530833333333334,
          0.9506666666666667,
          0.95225,
          0.9513333333333335,
          0.9520000000000001,
          0.9550833333333332,
          0.9513333333333333,
          0.9467500000000002,
          0.9291666666666666,
          0.9181666666666667,
          0.8859166666666666,
          0.8680833333333333,
          0.9176666666666667,
          0.9559166666666666,
          0.9594166666666665,
          0.9586666666666666,
          0.9586666666666667,
          0.9589166666666666,
          0.9600833333333332,
          0.9582500000000002
         ]
        },
        {
         "line": {
          "color": "#FFA15A",
          "dash": "dash"
         },
         "marker": {
          "size": 15,
          "symbol": "x"
         },
         "mode": "lines+markers",
         "name": "fedsem_r_mnist_one(nan)",
         "type": "scatter",
         "x": [
          0,
          1,
          2,
          3,
          4,
          5,
          6,
          7,
          8,
          9,
          10,
          11,
          12,
          13,
          14,
          15,
          16,
          17,
          18,
          19,
          20,
          21,
          22,
          23,
          24,
          25,
          26,
          27,
          28,
          29,
          30,
          31,
          32,
          33,
          34,
          35,
          36,
          37,
          38,
          39,
          40,
          41,
          42,
          43,
          44,
          45,
          46,
          47,
          48,
          49,
          50,
          51,
          52,
          53,
          54,
          55,
          56,
          57,
          58,
          59,
          60,
          61,
          62,
          63,
          64,
          65,
          66,
          67,
          68,
          69,
          70,
          71,
          72,
          73,
          74,
          75,
          76,
          77,
          78,
          79,
          80,
          81,
          82,
          83,
          84,
          85,
          86,
          87,
          88,
          89,
          90,
          91,
          92,
          93,
          94,
          95,
          96,
          97,
          98,
          99
         ],
         "y": [
          0.3039324188560106,
          0.11931500792645461,
          0.1382395375259598,
          0.29511921593501833,
          0.5128094716317292,
          0.4309255997830435,
          0.4967906825681398,
          0.5336832708164008,
          0.5979988657472415,
          0.4807290579279818,
          0.5069315734946579,
          0.4525499663713677,
          0.5082066860714752,
          0.7006616379658528,
          0.6948129276850277,
          0.548614096744909,
          0.5469558394279921,
          0.6159920620206978,
          0.8089234820044565,
          0.8001294820308638,
          0.8032488347104978,
          0.7071243506733127,
          0.738838647608275,
          0.7987588919518096,
          0.8486610897521855,
          0.7633491724240238,
          0.6982737151746509,
          0.7564659119978393,
          0.9183356999320305,
          0.9121383075528274,
          0.8898739970017637,
          0.7830462754449744,
          0.7196568315029807,
          0.7565314694139748,
          0.8347273784554747,
          0.909790800394434,
          0.923108489363072,
          0.9057701492868815,
          0.9231390757692689,
          0.9249443536147686,
          0.8850153600143387,
          0.768815656774198,
          0.7645761439855543,
          0.7774675540656768,
          0.9409975265812889,
          0.926831877698825,
          0.9500482555703927,
          0.9488845965941105,
          0.9232122019212577,
          0.9297897779810445,
          0.9424768775947048,
          0.9350563848767157,
          0.9057000289028726,
          0.8736314505798851,
          0.8532741011157903,
          0.8857444242568321,
          0.9201757464226838,
          0.9562575851603058,
          0.9318956368220753,
          0.9571105947728356,
          0.9493541149313545,
          0.9390126759486858,
          0.951030010685782,
          0.94958532946677,
          0.9390109131859271,
          0.9207045993431431,
          0.8693013127531806,
          0.8216976152772174,
          0.8262682957136381,
          0.8873605125209707,
          0.944850779851169,
          0.9448372449738777,
          0.9454061299860502,
          0.9385914157235262,
          0.9473082712915372,
          0.9557302229282177,
          0.957091821648942,
          0.9426804958823345,
          0.9627484652594747,
          0.9621180113145797,
          0.9494903466113518,
          0.9479199247056881,
          0.9460153059296958,
          0.9524766183023382,
          0.955723996503018,
          0.9718266453236316,
          0.9452360575509975,
          0.954067545838638,
          0.9379434775138017,
          0.9159040466938022,
          0.8912137431720601,
          0.9193056073553901,
          0.9316364403745794,
          0.9459221202023684,
          0.9581759005467154,
          0.9681952416236365,
          0.9761110503352431,
          0.9608086180212093,
          0.9613166474948531,
          0.9647394459047244
         ]
        }
       ],
       "layout": {
        "height": 900,
        "legend": {
         "font": {
          "size": 24
         },
         "x": 1,
         "xanchor": "right",
         "y": 0,
         "yanchor": "bottom"
        },
        "shapes": [
         {
          "line": {
           "color": "gray",
           "dash": "solid"
          },
          "type": "line",
          "x0": 0,
          "x1": 1,
          "xref": "paper",
          "y0": 0.99,
          "y1": 0.99,
          "yref": "y"
         }
        ],
        "template": {
         "data": {
          "bar": [
           {
            "error_x": {
             "color": "#2a3f5f"
            },
            "error_y": {
             "color": "#2a3f5f"
            },
            "marker": {
             "line": {
              "color": "#E5ECF6",
              "width": 0.5
             },
             "pattern": {
              "fillmode": "overlay",
              "size": 10,
              "solidity": 0.2
             }
            },
            "type": "bar"
           }
          ],
          "barpolar": [
           {
            "marker": {
             "line": {
              "color": "#E5ECF6",
              "width": 0.5
             },
             "pattern": {
              "fillmode": "overlay",
              "size": 10,
              "solidity": 0.2
             }
            },
            "type": "barpolar"
           }
          ],
          "carpet": [
           {
            "aaxis": {
             "endlinecolor": "#2a3f5f",
             "gridcolor": "white",
             "linecolor": "white",
             "minorgridcolor": "white",
             "startlinecolor": "#2a3f5f"
            },
            "baxis": {
             "endlinecolor": "#2a3f5f",
             "gridcolor": "white",
             "linecolor": "white",
             "minorgridcolor": "white",
             "startlinecolor": "#2a3f5f"
            },
            "type": "carpet"
           }
          ],
          "choropleth": [
           {
            "colorbar": {
             "outlinewidth": 0,
             "ticks": ""
            },
            "type": "choropleth"
           }
          ],
          "contour": [
           {
            "colorbar": {
             "outlinewidth": 0,
             "ticks": ""
            },
            "colorscale": [
             [
              0,
              "#0d0887"
             ],
             [
              0.1111111111111111,
              "#46039f"
             ],
             [
              0.2222222222222222,
              "#7201a8"
             ],
             [
              0.3333333333333333,
              "#9c179e"
             ],
             [
              0.4444444444444444,
              "#bd3786"
             ],
             [
              0.5555555555555556,
              "#d8576b"
             ],
             [
              0.6666666666666666,
              "#ed7953"
             ],
             [
              0.7777777777777778,
              "#fb9f3a"
             ],
             [
              0.8888888888888888,
              "#fdca26"
             ],
             [
              1,
              "#f0f921"
             ]
            ],
            "type": "contour"
           }
          ],
          "contourcarpet": [
           {
            "colorbar": {
             "outlinewidth": 0,
             "ticks": ""
            },
            "type": "contourcarpet"
           }
          ],
          "heatmap": [
           {
            "colorbar": {
             "outlinewidth": 0,
             "ticks": ""
            },
            "colorscale": [
             [
              0,
              "#0d0887"
             ],
             [
              0.1111111111111111,
              "#46039f"
             ],
             [
              0.2222222222222222,
              "#7201a8"
             ],
             [
              0.3333333333333333,
              "#9c179e"
             ],
             [
              0.4444444444444444,
              "#bd3786"
             ],
             [
              0.5555555555555556,
              "#d8576b"
             ],
             [
              0.6666666666666666,
              "#ed7953"
             ],
             [
              0.7777777777777778,
              "#fb9f3a"
             ],
             [
              0.8888888888888888,
              "#fdca26"
             ],
             [
              1,
              "#f0f921"
             ]
            ],
            "type": "heatmap"
           }
          ],
          "heatmapgl": [
           {
            "colorbar": {
             "outlinewidth": 0,
             "ticks": ""
            },
            "colorscale": [
             [
              0,
              "#0d0887"
             ],
             [
              0.1111111111111111,
              "#46039f"
             ],
             [
              0.2222222222222222,
              "#7201a8"
             ],
             [
              0.3333333333333333,
              "#9c179e"
             ],
             [
              0.4444444444444444,
              "#bd3786"
             ],
             [
              0.5555555555555556,
              "#d8576b"
             ],
             [
              0.6666666666666666,
              "#ed7953"
             ],
             [
              0.7777777777777778,
              "#fb9f3a"
             ],
             [
              0.8888888888888888,
              "#fdca26"
             ],
             [
              1,
              "#f0f921"
             ]
            ],
            "type": "heatmapgl"
           }
          ],
          "histogram": [
           {
            "marker": {
             "pattern": {
              "fillmode": "overlay",
              "size": 10,
              "solidity": 0.2
             }
            },
            "type": "histogram"
           }
          ],
          "histogram2d": [
           {
            "colorbar": {
             "outlinewidth": 0,
             "ticks": ""
            },
            "colorscale": [
             [
              0,
              "#0d0887"
             ],
             [
              0.1111111111111111,
              "#46039f"
             ],
             [
              0.2222222222222222,
              "#7201a8"
             ],
             [
              0.3333333333333333,
              "#9c179e"
             ],
             [
              0.4444444444444444,
              "#bd3786"
             ],
             [
              0.5555555555555556,
              "#d8576b"
             ],
             [
              0.6666666666666666,
              "#ed7953"
             ],
             [
              0.7777777777777778,
              "#fb9f3a"
             ],
             [
              0.8888888888888888,
              "#fdca26"
             ],
             [
              1,
              "#f0f921"
             ]
            ],
            "type": "histogram2d"
           }
          ],
          "histogram2dcontour": [
           {
            "colorbar": {
             "outlinewidth": 0,
             "ticks": ""
            },
            "colorscale": [
             [
              0,
              "#0d0887"
             ],
             [
              0.1111111111111111,
              "#46039f"
             ],
             [
              0.2222222222222222,
              "#7201a8"
             ],
             [
              0.3333333333333333,
              "#9c179e"
             ],
             [
              0.4444444444444444,
              "#bd3786"
             ],
             [
              0.5555555555555556,
              "#d8576b"
             ],
             [
              0.6666666666666666,
              "#ed7953"
             ],
             [
              0.7777777777777778,
              "#fb9f3a"
             ],
             [
              0.8888888888888888,
              "#fdca26"
             ],
             [
              1,
              "#f0f921"
             ]
            ],
            "type": "histogram2dcontour"
           }
          ],
          "mesh3d": [
           {
            "colorbar": {
             "outlinewidth": 0,
             "ticks": ""
            },
            "type": "mesh3d"
           }
          ],
          "parcoords": [
           {
            "line": {
             "colorbar": {
              "outlinewidth": 0,
              "ticks": ""
             }
            },
            "type": "parcoords"
           }
          ],
          "pie": [
           {
            "automargin": true,
            "type": "pie"
           }
          ],
          "scatter": [
           {
            "fillpattern": {
             "fillmode": "overlay",
             "size": 10,
             "solidity": 0.2
            },
            "type": "scatter"
           }
          ],
          "scatter3d": [
           {
            "line": {
             "colorbar": {
              "outlinewidth": 0,
              "ticks": ""
             }
            },
            "marker": {
             "colorbar": {
              "outlinewidth": 0,
              "ticks": ""
             }
            },
            "type": "scatter3d"
           }
          ],
          "scattercarpet": [
           {
            "marker": {
             "colorbar": {
              "outlinewidth": 0,
              "ticks": ""
             }
            },
            "type": "scattercarpet"
           }
          ],
          "scattergeo": [
           {
            "marker": {
             "colorbar": {
              "outlinewidth": 0,
              "ticks": ""
             }
            },
            "type": "scattergeo"
           }
          ],
          "scattergl": [
           {
            "marker": {
             "colorbar": {
              "outlinewidth": 0,
              "ticks": ""
             }
            },
            "type": "scattergl"
           }
          ],
          "scattermapbox": [
           {
            "marker": {
             "colorbar": {
              "outlinewidth": 0,
              "ticks": ""
             }
            },
            "type": "scattermapbox"
           }
          ],
          "scatterpolar": [
           {
            "marker": {
             "colorbar": {
              "outlinewidth": 0,
              "ticks": ""
             }
            },
            "type": "scatterpolar"
           }
          ],
          "scatterpolargl": [
           {
            "marker": {
             "colorbar": {
              "outlinewidth": 0,
              "ticks": ""
             }
            },
            "type": "scatterpolargl"
           }
          ],
          "scatterternary": [
           {
            "marker": {
             "colorbar": {
              "outlinewidth": 0,
              "ticks": ""
             }
            },
            "type": "scatterternary"
           }
          ],
          "surface": [
           {
            "colorbar": {
             "outlinewidth": 0,
             "ticks": ""
            },
            "colorscale": [
             [
              0,
              "#0d0887"
             ],
             [
              0.1111111111111111,
              "#46039f"
             ],
             [
              0.2222222222222222,
              "#7201a8"
             ],
             [
              0.3333333333333333,
              "#9c179e"
             ],
             [
              0.4444444444444444,
              "#bd3786"
             ],
             [
              0.5555555555555556,
              "#d8576b"
             ],
             [
              0.6666666666666666,
              "#ed7953"
             ],
             [
              0.7777777777777778,
              "#fb9f3a"
             ],
             [
              0.8888888888888888,
              "#fdca26"
             ],
             [
              1,
              "#f0f921"
             ]
            ],
            "type": "surface"
           }
          ],
          "table": [
           {
            "cells": {
             "fill": {
              "color": "#EBF0F8"
             },
             "line": {
              "color": "white"
             }
            },
            "header": {
             "fill": {
              "color": "#C8D4E3"
             },
             "line": {
              "color": "white"
             }
            },
            "type": "table"
           }
          ]
         },
         "layout": {
          "annotationdefaults": {
           "arrowcolor": "#2a3f5f",
           "arrowhead": 0,
           "arrowwidth": 1
          },
          "autotypenumbers": "strict",
          "coloraxis": {
           "colorbar": {
            "outlinewidth": 0,
            "ticks": ""
           }
          },
          "colorscale": {
           "diverging": [
            [
             0,
             "#8e0152"
            ],
            [
             0.1,
             "#c51b7d"
            ],
            [
             0.2,
             "#de77ae"
            ],
            [
             0.3,
             "#f1b6da"
            ],
            [
             0.4,
             "#fde0ef"
            ],
            [
             0.5,
             "#f7f7f7"
            ],
            [
             0.6,
             "#e6f5d0"
            ],
            [
             0.7,
             "#b8e186"
            ],
            [
             0.8,
             "#7fbc41"
            ],
            [
             0.9,
             "#4d9221"
            ],
            [
             1,
             "#276419"
            ]
           ],
           "sequential": [
            [
             0,
             "#0d0887"
            ],
            [
             0.1111111111111111,
             "#46039f"
            ],
            [
             0.2222222222222222,
             "#7201a8"
            ],
            [
             0.3333333333333333,
             "#9c179e"
            ],
            [
             0.4444444444444444,
             "#bd3786"
            ],
            [
             0.5555555555555556,
             "#d8576b"
            ],
            [
             0.6666666666666666,
             "#ed7953"
            ],
            [
             0.7777777777777778,
             "#fb9f3a"
            ],
            [
             0.8888888888888888,
             "#fdca26"
            ],
            [
             1,
             "#f0f921"
            ]
           ],
           "sequentialminus": [
            [
             0,
             "#0d0887"
            ],
            [
             0.1111111111111111,
             "#46039f"
            ],
            [
             0.2222222222222222,
             "#7201a8"
            ],
            [
             0.3333333333333333,
             "#9c179e"
            ],
            [
             0.4444444444444444,
             "#bd3786"
            ],
            [
             0.5555555555555556,
             "#d8576b"
            ],
            [
             0.6666666666666666,
             "#ed7953"
            ],
            [
             0.7777777777777778,
             "#fb9f3a"
            ],
            [
             0.8888888888888888,
             "#fdca26"
            ],
            [
             1,
             "#f0f921"
            ]
           ]
          },
          "colorway": [
           "#636efa",
           "#EF553B",
           "#00cc96",
           "#ab63fa",
           "#FFA15A",
           "#19d3f3",
           "#FF6692",
           "#B6E880",
           "#FF97FF",
           "#FECB52"
          ],
          "font": {
           "color": "#2a3f5f"
          },
          "geo": {
           "bgcolor": "white",
           "lakecolor": "white",
           "landcolor": "#E5ECF6",
           "showlakes": true,
           "showland": true,
           "subunitcolor": "white"
          },
          "hoverlabel": {
           "align": "left"
          },
          "hovermode": "closest",
          "mapbox": {
           "style": "light"
          },
          "paper_bgcolor": "white",
          "plot_bgcolor": "#E5ECF6",
          "polar": {
           "angularaxis": {
            "gridcolor": "white",
            "linecolor": "white",
            "ticks": ""
           },
           "bgcolor": "#E5ECF6",
           "radialaxis": {
            "gridcolor": "white",
            "linecolor": "white",
            "ticks": ""
           }
          },
          "scene": {
           "xaxis": {
            "backgroundcolor": "#E5ECF6",
            "gridcolor": "white",
            "gridwidth": 2,
            "linecolor": "white",
            "showbackground": true,
            "ticks": "",
            "zerolinecolor": "white"
           },
           "yaxis": {
            "backgroundcolor": "#E5ECF6",
            "gridcolor": "white",
            "gridwidth": 2,
            "linecolor": "white",
            "showbackground": true,
            "ticks": "",
            "zerolinecolor": "white"
           },
           "zaxis": {
            "backgroundcolor": "#E5ECF6",
            "gridcolor": "white",
            "gridwidth": 2,
            "linecolor": "white",
            "showbackground": true,
            "ticks": "",
            "zerolinecolor": "white"
           }
          },
          "shapedefaults": {
           "line": {
            "color": "#2a3f5f"
           }
          },
          "ternary": {
           "aaxis": {
            "gridcolor": "white",
            "linecolor": "white",
            "ticks": ""
           },
           "baxis": {
            "gridcolor": "white",
            "linecolor": "white",
            "ticks": ""
           },
           "bgcolor": "#E5ECF6",
           "caxis": {
            "gridcolor": "white",
            "linecolor": "white",
            "ticks": ""
           }
          },
          "title": {
           "x": 0.05
          },
          "xaxis": {
           "automargin": true,
           "gridcolor": "white",
           "linecolor": "white",
           "ticks": "",
           "title": {
            "standoff": 15
           },
           "zerolinecolor": "white",
           "zerolinewidth": 2
          },
          "yaxis": {
           "automargin": true,
           "gridcolor": "white",
           "linecolor": "white",
           "ticks": "",
           "title": {
            "standoff": 15
           },
           "zerolinecolor": "white",
           "zerolinewidth": 2
          }
         }
        },
        "title": {
         "font": {
          "size": 24
         },
         "text": "non-iid/one (Testing Accuracy vs Communication rounds)"
        },
        "width": 1200,
        "xaxis": {
         "title": {
          "font": {
           "size": 20
          },
          "text": "Communication Rounds"
         }
        },
        "yaxis": {
         "title": {
          "font": {
           "size": 20
          },
          "text": "Testing Accuracy"
         }
        }
       }
      }
     },
     "metadata": {},
     "output_type": "display_data"
    },
    {
     "name": "stderr",
     "output_type": "stream",
     "text": [
      "100%|██████████| 1/1 [00:00<00:00,  7.87it/s]\n"
     ]
    }
   ],
   "source": [
    "import os\n",
    "import json\n",
    "import plotly.graph_objs as go\n",
    "from tqdm import tqdm\n",
    "import plotly.express as px\n",
    "import plotly.io as pio\n",
    "\n",
    "path_to_json_files = '../save/json/mnist/'\n",
    "# x_len = []\n",
    "# for folder_name in ['iid','non-iid/one','non-iid/two','non-iid/unequal']: \n",
    "#     for json_file_name in os.listdir(os.path.join(path_to_json_files, folder_name)):\n",
    "#         if not json_file_name.endswith('.json'):\n",
    "#             continue\n",
    "#         with open(os.path.join(path_to_json_files, folder_name, json_file_name)) as json_file:\n",
    "#             json_text = json.load(json_file)\n",
    "#             acc = json_text['test_accuracy']\n",
    "#             x_len.append(len(acc))\n",
    "# print(x_len)\n",
    "for folder_name in tqdm(['non-iid/one']): # ['iid','non-iid/one','non-iid/two','non-iid/unequal']\n",
    "    # if folder_name.startswith('.') or 'others' in folder_name or 'desktop.ini' in folder_name:\n",
    "    #     continue\n",
    "    # color = list(go.colors.TABLEAU)  # Using Plotly's color palette\n",
    "    # color_scale = px.colors.qualitative.Plotly\n",
    "    color_scale = ['#00CC96' ,'#636EFA','#EF553B','#FFA15A']\n",
    "    data = []\n",
    "    i = 0\n",
    "    for json_file_name in sorted(os.listdir(os.path.join(path_to_json_files, folder_name))):\n",
    "        if not json_file_name.endswith('.json'):\n",
    "            continue\n",
    "        fn_ls = json_file_name.split('.json')[0].split('_')\n",
    "        with open(os.path.join(path_to_json_files, folder_name, json_file_name)) as json_file:\n",
    "            json_text = json.load(json_file)\n",
    "            acc = json_text['test_accuracy']\n",
    "            # i_idx = json_file_name.find('iid')\n",
    "            a_idx = json_file_name.find('_mnist_')\n",
    "            # e_idx = json_file_name.find('E[')+2\n",
    "            # if 'Clusters' in json_file_name:\n",
    "            #     c_idx = json_file_name.find('Clusters')\n",
    "            #     label_n = \"multi-center({})\".format(json_file_name[c_idx + 9:fn_idx - 2]) + json_file_name[fn_idx:-5] + \"({})\".format(len(acc)) # -2: ]_iid\n",
    "            # else:\n",
    "            # label_n = json_file_name[:a_idx]+'_mnist_'+json_file_name[i_idx:json_file_name.find('_E[')]+ f\"({len(acc)})\" # json_file_name[e_idx:json_file_name.find('.json')-1]\n",
    "            if 'fedsem_r' in json_file_name[:a_idx]:\n",
    "                label_n = json_file_name[:a_idx]+'_mnist_'+ fn_ls[-1]+ f\"({fn_ls[3][6:-1]})\"\n",
    "            else:\n",
    "                label_n = json_file_name[:a_idx]+'_mnist_'+ fn_ls[-1]+ f\"({fn_ls[2][6:-1]})\"\n",
    "            if len(acc) == 1:\n",
    "                trace = go.Scatter(\n",
    "                    x = [0,max(x_len)],\n",
    "                    y = acc * 2,\n",
    "                    mode='lines+markers',\n",
    "                    name=label_n,\n",
    "                    line=dict(color=color_scale[len(data)], dash='dash'),\n",
    "                    marker=dict(symbol=symbols[i],size=15))\n",
    "            else:\n",
    "                trace = go.Scatter(\n",
    "                    x=list(range(len(acc))),\n",
    "                    y=acc,\n",
    "                    mode='lines+markers',\n",
    "                    name=label_n,\n",
    "                    line=dict(color=color_scale[len(data)], dash='dash'),\n",
    "                    marker=dict(symbol=symbols[i],size=15))\n",
    "            data.append(trace)\n",
    "            # eb_idx = json_file_name.find('E[')    \n",
    "            # img_n = json_file_name[eb_idx:-5]\n",
    "        i+=1\n",
    "    layout = go.Layout(\n",
    "        title=dict(text=f'{folder_name} (Testing Accuracy vs Communication rounds)',font=dict(size=24)),\n",
    "        xaxis=dict(title='Communication Rounds',titlefont=dict(size=20)),\n",
    "        yaxis=dict(title='Testing Accuracy',titlefont=dict(size=20)),\n",
    "        legend=dict(x=1, y=0, xanchor='right', yanchor='bottom', font=dict(size=24)),\n",
    "        shapes=[{'type': 'line', 'x0': 0, 'x1': 1, 'xref': 'paper', 'y0': 0.99, 'y1': 0.99, 'yref': 'y', 'line': {'color': 'gray', 'dash': 'solid'}}]\n",
    "    )\n",
    "    \n",
    "    fig = go.Figure(data=data, layout=layout)\n",
    "    fig.update_layout(width=1200, height=900)\n",
    "    fig.show()\n",
    "    # fig.write_image(f'../save/img/comparison/mnist/{folder_name}_test_acc_comparison.png',format='png')\n",
    "    save_path = \"../save/img/comparison/mnist/\"\n",
    "    foldname = folder_name.split('/')\n",
    "    if len(foldname) > 1:\n",
    "        fold_path = os.path.join(*foldname[:-1])\n",
    "        save_path = os.path.join(save_path,fold_path)\n",
    "    full_path = os.path.join(save_path, foldname[-1] + '.png')\n",
    "    if not os.path.exists(save_path):\n",
    "        os.makedirs(save_path)\n",
    "    pio.write_image(fig, full_path)\n"
   ]
  },
  {
   "cell_type": "code",
   "execution_count": 247,
   "metadata": {},
   "outputs": [
    {
     "name": "stderr",
     "output_type": "stream",
     "text": [
      "  0%|          | 0/1 [00:00<?, ?it/s]"
     ]
    },
    {
     "data": {
      "application/vnd.plotly.v1+json": {
       "config": {
        "plotlyServerURL": "https://plot.ly"
       },
       "data": [
        {
         "line": {
          "color": "#636EFA",
          "dash": "dash"
         },
         "marker": {
          "size": 15,
          "symbol": "circle"
         },
         "mode": "lines+markers",
         "name": "feddbscan_mnist_iid(9)",
         "type": "scatter",
         "x": [
          0,
          1,
          2,
          3,
          4,
          5,
          6,
          7,
          8,
          9,
          10,
          11,
          12,
          13,
          14,
          15,
          16,
          17,
          18,
          19,
          20,
          21,
          22,
          23,
          24,
          25,
          26,
          27,
          28,
          29,
          30,
          31,
          32,
          33,
          34,
          35,
          36,
          37,
          38,
          39,
          40,
          41,
          42,
          43,
          44,
          45,
          46,
          47,
          48,
          49,
          50,
          51,
          52,
          53,
          54,
          55,
          56,
          57,
          58,
          59,
          60,
          61,
          62,
          63,
          64,
          65,
          66,
          67,
          68,
          69,
          70,
          71,
          72,
          73,
          74,
          75,
          76,
          77,
          78,
          79,
          80,
          81,
          82,
          83,
          84,
          85,
          86,
          87,
          88,
          89,
          90,
          91,
          92,
          93,
          94,
          95,
          96,
          97,
          98,
          99
         ],
         "y": [
          0.9423333333333332,
          0.975,
          0.9790000000000002,
          0.9839166666666668,
          0.9851666666666666,
          0.9861666666666667,
          0.9876666666666666,
          0.9891666666666665,
          0.9895,
          0.9909999999999999,
          0.9904166666666665,
          0.9906666666666667,
          0.9894166666666665,
          0.9911666666666668,
          0.9910833333333333,
          0.9912499999999999,
          0.9905833333333333,
          0.9909999999999999,
          0.9905000000000002,
          0.9919166666666668,
          0.9912500000000002,
          0.9926666666666667,
          0.9929166666666667,
          0.991,
          0.9914166666666665,
          0.9925,
          0.9927499999999999,
          0.9910833333333332,
          0.9920833333333333,
          0.9915833333333333,
          0.9934999999999998,
          0.9935833333333334,
          0.99225,
          0.9923333333333331,
          0.9935833333333335,
          0.9919999999999999,
          0.993,
          0.9934166666666666,
          0.9923333333333333,
          0.99375,
          0.9928333333333332,
          0.9935833333333333,
          0.9916666666666667,
          0.9936666666666665,
          0.9934166666666667,
          0.9926666666666667,
          0.9936666666666666,
          0.9932500000000001,
          0.9935000000000002,
          0.9944166666666666,
          0.99325,
          0.9920833333333334,
          0.9932499999999999,
          0.9937500000000001,
          0.9954166666666666,
          0.9946666666666667,
          0.9928333333333335,
          0.9927499999999997,
          0.993,
          0.9925833333333334,
          0.9930833333333333,
          0.9943333333333333,
          0.9940833333333331,
          0.9931666666666668,
          0.9938333333333331,
          0.9941666666666669,
          0.9934166666666667,
          0.9935833333333334,
          0.9927500000000001,
          0.9944166666666665,
          0.99425,
          0.9945833333333334,
          0.9928333333333333,
          0.9928333333333335,
          0.9934999999999998,
          0.99425,
          0.9939999999999999,
          0.9934999999999999,
          0.9930833333333333,
          0.9941666666666666,
          0.9930833333333332,
          0.99375,
          0.9949999999999999,
          0.9941666666666665,
          0.9934999999999999,
          0.9939166666666667,
          0.99375,
          0.9946666666666667,
          0.9936666666666666,
          0.9944166666666665,
          0.9945833333333334,
          0.9939166666666667,
          0.9926666666666665,
          0.9945833333333334,
          0.9941666666666666,
          0.9941666666666666,
          0.9927500000000001,
          0.9955833333333334,
          0.9944166666666666,
          0.9943333333333332
         ]
        },
        {
         "line": {
          "color": "#EF553B",
          "dash": "dash"
         },
         "marker": {
          "size": 15,
          "symbol": "square"
         },
         "mode": "lines+markers",
         "name": "feddbscan_mnist_one(0)",
         "type": "scatter",
         "x": [
          0,
          1,
          2,
          3,
          4,
          5,
          6,
          7,
          8,
          9,
          10,
          11,
          12,
          13,
          14,
          15,
          16,
          17,
          18,
          19,
          20,
          21,
          22,
          23,
          24,
          25,
          26,
          27,
          28,
          29,
          30,
          31,
          32,
          33,
          34,
          35,
          36,
          37,
          38,
          39,
          40,
          41,
          42,
          43,
          44,
          45,
          46,
          47,
          48,
          49,
          50,
          51,
          52,
          53,
          54,
          55,
          56,
          57,
          58,
          59,
          60,
          61,
          62,
          63,
          64,
          65,
          66,
          67,
          68,
          69,
          70,
          71,
          72,
          73,
          74,
          75,
          76,
          77,
          78,
          79,
          80,
          81,
          82,
          83,
          84,
          85,
          86,
          87,
          88,
          89,
          90,
          91,
          92,
          93,
          94,
          95,
          96,
          97,
          98,
          99
         ],
         "y": [
          1,
          1,
          1,
          1,
          1,
          1,
          1,
          1,
          1,
          1,
          1,
          1,
          1,
          1,
          1,
          1,
          1,
          1,
          1,
          1,
          1,
          1,
          1,
          1,
          1,
          1,
          1,
          1,
          1,
          1,
          1,
          1,
          1,
          1,
          1,
          1,
          1,
          1,
          1,
          1,
          1,
          1,
          1,
          1,
          1,
          1,
          1,
          1,
          1,
          1,
          1,
          1,
          1,
          1,
          1,
          1,
          1,
          1,
          1,
          1,
          1,
          1,
          1,
          1,
          1,
          1,
          1,
          1,
          1,
          1,
          1,
          1,
          1,
          1,
          1,
          1,
          1,
          1,
          1,
          1,
          1,
          1,
          1,
          1,
          1,
          1,
          1,
          1,
          1,
          1,
          1,
          1,
          1,
          1,
          1,
          1,
          1,
          1,
          1,
          1
         ]
        },
        {
         "line": {
          "color": "#FFA15A",
          "dash": "dash"
         },
         "marker": {
          "size": 15,
          "symbol": "diamond"
         },
         "mode": "lines+markers",
         "name": "feddbscan_mnist_two(90)",
         "type": "scatter",
         "x": [
          0,
          1,
          2,
          3,
          4,
          5,
          6,
          7,
          8,
          9,
          10,
          11,
          12,
          13,
          14,
          15,
          16,
          17,
          18,
          19,
          20,
          21,
          22,
          23,
          24,
          25,
          26,
          27,
          28,
          29,
          30,
          31,
          32,
          33,
          34,
          35,
          36,
          37,
          38,
          39,
          40,
          41,
          42,
          43,
          44,
          45,
          46,
          47,
          48,
          49,
          50,
          51,
          52,
          53,
          54,
          55,
          56,
          57,
          58,
          59,
          60,
          61,
          62,
          63,
          64,
          65,
          66,
          67,
          68,
          69,
          70,
          71,
          72,
          73,
          74,
          75,
          76,
          77,
          78,
          79,
          80,
          81,
          82,
          83,
          84,
          85,
          86,
          87,
          88,
          89,
          90,
          91,
          92,
          93,
          94,
          95,
          96,
          97,
          98,
          99
         ],
         "y": [
          0.5730833333333333,
          0.65475,
          0.8220000000000002,
          0.9146666666666666,
          0.9267500000000001,
          0.94175,
          0.94975,
          0.9552499999999999,
          0.9563333333333334,
          0.9603333333333333,
          0.9657499999999999,
          0.9658333333333332,
          0.9691666666666666,
          0.9700833333333333,
          0.9690833333333333,
          0.9732500000000001,
          0.9683333333333334,
          0.9708333333333334,
          0.9749166666666665,
          0.9755000000000001,
          0.9755833333333334,
          0.9745833333333334,
          0.97725,
          0.9752500000000001,
          0.9752500000000001,
          0.9780833333333333,
          0.9793333333333334,
          0.9791666666666664,
          0.982,
          0.9802500000000001,
          0.9764999999999999,
          0.9810833333333335,
          0.9822500000000001,
          0.9795,
          0.9804166666666667,
          0.9803333333333335,
          0.9826666666666666,
          0.9804166666666668,
          0.9811666666666666,
          0.9818333333333334,
          0.9817499999999999,
          0.9818333333333332,
          0.9830833333333333,
          0.9833333333333335,
          0.9846666666666668,
          0.9850000000000001,
          0.9836666666666667,
          0.9854166666666665,
          0.9829166666666667,
          0.9827499999999999,
          0.9835,
          0.9834166666666667,
          0.9841666666666666,
          0.9843333333333335,
          0.9864166666666666,
          0.9859166666666666,
          0.9846666666666668,
          0.9871666666666669,
          0.9873333333333333,
          0.9876666666666666,
          0.9853333333333333,
          0.9882500000000001,
          0.9859166666666667,
          0.9857500000000001,
          0.9849166666666666,
          0.9861666666666667,
          0.9875833333333333,
          0.9875,
          0.9855833333333333,
          0.9865833333333334,
          0.9864166666666666,
          0.9880833333333333,
          0.9863333333333333,
          0.9881666666666666,
          0.9885,
          0.9873333333333333,
          0.9873333333333335,
          0.98775,
          0.9870833333333333,
          0.9886666666666665,
          0.9884999999999999,
          0.9884166666666666,
          0.9888333333333333,
          0.9882500000000001,
          0.9871666666666667,
          0.9893333333333332,
          0.9899166666666667,
          0.9893333333333332,
          0.9890833333333334,
          0.98775,
          0.9899999999999999,
          0.9890833333333332,
          0.9888333333333333,
          0.9884999999999999,
          0.9880833333333334,
          0.9888333333333333,
          0.9901666666666668,
          0.9885,
          0.99075,
          0.9885000000000002
         ]
        },
        {
         "line": {
          "color": "#00CC96",
          "dash": "dash"
         },
         "marker": {
          "size": 15,
          "symbol": "x"
         },
         "mode": "lines+markers",
         "name": "feddbscan_mnist_unequal(14)",
         "type": "scatter",
         "x": [
          0,
          1,
          2,
          3,
          4,
          5,
          6,
          7,
          8,
          9,
          10,
          11,
          12,
          13,
          14,
          15,
          16,
          17,
          18,
          19,
          20,
          21,
          22,
          23,
          24,
          25,
          26,
          27,
          28,
          29,
          30,
          31,
          32,
          33,
          34,
          35,
          36,
          37,
          38,
          39,
          40,
          41,
          42,
          43,
          44,
          45,
          46,
          47,
          48,
          49,
          50,
          51,
          52,
          53,
          54,
          55,
          56,
          57,
          58,
          59,
          60,
          61,
          62,
          63,
          64,
          65,
          66,
          67,
          68,
          69,
          70,
          71,
          72,
          73,
          74,
          75,
          76,
          77,
          78,
          79,
          80,
          81,
          82,
          83,
          84,
          85,
          86,
          87,
          88,
          89,
          90,
          91,
          92,
          93,
          94,
          95,
          96,
          97,
          98,
          99
         ],
         "y": [
          0.9539466666666667,
          0.9716933333333333,
          0.9716799999999999,
          0.9779433333333334,
          0.9811866666666668,
          0.9839899999999999,
          0.9859566666666666,
          0.9868566666666666,
          0.9821699999999999,
          0.9842366666666666,
          0.9876099999999999,
          0.9865533333333333,
          0.9872933333333334,
          0.9873533333333334,
          0.9905733333333334,
          0.9910866666666667,
          0.9881033333333333,
          0.9883066666666667,
          0.98548,
          0.9875566666666667,
          0.9901566666666668,
          0.9884066666666667,
          0.98898,
          0.9907966666666668,
          0.9919266666666666,
          0.9913266666666665,
          0.9899933333333334,
          0.9912833333333333,
          0.9853733333333333,
          0.9882966666666665,
          0.9884466666666666,
          0.98754,
          0.9867199999999999,
          0.9900533333333333,
          0.9883766666666668,
          0.99016,
          0.9910566666666667,
          0.9895733333333333,
          0.9905766666666668,
          0.9915433333333333,
          0.9903500000000001,
          0.9862166666666666,
          0.9865033333333333,
          0.98977,
          0.9911433333333333,
          0.9917966666666665,
          0.9908499999999999,
          0.9927833333333334,
          0.9927,
          0.99189,
          0.9939899999999999,
          0.9922766666666668,
          0.9877933333333334,
          0.98771,
          0.9887233333333334,
          0.9899166666666666,
          0.9907733333333333,
          0.9895200000000001,
          0.9896900000000001,
          0.9913166666666667,
          0.9899766666666668,
          0.9920733333333334,
          0.9887999999999999,
          0.9884066666666667,
          0.9909933333333333,
          0.9908833333333332,
          0.99023,
          0.9916266666666668,
          0.9895066666666666,
          0.99236,
          0.9869166666666669,
          0.98668,
          0.9903866666666666,
          0.9926899999999999,
          0.9900800000000001,
          0.99217,
          0.9895100000000002,
          0.9908633333333333,
          0.9898233333333334,
          0.9864933333333334,
          0.98847,
          0.9890500000000002,
          0.9893733333333332,
          0.9909266666666667,
          0.9904,
          0.9913199999999999,
          0.9865866666666668,
          0.9869000000000002,
          0.9889266666666667,
          0.9903433333333332,
          0.9906366666666667,
          0.98807,
          0.9887900000000001,
          0.9921466666666666,
          0.9911899999999999,
          0.9925033333333333,
          0.9867399999999998,
          0.9883033333333333,
          0.9878700000000001,
          0.9894166666666668
         ]
        }
       ],
       "layout": {
        "height": 900,
        "legend": {
         "font": {
          "size": 24
         },
         "x": 1,
         "xanchor": "right",
         "y": 0,
         "yanchor": "auto"
        },
        "shapes": [
         {
          "line": {
           "color": "gray",
           "dash": "solid"
          },
          "type": "line",
          "x0": 0,
          "x1": 1,
          "xref": "paper",
          "y0": 0.99,
          "y1": 0.99,
          "yref": "y"
         }
        ],
        "template": {
         "data": {
          "bar": [
           {
            "error_x": {
             "color": "#2a3f5f"
            },
            "error_y": {
             "color": "#2a3f5f"
            },
            "marker": {
             "line": {
              "color": "#E5ECF6",
              "width": 0.5
             },
             "pattern": {
              "fillmode": "overlay",
              "size": 10,
              "solidity": 0.2
             }
            },
            "type": "bar"
           }
          ],
          "barpolar": [
           {
            "marker": {
             "line": {
              "color": "#E5ECF6",
              "width": 0.5
             },
             "pattern": {
              "fillmode": "overlay",
              "size": 10,
              "solidity": 0.2
             }
            },
            "type": "barpolar"
           }
          ],
          "carpet": [
           {
            "aaxis": {
             "endlinecolor": "#2a3f5f",
             "gridcolor": "white",
             "linecolor": "white",
             "minorgridcolor": "white",
             "startlinecolor": "#2a3f5f"
            },
            "baxis": {
             "endlinecolor": "#2a3f5f",
             "gridcolor": "white",
             "linecolor": "white",
             "minorgridcolor": "white",
             "startlinecolor": "#2a3f5f"
            },
            "type": "carpet"
           }
          ],
          "choropleth": [
           {
            "colorbar": {
             "outlinewidth": 0,
             "ticks": ""
            },
            "type": "choropleth"
           }
          ],
          "contour": [
           {
            "colorbar": {
             "outlinewidth": 0,
             "ticks": ""
            },
            "colorscale": [
             [
              0,
              "#0d0887"
             ],
             [
              0.1111111111111111,
              "#46039f"
             ],
             [
              0.2222222222222222,
              "#7201a8"
             ],
             [
              0.3333333333333333,
              "#9c179e"
             ],
             [
              0.4444444444444444,
              "#bd3786"
             ],
             [
              0.5555555555555556,
              "#d8576b"
             ],
             [
              0.6666666666666666,
              "#ed7953"
             ],
             [
              0.7777777777777778,
              "#fb9f3a"
             ],
             [
              0.8888888888888888,
              "#fdca26"
             ],
             [
              1,
              "#f0f921"
             ]
            ],
            "type": "contour"
           }
          ],
          "contourcarpet": [
           {
            "colorbar": {
             "outlinewidth": 0,
             "ticks": ""
            },
            "type": "contourcarpet"
           }
          ],
          "heatmap": [
           {
            "colorbar": {
             "outlinewidth": 0,
             "ticks": ""
            },
            "colorscale": [
             [
              0,
              "#0d0887"
             ],
             [
              0.1111111111111111,
              "#46039f"
             ],
             [
              0.2222222222222222,
              "#7201a8"
             ],
             [
              0.3333333333333333,
              "#9c179e"
             ],
             [
              0.4444444444444444,
              "#bd3786"
             ],
             [
              0.5555555555555556,
              "#d8576b"
             ],
             [
              0.6666666666666666,
              "#ed7953"
             ],
             [
              0.7777777777777778,
              "#fb9f3a"
             ],
             [
              0.8888888888888888,
              "#fdca26"
             ],
             [
              1,
              "#f0f921"
             ]
            ],
            "type": "heatmap"
           }
          ],
          "heatmapgl": [
           {
            "colorbar": {
             "outlinewidth": 0,
             "ticks": ""
            },
            "colorscale": [
             [
              0,
              "#0d0887"
             ],
             [
              0.1111111111111111,
              "#46039f"
             ],
             [
              0.2222222222222222,
              "#7201a8"
             ],
             [
              0.3333333333333333,
              "#9c179e"
             ],
             [
              0.4444444444444444,
              "#bd3786"
             ],
             [
              0.5555555555555556,
              "#d8576b"
             ],
             [
              0.6666666666666666,
              "#ed7953"
             ],
             [
              0.7777777777777778,
              "#fb9f3a"
             ],
             [
              0.8888888888888888,
              "#fdca26"
             ],
             [
              1,
              "#f0f921"
             ]
            ],
            "type": "heatmapgl"
           }
          ],
          "histogram": [
           {
            "marker": {
             "pattern": {
              "fillmode": "overlay",
              "size": 10,
              "solidity": 0.2
             }
            },
            "type": "histogram"
           }
          ],
          "histogram2d": [
           {
            "colorbar": {
             "outlinewidth": 0,
             "ticks": ""
            },
            "colorscale": [
             [
              0,
              "#0d0887"
             ],
             [
              0.1111111111111111,
              "#46039f"
             ],
             [
              0.2222222222222222,
              "#7201a8"
             ],
             [
              0.3333333333333333,
              "#9c179e"
             ],
             [
              0.4444444444444444,
              "#bd3786"
             ],
             [
              0.5555555555555556,
              "#d8576b"
             ],
             [
              0.6666666666666666,
              "#ed7953"
             ],
             [
              0.7777777777777778,
              "#fb9f3a"
             ],
             [
              0.8888888888888888,
              "#fdca26"
             ],
             [
              1,
              "#f0f921"
             ]
            ],
            "type": "histogram2d"
           }
          ],
          "histogram2dcontour": [
           {
            "colorbar": {
             "outlinewidth": 0,
             "ticks": ""
            },
            "colorscale": [
             [
              0,
              "#0d0887"
             ],
             [
              0.1111111111111111,
              "#46039f"
             ],
             [
              0.2222222222222222,
              "#7201a8"
             ],
             [
              0.3333333333333333,
              "#9c179e"
             ],
             [
              0.4444444444444444,
              "#bd3786"
             ],
             [
              0.5555555555555556,
              "#d8576b"
             ],
             [
              0.6666666666666666,
              "#ed7953"
             ],
             [
              0.7777777777777778,
              "#fb9f3a"
             ],
             [
              0.8888888888888888,
              "#fdca26"
             ],
             [
              1,
              "#f0f921"
             ]
            ],
            "type": "histogram2dcontour"
           }
          ],
          "mesh3d": [
           {
            "colorbar": {
             "outlinewidth": 0,
             "ticks": ""
            },
            "type": "mesh3d"
           }
          ],
          "parcoords": [
           {
            "line": {
             "colorbar": {
              "outlinewidth": 0,
              "ticks": ""
             }
            },
            "type": "parcoords"
           }
          ],
          "pie": [
           {
            "automargin": true,
            "type": "pie"
           }
          ],
          "scatter": [
           {
            "fillpattern": {
             "fillmode": "overlay",
             "size": 10,
             "solidity": 0.2
            },
            "type": "scatter"
           }
          ],
          "scatter3d": [
           {
            "line": {
             "colorbar": {
              "outlinewidth": 0,
              "ticks": ""
             }
            },
            "marker": {
             "colorbar": {
              "outlinewidth": 0,
              "ticks": ""
             }
            },
            "type": "scatter3d"
           }
          ],
          "scattercarpet": [
           {
            "marker": {
             "colorbar": {
              "outlinewidth": 0,
              "ticks": ""
             }
            },
            "type": "scattercarpet"
           }
          ],
          "scattergeo": [
           {
            "marker": {
             "colorbar": {
              "outlinewidth": 0,
              "ticks": ""
             }
            },
            "type": "scattergeo"
           }
          ],
          "scattergl": [
           {
            "marker": {
             "colorbar": {
              "outlinewidth": 0,
              "ticks": ""
             }
            },
            "type": "scattergl"
           }
          ],
          "scattermapbox": [
           {
            "marker": {
             "colorbar": {
              "outlinewidth": 0,
              "ticks": ""
             }
            },
            "type": "scattermapbox"
           }
          ],
          "scatterpolar": [
           {
            "marker": {
             "colorbar": {
              "outlinewidth": 0,
              "ticks": ""
             }
            },
            "type": "scatterpolar"
           }
          ],
          "scatterpolargl": [
           {
            "marker": {
             "colorbar": {
              "outlinewidth": 0,
              "ticks": ""
             }
            },
            "type": "scatterpolargl"
           }
          ],
          "scatterternary": [
           {
            "marker": {
             "colorbar": {
              "outlinewidth": 0,
              "ticks": ""
             }
            },
            "type": "scatterternary"
           }
          ],
          "surface": [
           {
            "colorbar": {
             "outlinewidth": 0,
             "ticks": ""
            },
            "colorscale": [
             [
              0,
              "#0d0887"
             ],
             [
              0.1111111111111111,
              "#46039f"
             ],
             [
              0.2222222222222222,
              "#7201a8"
             ],
             [
              0.3333333333333333,
              "#9c179e"
             ],
             [
              0.4444444444444444,
              "#bd3786"
             ],
             [
              0.5555555555555556,
              "#d8576b"
             ],
             [
              0.6666666666666666,
              "#ed7953"
             ],
             [
              0.7777777777777778,
              "#fb9f3a"
             ],
             [
              0.8888888888888888,
              "#fdca26"
             ],
             [
              1,
              "#f0f921"
             ]
            ],
            "type": "surface"
           }
          ],
          "table": [
           {
            "cells": {
             "fill": {
              "color": "#EBF0F8"
             },
             "line": {
              "color": "white"
             }
            },
            "header": {
             "fill": {
              "color": "#C8D4E3"
             },
             "line": {
              "color": "white"
             }
            },
            "type": "table"
           }
          ]
         },
         "layout": {
          "annotationdefaults": {
           "arrowcolor": "#2a3f5f",
           "arrowhead": 0,
           "arrowwidth": 1
          },
          "autotypenumbers": "strict",
          "coloraxis": {
           "colorbar": {
            "outlinewidth": 0,
            "ticks": ""
           }
          },
          "colorscale": {
           "diverging": [
            [
             0,
             "#8e0152"
            ],
            [
             0.1,
             "#c51b7d"
            ],
            [
             0.2,
             "#de77ae"
            ],
            [
             0.3,
             "#f1b6da"
            ],
            [
             0.4,
             "#fde0ef"
            ],
            [
             0.5,
             "#f7f7f7"
            ],
            [
             0.6,
             "#e6f5d0"
            ],
            [
             0.7,
             "#b8e186"
            ],
            [
             0.8,
             "#7fbc41"
            ],
            [
             0.9,
             "#4d9221"
            ],
            [
             1,
             "#276419"
            ]
           ],
           "sequential": [
            [
             0,
             "#0d0887"
            ],
            [
             0.1111111111111111,
             "#46039f"
            ],
            [
             0.2222222222222222,
             "#7201a8"
            ],
            [
             0.3333333333333333,
             "#9c179e"
            ],
            [
             0.4444444444444444,
             "#bd3786"
            ],
            [
             0.5555555555555556,
             "#d8576b"
            ],
            [
             0.6666666666666666,
             "#ed7953"
            ],
            [
             0.7777777777777778,
             "#fb9f3a"
            ],
            [
             0.8888888888888888,
             "#fdca26"
            ],
            [
             1,
             "#f0f921"
            ]
           ],
           "sequentialminus": [
            [
             0,
             "#0d0887"
            ],
            [
             0.1111111111111111,
             "#46039f"
            ],
            [
             0.2222222222222222,
             "#7201a8"
            ],
            [
             0.3333333333333333,
             "#9c179e"
            ],
            [
             0.4444444444444444,
             "#bd3786"
            ],
            [
             0.5555555555555556,
             "#d8576b"
            ],
            [
             0.6666666666666666,
             "#ed7953"
            ],
            [
             0.7777777777777778,
             "#fb9f3a"
            ],
            [
             0.8888888888888888,
             "#fdca26"
            ],
            [
             1,
             "#f0f921"
            ]
           ]
          },
          "colorway": [
           "#636efa",
           "#EF553B",
           "#00cc96",
           "#ab63fa",
           "#FFA15A",
           "#19d3f3",
           "#FF6692",
           "#B6E880",
           "#FF97FF",
           "#FECB52"
          ],
          "font": {
           "color": "#2a3f5f"
          },
          "geo": {
           "bgcolor": "white",
           "lakecolor": "white",
           "landcolor": "#E5ECF6",
           "showlakes": true,
           "showland": true,
           "subunitcolor": "white"
          },
          "hoverlabel": {
           "align": "left"
          },
          "hovermode": "closest",
          "mapbox": {
           "style": "light"
          },
          "paper_bgcolor": "white",
          "plot_bgcolor": "#E5ECF6",
          "polar": {
           "angularaxis": {
            "gridcolor": "white",
            "linecolor": "white",
            "ticks": ""
           },
           "bgcolor": "#E5ECF6",
           "radialaxis": {
            "gridcolor": "white",
            "linecolor": "white",
            "ticks": ""
           }
          },
          "scene": {
           "xaxis": {
            "backgroundcolor": "#E5ECF6",
            "gridcolor": "white",
            "gridwidth": 2,
            "linecolor": "white",
            "showbackground": true,
            "ticks": "",
            "zerolinecolor": "white"
           },
           "yaxis": {
            "backgroundcolor": "#E5ECF6",
            "gridcolor": "white",
            "gridwidth": 2,
            "linecolor": "white",
            "showbackground": true,
            "ticks": "",
            "zerolinecolor": "white"
           },
           "zaxis": {
            "backgroundcolor": "#E5ECF6",
            "gridcolor": "white",
            "gridwidth": 2,
            "linecolor": "white",
            "showbackground": true,
            "ticks": "",
            "zerolinecolor": "white"
           }
          },
          "shapedefaults": {
           "line": {
            "color": "#2a3f5f"
           }
          },
          "ternary": {
           "aaxis": {
            "gridcolor": "white",
            "linecolor": "white",
            "ticks": ""
           },
           "baxis": {
            "gridcolor": "white",
            "linecolor": "white",
            "ticks": ""
           },
           "bgcolor": "#E5ECF6",
           "caxis": {
            "gridcolor": "white",
            "linecolor": "white",
            "ticks": ""
           }
          },
          "title": {
           "x": 0.05
          },
          "xaxis": {
           "automargin": true,
           "gridcolor": "white",
           "linecolor": "white",
           "ticks": "",
           "title": {
            "standoff": 15
           },
           "zerolinecolor": "white",
           "zerolinewidth": 2
          },
          "yaxis": {
           "automargin": true,
           "gridcolor": "white",
           "linecolor": "white",
           "ticks": "",
           "title": {
            "standoff": 15
           },
           "zerolinecolor": "white",
           "zerolinewidth": 2
          }
         }
        },
        "title": {
         "font": {
          "size": 24
         },
         "text": "feddbscan (Testing Accuracy vs Communication rounds)"
        },
        "width": 1200,
        "xaxis": {
         "title": {
          "font": {
           "size": 20
          },
          "text": "Communication Rounds"
         }
        },
        "yaxis": {
         "title": {
          "font": {
           "size": 20
          },
          "text": "Testing Accuracy"
         }
        }
       }
      }
     },
     "metadata": {},
     "output_type": "display_data"
    },
    {
     "name": "stderr",
     "output_type": "stream",
     "text": [
      "100%|██████████| 1/1 [00:00<00:00,  6.33it/s]\n"
     ]
    }
   ],
   "source": [
    "import os\n",
    "import json\n",
    "import plotly.graph_objs as go\n",
    "from tqdm import tqdm\n",
    "import plotly.express as px\n",
    "import plotly.io as pio\n",
    "\n",
    "path_to_json_files = '../save/json/mnist/'\n",
    "# x_len = []\n",
    "# for folder_name in ['fedavg','fedsem','fedsem_r','feddbscan','feddfs']: \n",
    "#     for json_file_name in os.listdir(os.path.join(path_to_json_files, folder_name)):\n",
    "#         if not json_file_name.endswith('.json'):\n",
    "#             continue\n",
    "#         with open(os.path.join(path_to_json_files, folder_name, json_file_name)) as json_file:\n",
    "#             json_text = json.load(json_file)\n",
    "#             acc = json_text['test_accuracy']\n",
    "#             x_len.append(len(acc))\n",
    "# print(x_len)\n",
    "for folder_name in tqdm(['feddbscan']): # ['fedavg','fedsem','fedsem_r','feddbscan']\n",
    "    # if folder_name.startswith('.') or 'others' in folder_name or 'desktop.ini' in folder_name:\n",
    "    #     continue\n",
    "    # color = list(go.colors.TABLEAU)  # Using Plotly's color palette\n",
    "    color_scale = ['#636EFA','#EF553B','#FFA15A','#00CC96' ]\n",
    "    data = []\n",
    "    file_names = []\n",
    "    i=0\n",
    "    for json_file_name in sorted(os.listdir(os.path.join(path_to_json_files, folder_name))):\n",
    "        if not json_file_name.endswith('.json'):\n",
    "            continue\n",
    "        file_names.append(json_file_name)\n",
    "    sorted_names = sorted(file_names, key=lambda x: x[-8:])\n",
    "    for json_file_name in sorted_names:\n",
    "        fn_ls = json_file_name.split('.json')[0].split('_')\n",
    "        with open(os.path.join(path_to_json_files, folder_name, json_file_name)) as json_file:\n",
    "            json_text = json.load(json_file)\n",
    "            acc = json_text['test_accuracy']\n",
    "            # i_idx = json_file_name.find('iid')\n",
    "            # a_idx = json_file_name.find('_test_')\n",
    "            # e_idx = json_file_name.find('E[')+2\n",
    "            # if 'Clusters' in json_file_name:\n",
    "            #     c_idx = json_file_name.find('Clusters')\n",
    "            #     label_n = \"multi-center({})\".format(json_file_name[c_idx + 9:fn_idx - 2]) + json_file_name[fn_idx:-5] + \"({})\".format(len(acc)) # -2: ]_iid\n",
    "            # else:\n",
    "            # label_n = f'{folder_name}_mnist_'+json_file_name[i_idx:json_file_name.find('_E[')]+ f\"({len(acc)})\" # json_file_name[e_idx:json_file_name.find('.json')-1]\n",
    "            if folder_name == 'fedsem_r':\n",
    "                label_n = f'{folder_name}_mnist_'+fn_ls[-1]+ f\"({fn_ls[3][6:-1]})\"\n",
    "            else:\n",
    "                label_n = f'{folder_name}_mnist_'+fn_ls[-1]+ f\"({fn_ls[2][6:-1]})\"\n",
    "            if len(acc) == 1:\n",
    "                trace = go.Scatter(\n",
    "                x = [0,max(x_len)],\n",
    "                y = acc * 2,\n",
    "                mode='lines+markers',\n",
    "                name=label_n,\n",
    "                line=dict(color=color_scale[len(data)], dash='dash'),\n",
    "                marker=dict(symbol=symbols[i],size=15))\n",
    "            else:\n",
    "                trace = go.Scatter(\n",
    "                    x=list(range(len(acc))),\n",
    "                    y=acc,\n",
    "                    mode='lines+markers',\n",
    "                    name=label_n,\n",
    "                    line=dict(color=color_scale[len(data)], dash='dash'),\n",
    "                    marker=dict(symbol=symbols[i],size=15))\n",
    "            data.append(trace)\n",
    "            # eb_idx = json_file_name.find('E[')    \n",
    "            # img_n = json_file_name[eb_idx:-5]\n",
    "            i+=1\n",
    "    layout = go.Layout(\n",
    "        title=dict(text=f'{folder_name} (Testing Accuracy vs Communication rounds)',font=dict(size=24)),\n",
    "        xaxis=dict(title='Communication Rounds',titlefont=dict(size=20)),\n",
    "        yaxis=dict(title='Testing Accuracy',titlefont=dict(size=20)),\n",
    "        legend=dict(x=1, y=0, xanchor='right', yanchor='auto', font=dict(size=24)),\n",
    "        shapes=[{'type': 'line', 'x0': 0, 'x1': 1, 'xref': 'paper', 'y0': 0.99, 'y1': 0.99, 'yref': 'y', 'line': {'color': 'gray', 'dash': 'solid'}}]\n",
    "    )\n",
    "    fig = go.Figure(data=data, layout=layout)\n",
    "    fig.update_layout(width=1200, height=900)\n",
    "    fig.show()\n",
    "    # fig.write_image(f'../save/img/comparison/mnist/{folder_name}_test_acc_comparison.png',format='png')\n",
    "    save_path = \"../save/img/comparison/mnist/\"\n",
    "    foldname = folder_name.split('/')\n",
    "    if len(foldname) > 1:\n",
    "        fold_path = os.path.join(*foldname[:-1])\n",
    "        save_path = os.path.join(save_path,fold_path)\n",
    "    full_path = os.path.join(save_path, foldname[-1] + '.png')\n",
    "    if not os.path.exists(save_path):\n",
    "        os.makedirs(save_path)\n",
    "    pio.write_image(fig, full_path)\n"
   ]
  },
  {
   "cell_type": "code",
   "execution_count": 248,
   "metadata": {},
   "outputs": [
    {
     "name": "stderr",
     "output_type": "stream",
     "text": [
      "  0%|          | 0/1 [00:00<?, ?it/s]"
     ]
    },
    {
     "data": {
      "application/vnd.plotly.v1+json": {
       "config": {
        "plotlyServerURL": "https://plot.ly"
       },
       "data": [
        {
         "line": {
          "color": "#00CC96",
          "dash": "dash"
         },
         "marker": {
          "size": 15,
          "symbol": "circle"
         },
         "mode": "lines+markers",
         "name": "fedavg_cifar_one(nan)",
         "type": "scatter",
         "x": [
          0,
          1,
          2,
          3,
          4,
          5,
          6,
          7,
          8,
          9,
          10,
          11,
          12,
          13,
          14,
          15,
          16,
          17,
          18,
          19,
          20,
          21,
          22,
          23,
          24,
          25,
          26,
          27,
          28,
          29,
          30,
          31,
          32,
          33,
          34,
          35,
          36,
          37,
          38,
          39,
          40,
          41,
          42,
          43,
          44,
          45,
          46,
          47,
          48,
          49,
          50,
          51,
          52,
          53,
          54,
          55,
          56,
          57,
          58,
          59,
          60,
          61,
          62,
          63,
          64,
          65,
          66,
          67,
          68,
          69,
          70,
          71,
          72,
          73,
          74,
          75,
          76,
          77,
          78,
          79,
          80,
          81,
          82,
          83,
          84,
          85,
          86,
          87,
          88,
          89,
          90,
          91,
          92,
          93,
          94,
          95,
          96,
          97,
          98,
          99
         ],
         "y": [
          0.109,
          0.10041666666666667,
          0.13724999999999998,
          0.10175000000000001,
          0.1,
          0.10058333333333332,
          0.13041666666666668,
          0.10283333333333333,
          0.12883333333333333,
          0.09875000000000002,
          0.1396666666666667,
          0.10008333333333333,
          0.10041666666666665,
          0.11441666666666664,
          0.13,
          0.12258333333333332,
          0.15341666666666665,
          0.10608333333333334,
          0.14375,
          0.14125,
          0.16041666666666662,
          0.17541666666666667,
          0.16725,
          0.16658333333333336,
          0.15933333333333335,
          0.15083333333333335,
          0.151,
          0.16708333333333333,
          0.15083333333333332,
          0.16825,
          0.18500000000000003,
          0.17024999999999998,
          0.16083333333333333,
          0.13866666666666663,
          0.16108333333333338,
          0.18541666666666667,
          0.1735833333333333,
          0.1920833333333333,
          0.16816666666666666,
          0.19366666666666665,
          0.1705,
          0.21133333333333332,
          0.1716666666666667,
          0.19233333333333333,
          0.18075000000000002,
          0.1814166666666667,
          0.18416666666666665,
          0.18491666666666665,
          0.1749166666666667,
          0.2093333333333333,
          0.17341666666666666,
          0.21066666666666667,
          0.2,
          0.18158333333333332,
          0.18883333333333335,
          0.20225,
          0.19141666666666668,
          0.19258333333333333,
          0.17816666666666667,
          0.16266666666666665,
          0.17875,
          0.16333333333333336,
          0.18499999999999997,
          0.20291666666666666,
          0.19608333333333333,
          0.19233333333333333,
          0.19383333333333327,
          0.18716666666666668,
          0.20058333333333336,
          0.1845,
          0.217,
          0.2464166666666667,
          0.23441666666666666,
          0.2514166666666666,
          0.21183333333333332,
          0.2349166666666667,
          0.22516666666666668,
          0.19633333333333333,
          0.22391666666666665,
          0.21875,
          0.21441666666666664,
          0.2076666666666667,
          0.22058333333333335,
          0.22016666666666665,
          0.1900833333333333,
          0.22175,
          0.20391666666666666,
          0.2259166666666666,
          0.19216666666666662,
          0.23299999999999996,
          0.20808333333333331,
          0.23183333333333334,
          0.2119166666666667,
          0.229,
          0.2196666666666667,
          0.23424999999999999,
          0.21525,
          0.23975000000000002,
          0.21241666666666664,
          0.216
         ]
        },
        {
         "line": {
          "color": "#636EFA",
          "dash": "dash"
         },
         "marker": {
          "size": 15,
          "symbol": "square"
         },
         "mode": "lines+markers",
         "name": "feddbscan_cifar_one(0)",
         "type": "scatter",
         "x": [
          0,
          1,
          2,
          3,
          4,
          5,
          6,
          7,
          8,
          9,
          10,
          11,
          12,
          13,
          14,
          15,
          16,
          17,
          18,
          19,
          20,
          21,
          22,
          23,
          24,
          25,
          26,
          27,
          28,
          29,
          30,
          31,
          32,
          33,
          34,
          35,
          36,
          37,
          38,
          39,
          40,
          41,
          42,
          43,
          44,
          45,
          46,
          47,
          48,
          49,
          50,
          51,
          52,
          53,
          54,
          55,
          56,
          57,
          58,
          59,
          60,
          61,
          62,
          63,
          64,
          65,
          66,
          67,
          68,
          69,
          70,
          71,
          72,
          73,
          74,
          75,
          76,
          77,
          78,
          79,
          80,
          81,
          82,
          83,
          84,
          85,
          86,
          87,
          88,
          89,
          90,
          91,
          92,
          93,
          94,
          95,
          96,
          97,
          98,
          99
         ],
         "y": [
          1,
          1,
          1,
          1,
          1,
          1,
          1,
          1,
          1,
          1,
          1,
          1,
          1,
          1,
          1,
          1,
          1,
          1,
          1,
          1,
          1,
          1,
          1,
          1,
          1,
          1,
          1,
          1,
          1,
          1,
          1,
          1,
          1,
          1,
          1,
          1,
          1,
          1,
          1,
          1,
          1,
          1,
          1,
          1,
          1,
          1,
          1,
          1,
          1,
          1,
          1,
          1,
          1,
          1,
          1,
          1,
          1,
          1,
          1,
          1,
          1,
          1,
          1,
          1,
          1,
          1,
          1,
          1,
          1,
          1,
          1,
          1,
          1,
          1,
          1,
          1,
          1,
          1,
          1,
          1,
          1,
          1,
          1,
          1,
          1,
          1,
          1,
          1,
          1,
          1,
          1,
          1,
          1,
          1,
          1,
          1,
          1,
          1,
          1,
          1
         ]
        },
        {
         "line": {
          "color": "#EF553B",
          "dash": "dash"
         },
         "marker": {
          "size": 15,
          "symbol": "diamond"
         },
         "mode": "lines+markers",
         "name": "fedsem_cifar_one(nan)",
         "type": "scatter",
         "x": [
          0,
          1,
          2,
          3,
          4,
          5,
          6,
          7,
          8,
          9,
          10,
          11,
          12,
          13,
          14,
          15,
          16,
          17,
          18,
          19,
          20,
          21,
          22,
          23,
          24,
          25,
          26,
          27,
          28,
          29,
          30,
          31,
          32,
          33,
          34,
          35,
          36,
          37,
          38,
          39,
          40,
          41,
          42,
          43,
          44,
          45,
          46,
          47,
          48,
          49,
          50,
          51,
          52,
          53,
          54,
          55,
          56,
          57,
          58,
          59,
          60,
          61,
          62,
          63,
          64,
          65,
          66,
          67,
          68,
          69,
          70,
          71,
          72,
          73,
          74,
          75,
          76,
          77,
          78,
          79,
          80,
          81,
          82,
          83,
          84,
          85,
          86,
          87,
          88,
          89,
          90,
          91,
          92,
          93,
          94,
          95,
          96,
          97,
          98,
          99
         ],
         "y": [
          0.11574999999999999,
          0.10083333333333333,
          0.1,
          0.1,
          0.1,
          0.10083333333333332,
          0.10016666666666667,
          0.13391666666666666,
          0.1383333333333333,
          0.14466666666666667,
          0.13391666666666666,
          0.15724999999999997,
          0.15508333333333335,
          0.11999999999999997,
          0.13391666666666666,
          0.13149999999999998,
          0.14541666666666667,
          0.15783333333333335,
          0.133,
          0.14508333333333334,
          0.14516666666666664,
          0.13708333333333333,
          0.14325000000000002,
          0.1438333333333333,
          0.14208333333333334,
          0.1653333333333333,
          0.15750000000000006,
          0.16208333333333333,
          0.15458333333333332,
          0.1749166666666667,
          0.178,
          0.17441666666666664,
          0.14525,
          0.17925000000000002,
          0.13883333333333336,
          0.19008333333333333,
          0.15108333333333332,
          0.1735833333333333,
          0.13249999999999998,
          0.14849999999999997,
          0.15266666666666667,
          0.18058333333333335,
          0.18183333333333337,
          0.19400000000000003,
          0.1795,
          0.19375000000000003,
          0.17791666666666667,
          0.19575,
          0.18008333333333335,
          0.19008333333333333,
          0.1716666666666666,
          0.1746666666666666,
          0.1701666666666667,
          0.18891666666666668,
          0.1676666666666667,
          0.18633333333333332,
          0.17266666666666672,
          0.19933333333333333,
          0.21641666666666665,
          0.20408333333333334,
          0.1945833333333333,
          0.20108333333333334,
          0.19599999999999998,
          0.20666666666666667,
          0.19824999999999995,
          0.19758333333333328,
          0.20516666666666666,
          0.18900000000000003,
          0.2043333333333334,
          0.16991666666666663,
          0.19725,
          0.18875,
          0.22241666666666665,
          0.19275,
          0.21308333333333332,
          0.18849999999999997,
          0.22875000000000004,
          0.22591666666666668,
          0.24250000000000002,
          0.22616666666666665,
          0.22033333333333335,
          0.2290833333333334,
          0.20366666666666663,
          0.2146666666666667,
          0.2010833333333334,
          0.19975,
          0.20066666666666666,
          0.20016666666666666,
          0.20299999999999996,
          0.21508333333333335,
          0.20391666666666666,
          0.20266666666666666,
          0.22425,
          0.23733333333333337,
          0.21608333333333332,
          0.24283333333333335,
          0.21133333333333332,
          0.20875000000000002,
          0.2233333333333333,
          0.24058333333333334
         ]
        },
        {
         "line": {
          "color": "#FFA15A",
          "dash": "dash"
         },
         "marker": {
          "size": 15,
          "symbol": "x"
         },
         "mode": "lines+markers",
         "name": "fedsem_r_cifar_one(nan)",
         "type": "scatter",
         "x": [
          0,
          1,
          2,
          3,
          4,
          5,
          6,
          7,
          8,
          9,
          10,
          11,
          12,
          13,
          14,
          15,
          16,
          17,
          18,
          19,
          20,
          21,
          22,
          23,
          24,
          25,
          26,
          27,
          28,
          29,
          30,
          31,
          32,
          33,
          34,
          35,
          36,
          37,
          38,
          39,
          40,
          41,
          42,
          43,
          44,
          45,
          46,
          47,
          48,
          49,
          50,
          51,
          52,
          53,
          54,
          55,
          56,
          57,
          58,
          59,
          60,
          61,
          62,
          63,
          64,
          65,
          66,
          67,
          68,
          69,
          70,
          71,
          72,
          73,
          74,
          75,
          76,
          77,
          78,
          79,
          80,
          81,
          82,
          83,
          84,
          85,
          86,
          87,
          88,
          89,
          90,
          91,
          92,
          93,
          94,
          95,
          96,
          97,
          98,
          99
         ],
         "y": [
          0.1046018785040669,
          0.10437872011122136,
          0.12431139909623307,
          0.10173690275013554,
          0.11497285899525427,
          0.11460336001928528,
          0.10956276789139334,
          0.10595605283240025,
          0.14304601429860825,
          0.14270601155429108,
          0.10523555593892363,
          0.11669302365166005,
          0.127864527949624,
          0.13886903656501406,
          0.12851081174447868,
          0.12045263580196923,
          0.11927461792068131,
          0.13724864643898282,
          0.11567905205804035,
          0.14996972467441383,
          0.13493773305997606,
          0.13343850399584214,
          0.13949954781707707,
          0.16649014860676398,
          0.16407511990044224,
          0.1551704707530442,
          0.15146873807433828,
          0.13591040946280702,
          0.14425456571078274,
          0.1371124990392814,
          0.16416550901402596,
          0.15531849415186416,
          0.148856813391402,
          0.1350594134603086,
          0.13218676480464672,
          0.1590556896149113,
          0.16892435374293463,
          0.16855976380651977,
          0.16894606019909073,
          0.16262986544543187,
          0.17249871392174418,
          0.18871924002480123,
          0.1794908392452506,
          0.16101546933950464,
          0.17808283183508922,
          0.18062691179005125,
          0.16181062534255566,
          0.1732130547570722,
          0.18869747261152348,
          0.18078435509019142,
          0.1859200864365929,
          0.18048378822446573,
          0.16403477623043095,
          0.16820826125073438,
          0.17091272142626182,
          0.17589132929885148,
          0.17253456683954177,
          0.1615787435847919,
          0.18927716186833096,
          0.18114431561565342,
          0.20203456151913748,
          0.1960910377139834,
          0.20476354653483556,
          0.1959242466492722,
          0.19622270753908272,
          0.19842982858044822,
          0.19880799802615828,
          0.1913442959616307,
          0.1947918553620374,
          0.1997029251656611,
          0.20016395422856442,
          0.20671316971502351,
          0.19992347555989956,
          0.2056408485970046,
          0.20637778248634892,
          0.19044534908610114,
          0.19101212300720422,
          0.20960866684457194,
          0.2037062458267245,
          0.19953374297785093,
          0.2474253134337486,
          0.22585654027505614,
          0.22282768359773888,
          0.2317401611203511,
          0.23577859728739595,
          0.2416016890289426,
          0.2670528142258102,
          0.22152190370630825,
          0.23702015056155123,
          0.2624669426136142,
          0.2636815941668853,
          0.2589098038344832,
          0.25707270660153125,
          0.2407472648145044,
          0.2682329308789546,
          0.2595594887588837,
          0.25871958015890967,
          0.26103643389684894,
          0.2463897792326224,
          0.264980302151995
         ]
        }
       ],
       "layout": {
        "height": 900,
        "legend": {
         "font": {
          "size": 24
         },
         "x": 1,
         "xanchor": "right",
         "y": 0.5,
         "yanchor": "middle"
        },
        "shapes": [
         {
          "line": {
           "color": "gray",
           "dash": "solid"
          },
          "type": "line",
          "x0": 0,
          "x1": 1,
          "xref": "paper",
          "y0": 0.7,
          "y1": 0.7,
          "yref": "y"
         }
        ],
        "template": {
         "data": {
          "bar": [
           {
            "error_x": {
             "color": "#2a3f5f"
            },
            "error_y": {
             "color": "#2a3f5f"
            },
            "marker": {
             "line": {
              "color": "#E5ECF6",
              "width": 0.5
             },
             "pattern": {
              "fillmode": "overlay",
              "size": 10,
              "solidity": 0.2
             }
            },
            "type": "bar"
           }
          ],
          "barpolar": [
           {
            "marker": {
             "line": {
              "color": "#E5ECF6",
              "width": 0.5
             },
             "pattern": {
              "fillmode": "overlay",
              "size": 10,
              "solidity": 0.2
             }
            },
            "type": "barpolar"
           }
          ],
          "carpet": [
           {
            "aaxis": {
             "endlinecolor": "#2a3f5f",
             "gridcolor": "white",
             "linecolor": "white",
             "minorgridcolor": "white",
             "startlinecolor": "#2a3f5f"
            },
            "baxis": {
             "endlinecolor": "#2a3f5f",
             "gridcolor": "white",
             "linecolor": "white",
             "minorgridcolor": "white",
             "startlinecolor": "#2a3f5f"
            },
            "type": "carpet"
           }
          ],
          "choropleth": [
           {
            "colorbar": {
             "outlinewidth": 0,
             "ticks": ""
            },
            "type": "choropleth"
           }
          ],
          "contour": [
           {
            "colorbar": {
             "outlinewidth": 0,
             "ticks": ""
            },
            "colorscale": [
             [
              0,
              "#0d0887"
             ],
             [
              0.1111111111111111,
              "#46039f"
             ],
             [
              0.2222222222222222,
              "#7201a8"
             ],
             [
              0.3333333333333333,
              "#9c179e"
             ],
             [
              0.4444444444444444,
              "#bd3786"
             ],
             [
              0.5555555555555556,
              "#d8576b"
             ],
             [
              0.6666666666666666,
              "#ed7953"
             ],
             [
              0.7777777777777778,
              "#fb9f3a"
             ],
             [
              0.8888888888888888,
              "#fdca26"
             ],
             [
              1,
              "#f0f921"
             ]
            ],
            "type": "contour"
           }
          ],
          "contourcarpet": [
           {
            "colorbar": {
             "outlinewidth": 0,
             "ticks": ""
            },
            "type": "contourcarpet"
           }
          ],
          "heatmap": [
           {
            "colorbar": {
             "outlinewidth": 0,
             "ticks": ""
            },
            "colorscale": [
             [
              0,
              "#0d0887"
             ],
             [
              0.1111111111111111,
              "#46039f"
             ],
             [
              0.2222222222222222,
              "#7201a8"
             ],
             [
              0.3333333333333333,
              "#9c179e"
             ],
             [
              0.4444444444444444,
              "#bd3786"
             ],
             [
              0.5555555555555556,
              "#d8576b"
             ],
             [
              0.6666666666666666,
              "#ed7953"
             ],
             [
              0.7777777777777778,
              "#fb9f3a"
             ],
             [
              0.8888888888888888,
              "#fdca26"
             ],
             [
              1,
              "#f0f921"
             ]
            ],
            "type": "heatmap"
           }
          ],
          "heatmapgl": [
           {
            "colorbar": {
             "outlinewidth": 0,
             "ticks": ""
            },
            "colorscale": [
             [
              0,
              "#0d0887"
             ],
             [
              0.1111111111111111,
              "#46039f"
             ],
             [
              0.2222222222222222,
              "#7201a8"
             ],
             [
              0.3333333333333333,
              "#9c179e"
             ],
             [
              0.4444444444444444,
              "#bd3786"
             ],
             [
              0.5555555555555556,
              "#d8576b"
             ],
             [
              0.6666666666666666,
              "#ed7953"
             ],
             [
              0.7777777777777778,
              "#fb9f3a"
             ],
             [
              0.8888888888888888,
              "#fdca26"
             ],
             [
              1,
              "#f0f921"
             ]
            ],
            "type": "heatmapgl"
           }
          ],
          "histogram": [
           {
            "marker": {
             "pattern": {
              "fillmode": "overlay",
              "size": 10,
              "solidity": 0.2
             }
            },
            "type": "histogram"
           }
          ],
          "histogram2d": [
           {
            "colorbar": {
             "outlinewidth": 0,
             "ticks": ""
            },
            "colorscale": [
             [
              0,
              "#0d0887"
             ],
             [
              0.1111111111111111,
              "#46039f"
             ],
             [
              0.2222222222222222,
              "#7201a8"
             ],
             [
              0.3333333333333333,
              "#9c179e"
             ],
             [
              0.4444444444444444,
              "#bd3786"
             ],
             [
              0.5555555555555556,
              "#d8576b"
             ],
             [
              0.6666666666666666,
              "#ed7953"
             ],
             [
              0.7777777777777778,
              "#fb9f3a"
             ],
             [
              0.8888888888888888,
              "#fdca26"
             ],
             [
              1,
              "#f0f921"
             ]
            ],
            "type": "histogram2d"
           }
          ],
          "histogram2dcontour": [
           {
            "colorbar": {
             "outlinewidth": 0,
             "ticks": ""
            },
            "colorscale": [
             [
              0,
              "#0d0887"
             ],
             [
              0.1111111111111111,
              "#46039f"
             ],
             [
              0.2222222222222222,
              "#7201a8"
             ],
             [
              0.3333333333333333,
              "#9c179e"
             ],
             [
              0.4444444444444444,
              "#bd3786"
             ],
             [
              0.5555555555555556,
              "#d8576b"
             ],
             [
              0.6666666666666666,
              "#ed7953"
             ],
             [
              0.7777777777777778,
              "#fb9f3a"
             ],
             [
              0.8888888888888888,
              "#fdca26"
             ],
             [
              1,
              "#f0f921"
             ]
            ],
            "type": "histogram2dcontour"
           }
          ],
          "mesh3d": [
           {
            "colorbar": {
             "outlinewidth": 0,
             "ticks": ""
            },
            "type": "mesh3d"
           }
          ],
          "parcoords": [
           {
            "line": {
             "colorbar": {
              "outlinewidth": 0,
              "ticks": ""
             }
            },
            "type": "parcoords"
           }
          ],
          "pie": [
           {
            "automargin": true,
            "type": "pie"
           }
          ],
          "scatter": [
           {
            "fillpattern": {
             "fillmode": "overlay",
             "size": 10,
             "solidity": 0.2
            },
            "type": "scatter"
           }
          ],
          "scatter3d": [
           {
            "line": {
             "colorbar": {
              "outlinewidth": 0,
              "ticks": ""
             }
            },
            "marker": {
             "colorbar": {
              "outlinewidth": 0,
              "ticks": ""
             }
            },
            "type": "scatter3d"
           }
          ],
          "scattercarpet": [
           {
            "marker": {
             "colorbar": {
              "outlinewidth": 0,
              "ticks": ""
             }
            },
            "type": "scattercarpet"
           }
          ],
          "scattergeo": [
           {
            "marker": {
             "colorbar": {
              "outlinewidth": 0,
              "ticks": ""
             }
            },
            "type": "scattergeo"
           }
          ],
          "scattergl": [
           {
            "marker": {
             "colorbar": {
              "outlinewidth": 0,
              "ticks": ""
             }
            },
            "type": "scattergl"
           }
          ],
          "scattermapbox": [
           {
            "marker": {
             "colorbar": {
              "outlinewidth": 0,
              "ticks": ""
             }
            },
            "type": "scattermapbox"
           }
          ],
          "scatterpolar": [
           {
            "marker": {
             "colorbar": {
              "outlinewidth": 0,
              "ticks": ""
             }
            },
            "type": "scatterpolar"
           }
          ],
          "scatterpolargl": [
           {
            "marker": {
             "colorbar": {
              "outlinewidth": 0,
              "ticks": ""
             }
            },
            "type": "scatterpolargl"
           }
          ],
          "scatterternary": [
           {
            "marker": {
             "colorbar": {
              "outlinewidth": 0,
              "ticks": ""
             }
            },
            "type": "scatterternary"
           }
          ],
          "surface": [
           {
            "colorbar": {
             "outlinewidth": 0,
             "ticks": ""
            },
            "colorscale": [
             [
              0,
              "#0d0887"
             ],
             [
              0.1111111111111111,
              "#46039f"
             ],
             [
              0.2222222222222222,
              "#7201a8"
             ],
             [
              0.3333333333333333,
              "#9c179e"
             ],
             [
              0.4444444444444444,
              "#bd3786"
             ],
             [
              0.5555555555555556,
              "#d8576b"
             ],
             [
              0.6666666666666666,
              "#ed7953"
             ],
             [
              0.7777777777777778,
              "#fb9f3a"
             ],
             [
              0.8888888888888888,
              "#fdca26"
             ],
             [
              1,
              "#f0f921"
             ]
            ],
            "type": "surface"
           }
          ],
          "table": [
           {
            "cells": {
             "fill": {
              "color": "#EBF0F8"
             },
             "line": {
              "color": "white"
             }
            },
            "header": {
             "fill": {
              "color": "#C8D4E3"
             },
             "line": {
              "color": "white"
             }
            },
            "type": "table"
           }
          ]
         },
         "layout": {
          "annotationdefaults": {
           "arrowcolor": "#2a3f5f",
           "arrowhead": 0,
           "arrowwidth": 1
          },
          "autotypenumbers": "strict",
          "coloraxis": {
           "colorbar": {
            "outlinewidth": 0,
            "ticks": ""
           }
          },
          "colorscale": {
           "diverging": [
            [
             0,
             "#8e0152"
            ],
            [
             0.1,
             "#c51b7d"
            ],
            [
             0.2,
             "#de77ae"
            ],
            [
             0.3,
             "#f1b6da"
            ],
            [
             0.4,
             "#fde0ef"
            ],
            [
             0.5,
             "#f7f7f7"
            ],
            [
             0.6,
             "#e6f5d0"
            ],
            [
             0.7,
             "#b8e186"
            ],
            [
             0.8,
             "#7fbc41"
            ],
            [
             0.9,
             "#4d9221"
            ],
            [
             1,
             "#276419"
            ]
           ],
           "sequential": [
            [
             0,
             "#0d0887"
            ],
            [
             0.1111111111111111,
             "#46039f"
            ],
            [
             0.2222222222222222,
             "#7201a8"
            ],
            [
             0.3333333333333333,
             "#9c179e"
            ],
            [
             0.4444444444444444,
             "#bd3786"
            ],
            [
             0.5555555555555556,
             "#d8576b"
            ],
            [
             0.6666666666666666,
             "#ed7953"
            ],
            [
             0.7777777777777778,
             "#fb9f3a"
            ],
            [
             0.8888888888888888,
             "#fdca26"
            ],
            [
             1,
             "#f0f921"
            ]
           ],
           "sequentialminus": [
            [
             0,
             "#0d0887"
            ],
            [
             0.1111111111111111,
             "#46039f"
            ],
            [
             0.2222222222222222,
             "#7201a8"
            ],
            [
             0.3333333333333333,
             "#9c179e"
            ],
            [
             0.4444444444444444,
             "#bd3786"
            ],
            [
             0.5555555555555556,
             "#d8576b"
            ],
            [
             0.6666666666666666,
             "#ed7953"
            ],
            [
             0.7777777777777778,
             "#fb9f3a"
            ],
            [
             0.8888888888888888,
             "#fdca26"
            ],
            [
             1,
             "#f0f921"
            ]
           ]
          },
          "colorway": [
           "#636efa",
           "#EF553B",
           "#00cc96",
           "#ab63fa",
           "#FFA15A",
           "#19d3f3",
           "#FF6692",
           "#B6E880",
           "#FF97FF",
           "#FECB52"
          ],
          "font": {
           "color": "#2a3f5f"
          },
          "geo": {
           "bgcolor": "white",
           "lakecolor": "white",
           "landcolor": "#E5ECF6",
           "showlakes": true,
           "showland": true,
           "subunitcolor": "white"
          },
          "hoverlabel": {
           "align": "left"
          },
          "hovermode": "closest",
          "mapbox": {
           "style": "light"
          },
          "paper_bgcolor": "white",
          "plot_bgcolor": "#E5ECF6",
          "polar": {
           "angularaxis": {
            "gridcolor": "white",
            "linecolor": "white",
            "ticks": ""
           },
           "bgcolor": "#E5ECF6",
           "radialaxis": {
            "gridcolor": "white",
            "linecolor": "white",
            "ticks": ""
           }
          },
          "scene": {
           "xaxis": {
            "backgroundcolor": "#E5ECF6",
            "gridcolor": "white",
            "gridwidth": 2,
            "linecolor": "white",
            "showbackground": true,
            "ticks": "",
            "zerolinecolor": "white"
           },
           "yaxis": {
            "backgroundcolor": "#E5ECF6",
            "gridcolor": "white",
            "gridwidth": 2,
            "linecolor": "white",
            "showbackground": true,
            "ticks": "",
            "zerolinecolor": "white"
           },
           "zaxis": {
            "backgroundcolor": "#E5ECF6",
            "gridcolor": "white",
            "gridwidth": 2,
            "linecolor": "white",
            "showbackground": true,
            "ticks": "",
            "zerolinecolor": "white"
           }
          },
          "shapedefaults": {
           "line": {
            "color": "#2a3f5f"
           }
          },
          "ternary": {
           "aaxis": {
            "gridcolor": "white",
            "linecolor": "white",
            "ticks": ""
           },
           "baxis": {
            "gridcolor": "white",
            "linecolor": "white",
            "ticks": ""
           },
           "bgcolor": "#E5ECF6",
           "caxis": {
            "gridcolor": "white",
            "linecolor": "white",
            "ticks": ""
           }
          },
          "title": {
           "x": 0.05
          },
          "xaxis": {
           "automargin": true,
           "gridcolor": "white",
           "linecolor": "white",
           "ticks": "",
           "title": {
            "standoff": 15
           },
           "zerolinecolor": "white",
           "zerolinewidth": 2
          },
          "yaxis": {
           "automargin": true,
           "gridcolor": "white",
           "linecolor": "white",
           "ticks": "",
           "title": {
            "standoff": 15
           },
           "zerolinecolor": "white",
           "zerolinewidth": 2
          }
         }
        },
        "title": {
         "font": {
          "size": 24
         },
         "text": "non-iid/one (Testing Accuracy vs Communication rounds)"
        },
        "width": 1200,
        "xaxis": {
         "title": {
          "font": {
           "size": 20
          },
          "text": "Communication Rounds"
         }
        },
        "yaxis": {
         "title": {
          "font": {
           "size": 20
          },
          "text": "Testing Accuracy"
         }
        }
       }
      }
     },
     "metadata": {},
     "output_type": "display_data"
    },
    {
     "name": "stderr",
     "output_type": "stream",
     "text": [
      "100%|██████████| 1/1 [00:00<00:00,  6.45it/s]\n"
     ]
    }
   ],
   "source": [
    "import os\n",
    "import json\n",
    "import plotly.graph_objs as go\n",
    "from tqdm import tqdm\n",
    "import plotly.express as px\n",
    "import plotly.io as pio\n",
    "\n",
    "path_to_json_files = '../save/json/cifar/'\n",
    "# x_len = []\n",
    "# for folder_name in ['iid','non-iid/one','non-iid/two','non-iid/unequal']: \n",
    "#     for json_file_name in os.listdir(os.path.join(path_to_json_files, folder_name)):\n",
    "#         if not json_file_name.endswith('.json'):\n",
    "#             continue\n",
    "#         with open(os.path.join(path_to_json_files, folder_name, json_file_name)) as json_file:\n",
    "#             json_text = json.load(json_file)\n",
    "#             acc = json_text['test_accuracy']\n",
    "#             x_len.append(len(acc))\n",
    "# print(x_len)\n",
    "for folder_name in tqdm(['non-iid/one']): # ['iid','non-iid/one','non-iid/two','non-iid/unequal']\n",
    "    # if folder_name.startswith('.') or 'others' in folder_name or 'desktop.ini' in folder_name:\n",
    "    #     continue\n",
    "    # color = list(go.colors.TABLEAU)  # Using Plotly's color palette\n",
    "    # color_scale = px.colors.qualitative.Plotly\n",
    "    color_scale = ['#00CC96' ,'#636EFA','#EF553B','#FFA15A']\n",
    "    data = []\n",
    "    i=0\n",
    "    for json_file_name in sorted(os.listdir(os.path.join(path_to_json_files, folder_name))):\n",
    "        if not json_file_name.endswith('.json'):\n",
    "            continue\n",
    "        fn_ls = json_file_name.split('.json')[0].split('_')\n",
    "        with open(os.path.join(path_to_json_files, folder_name, json_file_name)) as json_file:\n",
    "            json_text = json.load(json_file)\n",
    "            acc = json_text['test_accuracy']\n",
    "            # i_idx = json_file_name.find('iid')\n",
    "            a_idx = json_file_name.find('_cifar_')\n",
    "            # e_idx = json_file_name.find('E[')+2\n",
    "            # if 'Clusters' in json_file_name:\n",
    "            #     c_idx = json_file_name.find('Clusters')\n",
    "            #     label_n = \"multi-center({})\".format(json_file_name[c_idx + 9:fn_idx - 2]) + json_file_name[fn_idx:-5] + \"({})\".format(len(acc)) # -2: ]_iid\n",
    "            # else:\n",
    "            # label_n = json_file_name[:a_idx]+'_cifar_'+json_file_name[i_idx:json_file_name.find('_E[')]+ f\"({len(acc)})\" # json_file_name[e_idx:json_file_name.find('.json')-1]\n",
    "            if 'fedsem_r' in json_file_name[:a_idx]:\n",
    "                label_n = json_file_name[:a_idx]+'_cifar_'+ fn_ls[-1]+ f\"({fn_ls[3][6:-1]})\"\n",
    "            else:\n",
    "                label_n = json_file_name[:a_idx]+'_cifar_'+ fn_ls[-1]+ f\"({fn_ls[2][6:-1]})\"\n",
    "            if len(acc) == 1:\n",
    "                trace = go.Scatter(\n",
    "                x = [0,max(x_len)],\n",
    "                y = acc * 2,\n",
    "                mode='lines+markers',\n",
    "                name=label_n,\n",
    "                line=dict(color=color_scale[len(data)], dash='dash'),\n",
    "                marker=dict(symbol=symbols[i],size=15))\n",
    "            else:\n",
    "                trace = go.Scatter(\n",
    "                    x=list(range(len(acc))),\n",
    "                    y=acc,\n",
    "                    mode='lines+markers',\n",
    "                    name=label_n,\n",
    "                    line=dict(color=color_scale[len(data)], dash='dash'),\n",
    "                    marker=dict(symbol=symbols[i],size=15))\n",
    "            data.append(trace)\n",
    "            # eb_idx = json_file_name.find('E[')    \n",
    "            # img_n = json_file_name[eb_idx:-5]\n",
    "            i+=1\n",
    "    if 'one' in folder_name:\n",
    "            layout = go.Layout(\n",
    "            title=dict(text=f'{folder_name} (Testing Accuracy vs Communication rounds)',font=dict(size=24)),\n",
    "            xaxis=dict(title='Communication Rounds',titlefont=dict(size=20)),\n",
    "            yaxis=dict(title='Testing Accuracy',titlefont=dict(size=20)),\n",
    "            legend=dict(x=1, y=0.5, xanchor='right', yanchor='middle', font=dict(size=24)),\n",
    "            shapes=[{'type': 'line', 'x0': 0, 'x1': 1, 'xref': 'paper', 'y0': 0.7, 'y1': 0.7, 'yref': 'y', 'line': {'color': 'gray', 'dash': 'solid'}}]\n",
    "        )\n",
    "    else:\n",
    "        layout = go.Layout(\n",
    "            title=dict(text=f'{folder_name} (Testing Accuracy vs Communication rounds)',font=dict(size=24)),\n",
    "            xaxis=dict(title='Communication Rounds',titlefont=dict(size=20)),\n",
    "            yaxis=dict(title='Testing Accuracy',titlefont=dict(size=20)),\n",
    "            legend=dict(x=1, y=0, xanchor='right', yanchor='bottom', font=dict(size=24)),\n",
    "            shapes=[{'type': 'line', 'x0': 0, 'x1': 1, 'xref': 'paper', 'y0': 0.7, 'y1': 0.7, 'yref': 'y', 'line': {'color': 'gray', 'dash': 'solid'}}]\n",
    "        )\n",
    "    \n",
    "    fig = go.Figure(data=data, layout=layout)\n",
    "    fig.update_layout(width=1200, height=900)\n",
    "    fig.show()\n",
    "    # fig.write_image(f'../save/img/comparison/mnist/{folder_name}_test_acc_comparison.png',format='png')\n",
    "    save_path = \"../save/img/comparison/cifar/\"\n",
    "    foldname = folder_name.split('/')\n",
    "    if len(foldname) > 1:\n",
    "        fold_path = os.path.join(*foldname[:-1])\n",
    "        save_path = os.path.join(save_path,fold_path)\n",
    "    full_path = os.path.join(save_path, foldname[-1] + '.png')\n",
    "    if not os.path.exists(save_path):\n",
    "        os.makedirs(save_path)\n",
    "    pio.write_image(fig, full_path)\n"
   ]
  },
  {
   "cell_type": "code",
   "execution_count": 243,
   "metadata": {},
   "outputs": [
    {
     "name": "stderr",
     "output_type": "stream",
     "text": [
      "  0%|          | 0/4 [00:00<?, ?it/s]"
     ]
    },
    {
     "data": {
      "application/vnd.plotly.v1+json": {
       "config": {
        "plotlyServerURL": "https://plot.ly"
       },
       "data": [
        {
         "line": {
          "color": "#636EFA",
          "dash": "dash"
         },
         "marker": {
          "size": 15,
          "symbol": "circle"
         },
         "mode": "lines+markers",
         "name": "fedavg_cifar_iid(16)",
         "type": "scatter",
         "x": [
          0,
          1,
          2,
          3,
          4,
          5,
          6,
          7,
          8,
          9,
          10,
          11,
          12,
          13,
          14,
          15,
          16,
          17,
          18,
          19,
          20,
          21,
          22,
          23,
          24,
          25,
          26,
          27,
          28,
          29,
          30,
          31,
          32,
          33,
          34,
          35,
          36,
          37,
          38,
          39,
          40,
          41,
          42,
          43,
          44,
          45,
          46,
          47,
          48,
          49,
          50,
          51,
          52,
          53,
          54,
          55,
          56,
          57,
          58,
          59,
          60,
          61,
          62,
          63,
          64,
          65,
          66,
          67,
          68,
          69,
          70,
          71,
          72,
          73,
          74,
          75,
          76,
          77,
          78,
          79,
          80,
          81,
          82,
          83,
          84,
          85,
          86,
          87,
          88,
          89,
          90,
          91,
          92,
          93,
          94,
          95,
          96,
          97,
          98,
          99
         ],
         "y": [
          0.3756666666666667,
          0.4317500000000001,
          0.47333333333333333,
          0.5223333333333333,
          0.5589999999999999,
          0.5703333333333335,
          0.58675,
          0.6087500000000002,
          0.6311666666666668,
          0.6443333333333333,
          0.6605,
          0.67175,
          0.6656666666666667,
          0.6903333333333332,
          0.6904166666666666,
          0.697,
          0.7082499999999999,
          0.7152499999999999,
          0.7178333333333331,
          0.7211666666666668,
          0.7245000000000001,
          0.7253333333333334,
          0.7307500000000001,
          0.7307499999999999,
          0.7415833333333333,
          0.7410000000000001,
          0.7439999999999999,
          0.7501666666666668,
          0.7453333333333333,
          0.7535,
          0.7490000000000001,
          0.7533333333333332,
          0.7564166666666667,
          0.7513333333333334,
          0.7551666666666665,
          0.7610000000000002,
          0.7605000000000001,
          0.7606666666666667,
          0.7559166666666666,
          0.7639166666666667,
          0.7655833333333334,
          0.7702500000000001,
          0.7676666666666667,
          0.7662499999999999,
          0.7677499999999999,
          0.7713333333333333,
          0.7709999999999998,
          0.7768333333333332,
          0.7734999999999999,
          0.772,
          0.7740833333333332,
          0.7711666666666666,
          0.7685833333333333,
          0.7740833333333333,
          0.7725833333333334,
          0.7771666666666667,
          0.7709166666666666,
          0.7810833333333334,
          0.7789166666666669,
          0.7762500000000003,
          0.7835,
          0.7875,
          0.7799166666666667,
          0.7740833333333333,
          0.7822500000000001,
          0.7804166666666666,
          0.7853333333333334,
          0.7847500000000002,
          0.7912500000000001,
          0.7840833333333331,
          0.7815833333333334,
          0.785,
          0.7902500000000001,
          0.7789166666666668,
          0.7834166666666668,
          0.7844166666666667,
          0.7808333333333334,
          0.7834166666666669,
          0.7869166666666666,
          0.7822500000000001,
          0.7861666666666665,
          0.7840000000000001,
          0.7887500000000001,
          0.7838333333333335,
          0.7834166666666669,
          0.7915000000000002,
          0.7895000000000001,
          0.7856666666666666,
          0.7907499999999998,
          0.7921666666666668,
          0.7848333333333332,
          0.7877500000000001,
          0.7920833333333335,
          0.7804999999999999,
          0.79225,
          0.7838333333333334,
          0.7897499999999998,
          0.7890833333333334,
          0.7954166666666665,
          0.7878333333333333
         ]
        },
        {
         "line": {
          "color": "#EF553B",
          "dash": "dash"
         },
         "marker": {
          "size": 15,
          "symbol": "square"
         },
         "mode": "lines+markers",
         "name": "fedavg_cifar_one(nan)",
         "type": "scatter",
         "x": [
          0,
          1,
          2,
          3,
          4,
          5,
          6,
          7,
          8,
          9,
          10,
          11,
          12,
          13,
          14,
          15,
          16,
          17,
          18,
          19,
          20,
          21,
          22,
          23,
          24,
          25,
          26,
          27,
          28,
          29,
          30,
          31,
          32,
          33,
          34,
          35,
          36,
          37,
          38,
          39,
          40,
          41,
          42,
          43,
          44,
          45,
          46,
          47,
          48,
          49,
          50,
          51,
          52,
          53,
          54,
          55,
          56,
          57,
          58,
          59,
          60,
          61,
          62,
          63,
          64,
          65,
          66,
          67,
          68,
          69,
          70,
          71,
          72,
          73,
          74,
          75,
          76,
          77,
          78,
          79,
          80,
          81,
          82,
          83,
          84,
          85,
          86,
          87,
          88,
          89,
          90,
          91,
          92,
          93,
          94,
          95,
          96,
          97,
          98,
          99
         ],
         "y": [
          0.109,
          0.10041666666666667,
          0.13724999999999998,
          0.10175000000000001,
          0.1,
          0.10058333333333332,
          0.13041666666666668,
          0.10283333333333333,
          0.12883333333333333,
          0.09875000000000002,
          0.1396666666666667,
          0.10008333333333333,
          0.10041666666666665,
          0.11441666666666664,
          0.13,
          0.12258333333333332,
          0.15341666666666665,
          0.10608333333333334,
          0.14375,
          0.14125,
          0.16041666666666662,
          0.17541666666666667,
          0.16725,
          0.16658333333333336,
          0.15933333333333335,
          0.15083333333333335,
          0.151,
          0.16708333333333333,
          0.15083333333333332,
          0.16825,
          0.18500000000000003,
          0.17024999999999998,
          0.16083333333333333,
          0.13866666666666663,
          0.16108333333333338,
          0.18541666666666667,
          0.1735833333333333,
          0.1920833333333333,
          0.16816666666666666,
          0.19366666666666665,
          0.1705,
          0.21133333333333332,
          0.1716666666666667,
          0.19233333333333333,
          0.18075000000000002,
          0.1814166666666667,
          0.18416666666666665,
          0.18491666666666665,
          0.1749166666666667,
          0.2093333333333333,
          0.17341666666666666,
          0.21066666666666667,
          0.2,
          0.18158333333333332,
          0.18883333333333335,
          0.20225,
          0.19141666666666668,
          0.19258333333333333,
          0.17816666666666667,
          0.16266666666666665,
          0.17875,
          0.16333333333333336,
          0.18499999999999997,
          0.20291666666666666,
          0.19608333333333333,
          0.19233333333333333,
          0.19383333333333327,
          0.18716666666666668,
          0.20058333333333336,
          0.1845,
          0.217,
          0.2464166666666667,
          0.23441666666666666,
          0.2514166666666666,
          0.21183333333333332,
          0.2349166666666667,
          0.22516666666666668,
          0.19633333333333333,
          0.22391666666666665,
          0.21875,
          0.21441666666666664,
          0.2076666666666667,
          0.22058333333333335,
          0.22016666666666665,
          0.1900833333333333,
          0.22175,
          0.20391666666666666,
          0.2259166666666666,
          0.19216666666666662,
          0.23299999999999996,
          0.20808333333333331,
          0.23183333333333334,
          0.2119166666666667,
          0.229,
          0.2196666666666667,
          0.23424999999999999,
          0.21525,
          0.23975000000000002,
          0.21241666666666664,
          0.216
         ]
        },
        {
         "line": {
          "color": "#FFA15A",
          "dash": "dash"
         },
         "marker": {
          "size": 15,
          "symbol": "diamond"
         },
         "mode": "lines+markers",
         "name": "fedavg_cifar_two(nan)",
         "type": "scatter",
         "x": [
          0,
          1,
          2,
          3,
          4,
          5,
          6,
          7,
          8,
          9,
          10,
          11,
          12,
          13,
          14,
          15,
          16,
          17,
          18,
          19,
          20,
          21,
          22,
          23,
          24,
          25,
          26,
          27,
          28,
          29,
          30,
          31,
          32,
          33,
          34,
          35,
          36,
          37,
          38,
          39,
          40,
          41,
          42,
          43,
          44,
          45,
          46,
          47,
          48,
          49,
          50,
          51,
          52,
          53,
          54,
          55,
          56,
          57,
          58,
          59,
          60,
          61,
          62,
          63,
          64,
          65,
          66,
          67,
          68,
          69,
          70,
          71,
          72,
          73,
          74,
          75,
          76,
          77,
          78,
          79,
          80,
          81,
          82,
          83,
          84,
          85,
          86,
          87,
          88,
          89,
          90,
          91,
          92,
          93,
          94,
          95,
          96,
          97,
          98,
          99
         ],
         "y": [
          0.23850000000000002,
          0.25275,
          0.29483333333333334,
          0.33025,
          0.36008333333333337,
          0.37833333333333347,
          0.40924999999999995,
          0.4295833333333333,
          0.449,
          0.4546666666666666,
          0.4728333333333333,
          0.48341666666666666,
          0.5006666666666667,
          0.5055833333333333,
          0.5191666666666667,
          0.5299166666666667,
          0.5405833333333334,
          0.5442500000000001,
          0.5556666666666668,
          0.5535833333333334,
          0.5611666666666666,
          0.5599999999999999,
          0.5809999999999998,
          0.5787499999999999,
          0.5848333333333333,
          0.5849166666666668,
          0.5943333333333334,
          0.5991666666666667,
          0.6019166666666665,
          0.6094166666666667,
          0.6046666666666666,
          0.6155833333333333,
          0.6249166666666668,
          0.6200833333333334,
          0.6214166666666666,
          0.6257499999999999,
          0.619,
          0.6250833333333333,
          0.6259166666666667,
          0.6216666666666665,
          0.6335,
          0.6355833333333333,
          0.6334166666666668,
          0.6390833333333334,
          0.6428333333333334,
          0.638,
          0.6456666666666668,
          0.65275,
          0.6394166666666666,
          0.6563333333333333,
          0.6525833333333334,
          0.646,
          0.6493333333333334,
          0.6517499999999999,
          0.6603333333333334,
          0.6626666666666666,
          0.6528333333333334,
          0.6539166666666666,
          0.6531666666666668,
          0.65275,
          0.6515000000000001,
          0.65475,
          0.6566666666666667,
          0.6594166666666667,
          0.6641666666666667,
          0.6600833333333332,
          0.6621666666666665,
          0.658,
          0.67025,
          0.67275,
          0.6682500000000001,
          0.6628333333333334,
          0.6650833333333332,
          0.6674999999999999,
          0.6645,
          0.6685000000000001,
          0.6625000000000001,
          0.6706666666666667,
          0.6705000000000001,
          0.6736666666666664,
          0.6649166666666666,
          0.6608333333333333,
          0.6664166666666668,
          0.667,
          0.6730833333333333,
          0.6635833333333333,
          0.6742499999999999,
          0.6651666666666667,
          0.66675,
          0.6669166666666667,
          0.6671666666666666,
          0.6739166666666668,
          0.6633333333333334,
          0.6645833333333332,
          0.6684166666666668,
          0.6636666666666667,
          0.672,
          0.6645000000000001,
          0.6684166666666668,
          0.6743333333333333
         ]
        },
        {
         "line": {
          "color": "#00CC96",
          "dash": "dash"
         },
         "marker": {
          "size": 15,
          "symbol": "x"
         },
         "mode": "lines+markers",
         "name": "fedavg_cifar_unequal(14)",
         "type": "scatter",
         "x": [
          0,
          1,
          2,
          3,
          4,
          5,
          6,
          7,
          8,
          9,
          10,
          11,
          12,
          13,
          14,
          15,
          16,
          17,
          18,
          19,
          20,
          21,
          22,
          23,
          24,
          25,
          26,
          27,
          28,
          29,
          30,
          31,
          32,
          33,
          34,
          35,
          36,
          37,
          38,
          39,
          40,
          41,
          42,
          43,
          44,
          45,
          46,
          47,
          48,
          49,
          50,
          51,
          52,
          53,
          54,
          55,
          56,
          57,
          58,
          59,
          60,
          61,
          62,
          63,
          64,
          65,
          66,
          67,
          68,
          69,
          70,
          71,
          72,
          73,
          74,
          75,
          76,
          77,
          78,
          79,
          80,
          81,
          82,
          83,
          84,
          85,
          86,
          87,
          88,
          89,
          90,
          91,
          92,
          93,
          94,
          95,
          96,
          97,
          98,
          99
         ],
         "y": [
          0.3529733333333333,
          0.4335466666666667,
          0.49165666666666663,
          0.5391833333333333,
          0.5823066666666665,
          0.5942866666666667,
          0.6111,
          0.6565799999999999,
          0.6588266666666667,
          0.6719266666666669,
          0.6700266666666667,
          0.6740433333333333,
          0.6963666666666668,
          0.69748,
          0.7046833333333333,
          0.7123000000000002,
          0.7142933333333333,
          0.7155533333333335,
          0.7162133333333334,
          0.7223033333333332,
          0.7311266666666665,
          0.7360599999999999,
          0.7318133333333333,
          0.7285066666666667,
          0.7361333333333333,
          0.7463766666666667,
          0.7420833333333334,
          0.7516233333333332,
          0.7496433333333334,
          0.7566333333333333,
          0.7577866666666665,
          0.7552533333333334,
          0.76493,
          0.7622066666666666,
          0.7580733333333334,
          0.7572799999999998,
          0.7543199999999998,
          0.7620333333333333,
          0.7649833333333333,
          0.7708366666666664,
          0.7721366666666666,
          0.7705433333333335,
          0.7569366666666667,
          0.7676,
          0.76714,
          0.7632033333333332,
          0.7660766666666666,
          0.7666599999999999,
          0.7762533333333331,
          0.7624566666666667,
          0.7682633333333332,
          0.7634466666666668,
          0.7719466666666667,
          0.7648333333333333,
          0.7713366666666666,
          0.7758466666666666,
          0.7754599999999999,
          0.7783933333333334,
          0.7762300000000001,
          0.7772633333333334,
          0.7761166666666666,
          0.7672066666666666,
          0.7762133333333334,
          0.7767999999999998,
          0.77846,
          0.7794366666666667,
          0.7730266666666666,
          0.7764466666666667,
          0.7761499999999999,
          0.7704833333333333,
          0.7782933333333336,
          0.7895899999999998,
          0.7717799999999999,
          0.7827033333333334,
          0.7780566666666666,
          0.7809433333333333,
          0.7749633333333333,
          0.7756899999999999,
          0.7767799999999999,
          0.7797533333333334,
          0.7789166666666667,
          0.7787433333333332,
          0.7719933333333333,
          0.7805333333333333,
          0.7747499999999999,
          0.77905,
          0.7796666666666667,
          0.7739733333333334,
          0.7873133333333333,
          0.7736233333333332,
          0.7814866666666666,
          0.7842333333333333,
          0.7777999999999998,
          0.7849166666666666,
          0.7818666666666665,
          0.7873566666666669,
          0.7738,
          0.7845633333333333,
          0.7849700000000001,
          0.7904700000000001
         ]
        }
       ],
       "layout": {
        "height": 900,
        "legend": {
         "font": {
          "size": 24
         },
         "x": 1,
         "xanchor": "right",
         "y": 0.5,
         "yanchor": "middle"
        },
        "shapes": [
         {
          "line": {
           "color": "gray",
           "dash": "solid"
          },
          "type": "line",
          "x0": 0,
          "x1": 1,
          "xref": "paper",
          "y0": 0.7,
          "y1": 0.7,
          "yref": "y"
         }
        ],
        "template": {
         "data": {
          "bar": [
           {
            "error_x": {
             "color": "#2a3f5f"
            },
            "error_y": {
             "color": "#2a3f5f"
            },
            "marker": {
             "line": {
              "color": "#E5ECF6",
              "width": 0.5
             },
             "pattern": {
              "fillmode": "overlay",
              "size": 10,
              "solidity": 0.2
             }
            },
            "type": "bar"
           }
          ],
          "barpolar": [
           {
            "marker": {
             "line": {
              "color": "#E5ECF6",
              "width": 0.5
             },
             "pattern": {
              "fillmode": "overlay",
              "size": 10,
              "solidity": 0.2
             }
            },
            "type": "barpolar"
           }
          ],
          "carpet": [
           {
            "aaxis": {
             "endlinecolor": "#2a3f5f",
             "gridcolor": "white",
             "linecolor": "white",
             "minorgridcolor": "white",
             "startlinecolor": "#2a3f5f"
            },
            "baxis": {
             "endlinecolor": "#2a3f5f",
             "gridcolor": "white",
             "linecolor": "white",
             "minorgridcolor": "white",
             "startlinecolor": "#2a3f5f"
            },
            "type": "carpet"
           }
          ],
          "choropleth": [
           {
            "colorbar": {
             "outlinewidth": 0,
             "ticks": ""
            },
            "type": "choropleth"
           }
          ],
          "contour": [
           {
            "colorbar": {
             "outlinewidth": 0,
             "ticks": ""
            },
            "colorscale": [
             [
              0,
              "#0d0887"
             ],
             [
              0.1111111111111111,
              "#46039f"
             ],
             [
              0.2222222222222222,
              "#7201a8"
             ],
             [
              0.3333333333333333,
              "#9c179e"
             ],
             [
              0.4444444444444444,
              "#bd3786"
             ],
             [
              0.5555555555555556,
              "#d8576b"
             ],
             [
              0.6666666666666666,
              "#ed7953"
             ],
             [
              0.7777777777777778,
              "#fb9f3a"
             ],
             [
              0.8888888888888888,
              "#fdca26"
             ],
             [
              1,
              "#f0f921"
             ]
            ],
            "type": "contour"
           }
          ],
          "contourcarpet": [
           {
            "colorbar": {
             "outlinewidth": 0,
             "ticks": ""
            },
            "type": "contourcarpet"
           }
          ],
          "heatmap": [
           {
            "colorbar": {
             "outlinewidth": 0,
             "ticks": ""
            },
            "colorscale": [
             [
              0,
              "#0d0887"
             ],
             [
              0.1111111111111111,
              "#46039f"
             ],
             [
              0.2222222222222222,
              "#7201a8"
             ],
             [
              0.3333333333333333,
              "#9c179e"
             ],
             [
              0.4444444444444444,
              "#bd3786"
             ],
             [
              0.5555555555555556,
              "#d8576b"
             ],
             [
              0.6666666666666666,
              "#ed7953"
             ],
             [
              0.7777777777777778,
              "#fb9f3a"
             ],
             [
              0.8888888888888888,
              "#fdca26"
             ],
             [
              1,
              "#f0f921"
             ]
            ],
            "type": "heatmap"
           }
          ],
          "heatmapgl": [
           {
            "colorbar": {
             "outlinewidth": 0,
             "ticks": ""
            },
            "colorscale": [
             [
              0,
              "#0d0887"
             ],
             [
              0.1111111111111111,
              "#46039f"
             ],
             [
              0.2222222222222222,
              "#7201a8"
             ],
             [
              0.3333333333333333,
              "#9c179e"
             ],
             [
              0.4444444444444444,
              "#bd3786"
             ],
             [
              0.5555555555555556,
              "#d8576b"
             ],
             [
              0.6666666666666666,
              "#ed7953"
             ],
             [
              0.7777777777777778,
              "#fb9f3a"
             ],
             [
              0.8888888888888888,
              "#fdca26"
             ],
             [
              1,
              "#f0f921"
             ]
            ],
            "type": "heatmapgl"
           }
          ],
          "histogram": [
           {
            "marker": {
             "pattern": {
              "fillmode": "overlay",
              "size": 10,
              "solidity": 0.2
             }
            },
            "type": "histogram"
           }
          ],
          "histogram2d": [
           {
            "colorbar": {
             "outlinewidth": 0,
             "ticks": ""
            },
            "colorscale": [
             [
              0,
              "#0d0887"
             ],
             [
              0.1111111111111111,
              "#46039f"
             ],
             [
              0.2222222222222222,
              "#7201a8"
             ],
             [
              0.3333333333333333,
              "#9c179e"
             ],
             [
              0.4444444444444444,
              "#bd3786"
             ],
             [
              0.5555555555555556,
              "#d8576b"
             ],
             [
              0.6666666666666666,
              "#ed7953"
             ],
             [
              0.7777777777777778,
              "#fb9f3a"
             ],
             [
              0.8888888888888888,
              "#fdca26"
             ],
             [
              1,
              "#f0f921"
             ]
            ],
            "type": "histogram2d"
           }
          ],
          "histogram2dcontour": [
           {
            "colorbar": {
             "outlinewidth": 0,
             "ticks": ""
            },
            "colorscale": [
             [
              0,
              "#0d0887"
             ],
             [
              0.1111111111111111,
              "#46039f"
             ],
             [
              0.2222222222222222,
              "#7201a8"
             ],
             [
              0.3333333333333333,
              "#9c179e"
             ],
             [
              0.4444444444444444,
              "#bd3786"
             ],
             [
              0.5555555555555556,
              "#d8576b"
             ],
             [
              0.6666666666666666,
              "#ed7953"
             ],
             [
              0.7777777777777778,
              "#fb9f3a"
             ],
             [
              0.8888888888888888,
              "#fdca26"
             ],
             [
              1,
              "#f0f921"
             ]
            ],
            "type": "histogram2dcontour"
           }
          ],
          "mesh3d": [
           {
            "colorbar": {
             "outlinewidth": 0,
             "ticks": ""
            },
            "type": "mesh3d"
           }
          ],
          "parcoords": [
           {
            "line": {
             "colorbar": {
              "outlinewidth": 0,
              "ticks": ""
             }
            },
            "type": "parcoords"
           }
          ],
          "pie": [
           {
            "automargin": true,
            "type": "pie"
           }
          ],
          "scatter": [
           {
            "fillpattern": {
             "fillmode": "overlay",
             "size": 10,
             "solidity": 0.2
            },
            "type": "scatter"
           }
          ],
          "scatter3d": [
           {
            "line": {
             "colorbar": {
              "outlinewidth": 0,
              "ticks": ""
             }
            },
            "marker": {
             "colorbar": {
              "outlinewidth": 0,
              "ticks": ""
             }
            },
            "type": "scatter3d"
           }
          ],
          "scattercarpet": [
           {
            "marker": {
             "colorbar": {
              "outlinewidth": 0,
              "ticks": ""
             }
            },
            "type": "scattercarpet"
           }
          ],
          "scattergeo": [
           {
            "marker": {
             "colorbar": {
              "outlinewidth": 0,
              "ticks": ""
             }
            },
            "type": "scattergeo"
           }
          ],
          "scattergl": [
           {
            "marker": {
             "colorbar": {
              "outlinewidth": 0,
              "ticks": ""
             }
            },
            "type": "scattergl"
           }
          ],
          "scattermapbox": [
           {
            "marker": {
             "colorbar": {
              "outlinewidth": 0,
              "ticks": ""
             }
            },
            "type": "scattermapbox"
           }
          ],
          "scatterpolar": [
           {
            "marker": {
             "colorbar": {
              "outlinewidth": 0,
              "ticks": ""
             }
            },
            "type": "scatterpolar"
           }
          ],
          "scatterpolargl": [
           {
            "marker": {
             "colorbar": {
              "outlinewidth": 0,
              "ticks": ""
             }
            },
            "type": "scatterpolargl"
           }
          ],
          "scatterternary": [
           {
            "marker": {
             "colorbar": {
              "outlinewidth": 0,
              "ticks": ""
             }
            },
            "type": "scatterternary"
           }
          ],
          "surface": [
           {
            "colorbar": {
             "outlinewidth": 0,
             "ticks": ""
            },
            "colorscale": [
             [
              0,
              "#0d0887"
             ],
             [
              0.1111111111111111,
              "#46039f"
             ],
             [
              0.2222222222222222,
              "#7201a8"
             ],
             [
              0.3333333333333333,
              "#9c179e"
             ],
             [
              0.4444444444444444,
              "#bd3786"
             ],
             [
              0.5555555555555556,
              "#d8576b"
             ],
             [
              0.6666666666666666,
              "#ed7953"
             ],
             [
              0.7777777777777778,
              "#fb9f3a"
             ],
             [
              0.8888888888888888,
              "#fdca26"
             ],
             [
              1,
              "#f0f921"
             ]
            ],
            "type": "surface"
           }
          ],
          "table": [
           {
            "cells": {
             "fill": {
              "color": "#EBF0F8"
             },
             "line": {
              "color": "white"
             }
            },
            "header": {
             "fill": {
              "color": "#C8D4E3"
             },
             "line": {
              "color": "white"
             }
            },
            "type": "table"
           }
          ]
         },
         "layout": {
          "annotationdefaults": {
           "arrowcolor": "#2a3f5f",
           "arrowhead": 0,
           "arrowwidth": 1
          },
          "autotypenumbers": "strict",
          "coloraxis": {
           "colorbar": {
            "outlinewidth": 0,
            "ticks": ""
           }
          },
          "colorscale": {
           "diverging": [
            [
             0,
             "#8e0152"
            ],
            [
             0.1,
             "#c51b7d"
            ],
            [
             0.2,
             "#de77ae"
            ],
            [
             0.3,
             "#f1b6da"
            ],
            [
             0.4,
             "#fde0ef"
            ],
            [
             0.5,
             "#f7f7f7"
            ],
            [
             0.6,
             "#e6f5d0"
            ],
            [
             0.7,
             "#b8e186"
            ],
            [
             0.8,
             "#7fbc41"
            ],
            [
             0.9,
             "#4d9221"
            ],
            [
             1,
             "#276419"
            ]
           ],
           "sequential": [
            [
             0,
             "#0d0887"
            ],
            [
             0.1111111111111111,
             "#46039f"
            ],
            [
             0.2222222222222222,
             "#7201a8"
            ],
            [
             0.3333333333333333,
             "#9c179e"
            ],
            [
             0.4444444444444444,
             "#bd3786"
            ],
            [
             0.5555555555555556,
             "#d8576b"
            ],
            [
             0.6666666666666666,
             "#ed7953"
            ],
            [
             0.7777777777777778,
             "#fb9f3a"
            ],
            [
             0.8888888888888888,
             "#fdca26"
            ],
            [
             1,
             "#f0f921"
            ]
           ],
           "sequentialminus": [
            [
             0,
             "#0d0887"
            ],
            [
             0.1111111111111111,
             "#46039f"
            ],
            [
             0.2222222222222222,
             "#7201a8"
            ],
            [
             0.3333333333333333,
             "#9c179e"
            ],
            [
             0.4444444444444444,
             "#bd3786"
            ],
            [
             0.5555555555555556,
             "#d8576b"
            ],
            [
             0.6666666666666666,
             "#ed7953"
            ],
            [
             0.7777777777777778,
             "#fb9f3a"
            ],
            [
             0.8888888888888888,
             "#fdca26"
            ],
            [
             1,
             "#f0f921"
            ]
           ]
          },
          "colorway": [
           "#636efa",
           "#EF553B",
           "#00cc96",
           "#ab63fa",
           "#FFA15A",
           "#19d3f3",
           "#FF6692",
           "#B6E880",
           "#FF97FF",
           "#FECB52"
          ],
          "font": {
           "color": "#2a3f5f"
          },
          "geo": {
           "bgcolor": "white",
           "lakecolor": "white",
           "landcolor": "#E5ECF6",
           "showlakes": true,
           "showland": true,
           "subunitcolor": "white"
          },
          "hoverlabel": {
           "align": "left"
          },
          "hovermode": "closest",
          "mapbox": {
           "style": "light"
          },
          "paper_bgcolor": "white",
          "plot_bgcolor": "#E5ECF6",
          "polar": {
           "angularaxis": {
            "gridcolor": "white",
            "linecolor": "white",
            "ticks": ""
           },
           "bgcolor": "#E5ECF6",
           "radialaxis": {
            "gridcolor": "white",
            "linecolor": "white",
            "ticks": ""
           }
          },
          "scene": {
           "xaxis": {
            "backgroundcolor": "#E5ECF6",
            "gridcolor": "white",
            "gridwidth": 2,
            "linecolor": "white",
            "showbackground": true,
            "ticks": "",
            "zerolinecolor": "white"
           },
           "yaxis": {
            "backgroundcolor": "#E5ECF6",
            "gridcolor": "white",
            "gridwidth": 2,
            "linecolor": "white",
            "showbackground": true,
            "ticks": "",
            "zerolinecolor": "white"
           },
           "zaxis": {
            "backgroundcolor": "#E5ECF6",
            "gridcolor": "white",
            "gridwidth": 2,
            "linecolor": "white",
            "showbackground": true,
            "ticks": "",
            "zerolinecolor": "white"
           }
          },
          "shapedefaults": {
           "line": {
            "color": "#2a3f5f"
           }
          },
          "ternary": {
           "aaxis": {
            "gridcolor": "white",
            "linecolor": "white",
            "ticks": ""
           },
           "baxis": {
            "gridcolor": "white",
            "linecolor": "white",
            "ticks": ""
           },
           "bgcolor": "#E5ECF6",
           "caxis": {
            "gridcolor": "white",
            "linecolor": "white",
            "ticks": ""
           }
          },
          "title": {
           "x": 0.05
          },
          "xaxis": {
           "automargin": true,
           "gridcolor": "white",
           "linecolor": "white",
           "ticks": "",
           "title": {
            "standoff": 15
           },
           "zerolinecolor": "white",
           "zerolinewidth": 2
          },
          "yaxis": {
           "automargin": true,
           "gridcolor": "white",
           "linecolor": "white",
           "ticks": "",
           "title": {
            "standoff": 15
           },
           "zerolinecolor": "white",
           "zerolinewidth": 2
          }
         }
        },
        "title": {
         "font": {
          "size": 24
         },
         "text": "fedavg (Testing Accuracy vs Communication rounds)"
        },
        "width": 1200,
        "xaxis": {
         "title": {
          "font": {
           "size": 20
          },
          "text": "Communication Rounds"
         }
        },
        "yaxis": {
         "title": {
          "font": {
           "size": 20
          },
          "text": "Testing Accuracy"
         }
        }
       }
      }
     },
     "metadata": {},
     "output_type": "display_data"
    },
    {
     "name": "stderr",
     "output_type": "stream",
     "text": [
      " 25%|██▌       | 1/4 [00:00<00:00,  8.67it/s]"
     ]
    },
    {
     "data": {
      "application/vnd.plotly.v1+json": {
       "config": {
        "plotlyServerURL": "https://plot.ly"
       },
       "data": [
        {
         "line": {
          "color": "#636EFA",
          "dash": "dash"
         },
         "marker": {
          "size": 15,
          "symbol": "circle"
         },
         "mode": "lines+markers",
         "name": "fedsem_cifar_iid(16)",
         "type": "scatter",
         "x": [
          0,
          1,
          2,
          3,
          4,
          5,
          6,
          7,
          8,
          9,
          10,
          11,
          12,
          13,
          14,
          15,
          16,
          17,
          18,
          19,
          20,
          21,
          22,
          23,
          24,
          25,
          26,
          27,
          28,
          29,
          30,
          31,
          32,
          33,
          34,
          35,
          36,
          37,
          38,
          39,
          40,
          41,
          42,
          43,
          44,
          45,
          46,
          47,
          48,
          49,
          50,
          51,
          52,
          53,
          54,
          55,
          56,
          57,
          58,
          59,
          60,
          61,
          62,
          63,
          64,
          65,
          66,
          67,
          68,
          69,
          70,
          71,
          72,
          73,
          74,
          75,
          76,
          77,
          78,
          79,
          80,
          81,
          82,
          83,
          84,
          85,
          86,
          87,
          88,
          89,
          90,
          91,
          92,
          93,
          94,
          95,
          96,
          97,
          98,
          99
         ],
         "y": [
          0.36866666666666664,
          0.4326666666666667,
          0.47275000000000006,
          0.5134166666666666,
          0.5344999999999999,
          0.56625,
          0.5901666666666667,
          0.5931666666666666,
          0.6215,
          0.6321666666666667,
          0.6528333333333334,
          0.6534166666666666,
          0.6747500000000001,
          0.6856666666666666,
          0.6901666666666667,
          0.6984166666666667,
          0.70125,
          0.7100833333333333,
          0.71675,
          0.7119166666666666,
          0.7124166666666667,
          0.7258333333333334,
          0.7203333333333332,
          0.7294166666666666,
          0.7302500000000001,
          0.7421666666666668,
          0.7388333333333335,
          0.7378333333333332,
          0.7381666666666666,
          0.7505,
          0.7493333333333335,
          0.7520833333333332,
          0.7514166666666667,
          0.7573333333333332,
          0.7615833333333335,
          0.7548333333333335,
          0.7573333333333333,
          0.7600833333333331,
          0.7622500000000001,
          0.7618333333333333,
          0.763,
          0.7659166666666669,
          0.7707499999999997,
          0.7657499999999999,
          0.7651666666666664,
          0.7764166666666666,
          0.7724999999999999,
          0.7714166666666668,
          0.7682500000000001,
          0.7777500000000003,
          0.7748333333333333,
          0.7807499999999999,
          0.7659166666666668,
          0.7740833333333333,
          0.7808333333333336,
          0.7829166666666668,
          0.7791666666666666,
          0.7801666666666665,
          0.7787499999999999,
          0.7782499999999999,
          0.7793333333333334,
          0.7786666666666666,
          0.7757500000000002,
          0.7759166666666667,
          0.7762499999999999,
          0.7783333333333332,
          0.7834999999999999,
          0.7849166666666666,
          0.7859166666666668,
          0.7819999999999998,
          0.7821666666666667,
          0.7769166666666667,
          0.7884166666666668,
          0.7864166666666667,
          0.7816666666666666,
          0.7929166666666666,
          0.7859166666666667,
          0.7812500000000001,
          0.7859999999999998,
          0.7825,
          0.7822499999999999,
          0.7850833333333332,
          0.7879166666666666,
          0.7926666666666667,
          0.78875,
          0.7829999999999999,
          0.7892499999999999,
          0.7826666666666665,
          0.7875833333333334,
          0.7829166666666667,
          0.7838333333333334,
          0.7845,
          0.79175,
          0.7801666666666667,
          0.7842500000000001,
          0.7830833333333335,
          0.7883333333333336,
          0.792,
          0.7823333333333334,
          0.7873333333333332
         ]
        },
        {
         "line": {
          "color": "#EF553B",
          "dash": "dash"
         },
         "marker": {
          "size": 15,
          "symbol": "square"
         },
         "mode": "lines+markers",
         "name": "fedsem_cifar_one(nan)",
         "type": "scatter",
         "x": [
          0,
          1,
          2,
          3,
          4,
          5,
          6,
          7,
          8,
          9,
          10,
          11,
          12,
          13,
          14,
          15,
          16,
          17,
          18,
          19,
          20,
          21,
          22,
          23,
          24,
          25,
          26,
          27,
          28,
          29,
          30,
          31,
          32,
          33,
          34,
          35,
          36,
          37,
          38,
          39,
          40,
          41,
          42,
          43,
          44,
          45,
          46,
          47,
          48,
          49,
          50,
          51,
          52,
          53,
          54,
          55,
          56,
          57,
          58,
          59,
          60,
          61,
          62,
          63,
          64,
          65,
          66,
          67,
          68,
          69,
          70,
          71,
          72,
          73,
          74,
          75,
          76,
          77,
          78,
          79,
          80,
          81,
          82,
          83,
          84,
          85,
          86,
          87,
          88,
          89,
          90,
          91,
          92,
          93,
          94,
          95,
          96,
          97,
          98,
          99
         ],
         "y": [
          0.11574999999999999,
          0.10083333333333333,
          0.1,
          0.1,
          0.1,
          0.10083333333333332,
          0.10016666666666667,
          0.13391666666666666,
          0.1383333333333333,
          0.14466666666666667,
          0.13391666666666666,
          0.15724999999999997,
          0.15508333333333335,
          0.11999999999999997,
          0.13391666666666666,
          0.13149999999999998,
          0.14541666666666667,
          0.15783333333333335,
          0.133,
          0.14508333333333334,
          0.14516666666666664,
          0.13708333333333333,
          0.14325000000000002,
          0.1438333333333333,
          0.14208333333333334,
          0.1653333333333333,
          0.15750000000000006,
          0.16208333333333333,
          0.15458333333333332,
          0.1749166666666667,
          0.178,
          0.17441666666666664,
          0.14525,
          0.17925000000000002,
          0.13883333333333336,
          0.19008333333333333,
          0.15108333333333332,
          0.1735833333333333,
          0.13249999999999998,
          0.14849999999999997,
          0.15266666666666667,
          0.18058333333333335,
          0.18183333333333337,
          0.19400000000000003,
          0.1795,
          0.19375000000000003,
          0.17791666666666667,
          0.19575,
          0.18008333333333335,
          0.19008333333333333,
          0.1716666666666666,
          0.1746666666666666,
          0.1701666666666667,
          0.18891666666666668,
          0.1676666666666667,
          0.18633333333333332,
          0.17266666666666672,
          0.19933333333333333,
          0.21641666666666665,
          0.20408333333333334,
          0.1945833333333333,
          0.20108333333333334,
          0.19599999999999998,
          0.20666666666666667,
          0.19824999999999995,
          0.19758333333333328,
          0.20516666666666666,
          0.18900000000000003,
          0.2043333333333334,
          0.16991666666666663,
          0.19725,
          0.18875,
          0.22241666666666665,
          0.19275,
          0.21308333333333332,
          0.18849999999999997,
          0.22875000000000004,
          0.22591666666666668,
          0.24250000000000002,
          0.22616666666666665,
          0.22033333333333335,
          0.2290833333333334,
          0.20366666666666663,
          0.2146666666666667,
          0.2010833333333334,
          0.19975,
          0.20066666666666666,
          0.20016666666666666,
          0.20299999999999996,
          0.21508333333333335,
          0.20391666666666666,
          0.20266666666666666,
          0.22425,
          0.23733333333333337,
          0.21608333333333332,
          0.24283333333333335,
          0.21133333333333332,
          0.20875000000000002,
          0.2233333333333333,
          0.24058333333333334
         ]
        },
        {
         "line": {
          "color": "#FFA15A",
          "dash": "dash"
         },
         "marker": {
          "size": 15,
          "symbol": "diamond"
         },
         "mode": "lines+markers",
         "name": "fedsem_cifar_two(nan)",
         "type": "scatter",
         "x": [
          0,
          1,
          2,
          3,
          4,
          5,
          6,
          7,
          8,
          9,
          10,
          11,
          12,
          13,
          14,
          15,
          16,
          17,
          18,
          19,
          20,
          21,
          22,
          23,
          24,
          25,
          26,
          27,
          28,
          29,
          30,
          31,
          32,
          33,
          34,
          35,
          36,
          37,
          38,
          39,
          40,
          41,
          42,
          43,
          44,
          45,
          46,
          47,
          48,
          49,
          50,
          51,
          52,
          53,
          54,
          55,
          56,
          57,
          58,
          59,
          60,
          61,
          62,
          63,
          64,
          65,
          66,
          67,
          68,
          69,
          70,
          71,
          72,
          73,
          74,
          75,
          76,
          77,
          78,
          79,
          80,
          81,
          82,
          83,
          84,
          85,
          86,
          87,
          88,
          89,
          90,
          91,
          92,
          93,
          94,
          95,
          96,
          97,
          98,
          99
         ],
         "y": [
          0.2061666666666667,
          0.29158333333333336,
          0.33991666666666664,
          0.3653333333333333,
          0.3906666666666668,
          0.4264166666666667,
          0.43549999999999994,
          0.4484166666666667,
          0.46808333333333335,
          0.46625,
          0.48224999999999996,
          0.49000000000000005,
          0.5065833333333333,
          0.50975,
          0.5243333333333332,
          0.53225,
          0.5383333333333334,
          0.5504166666666667,
          0.5494166666666668,
          0.5464166666666668,
          0.5659166666666667,
          0.5633333333333332,
          0.5829166666666666,
          0.5695833333333334,
          0.5793333333333333,
          0.5816666666666667,
          0.5848333333333333,
          0.58675,
          0.5922499999999999,
          0.5985833333333334,
          0.5988333333333332,
          0.6030000000000001,
          0.6084999999999999,
          0.610583333333333,
          0.6120833333333334,
          0.6159166666666668,
          0.615,
          0.621,
          0.6198333333333333,
          0.6198333333333336,
          0.6162500000000002,
          0.6167499999999999,
          0.6264166666666667,
          0.6297499999999998,
          0.6315833333333332,
          0.6324166666666666,
          0.6289166666666666,
          0.6340833333333333,
          0.6297499999999999,
          0.6265833333333334,
          0.6491666666666666,
          0.6349999999999999,
          0.6339166666666666,
          0.64,
          0.6375,
          0.6440833333333332,
          0.6410833333333333,
          0.6419166666666668,
          0.6478333333333332,
          0.6441666666666667,
          0.6476666666666667,
          0.6408333333333333,
          0.6511666666666666,
          0.6550833333333335,
          0.6480833333333333,
          0.6551666666666667,
          0.6462499999999999,
          0.6570833333333331,
          0.6595833333333334,
          0.65725,
          0.6495833333333334,
          0.657833333333333,
          0.6545833333333334,
          0.6534166666666666,
          0.6569166666666667,
          0.6563333333333333,
          0.6565000000000001,
          0.6582499999999999,
          0.6595,
          0.6535833333333332,
          0.6575,
          0.6620833333333334,
          0.6654166666666667,
          0.6591666666666668,
          0.6630833333333332,
          0.6587500000000001,
          0.6625833333333332,
          0.659,
          0.6635833333333334,
          0.6634999999999998,
          0.6578333333333333,
          0.65825,
          0.6575000000000001,
          0.6715833333333332,
          0.6627500000000002,
          0.666,
          0.6634999999999999,
          0.6590833333333334,
          0.6674166666666668,
          0.6631666666666667
         ]
        },
        {
         "line": {
          "color": "#00CC96",
          "dash": "dash"
         },
         "marker": {
          "size": 15,
          "symbol": "x"
         },
         "mode": "lines+markers",
         "name": "fedsem_cifar_unequal(12)",
         "type": "scatter",
         "x": [
          0,
          1,
          2,
          3,
          4,
          5,
          6,
          7,
          8,
          9,
          10,
          11,
          12,
          13,
          14,
          15,
          16,
          17,
          18,
          19,
          20,
          21,
          22,
          23,
          24,
          25,
          26,
          27,
          28,
          29,
          30,
          31,
          32,
          33,
          34,
          35,
          36,
          37,
          38,
          39,
          40,
          41,
          42,
          43,
          44,
          45,
          46,
          47,
          48,
          49,
          50,
          51,
          52,
          53,
          54,
          55,
          56,
          57,
          58,
          59,
          60,
          61,
          62,
          63,
          64,
          65,
          66,
          67,
          68,
          69,
          70,
          71,
          72,
          73,
          74,
          75,
          76,
          77,
          78,
          79,
          80,
          81,
          82,
          83,
          84,
          85,
          86,
          87,
          88,
          89,
          90,
          91,
          92,
          93,
          94,
          95,
          96,
          97,
          98,
          99
         ],
         "y": [
          0.37501666666666666,
          0.44828000000000007,
          0.5073700000000001,
          0.5536,
          0.5862,
          0.6075666666666667,
          0.6486166666666667,
          0.6441966666666664,
          0.6699266666666668,
          0.6644166666666665,
          0.6831766666666667,
          0.69031,
          0.70142,
          0.7100299999999999,
          0.7181533333333333,
          0.7209833333333333,
          0.7165500000000001,
          0.7326866666666667,
          0.72458,
          0.7395333333333335,
          0.7342566666666666,
          0.7447766666666666,
          0.7478166666666666,
          0.7488100000000001,
          0.7504466666666669,
          0.73931,
          0.7503599999999999,
          0.7552333333333333,
          0.7566433333333332,
          0.7562300000000001,
          0.75106,
          0.75777,
          0.76321,
          0.7653166666666666,
          0.7650833333333333,
          0.7686033333333334,
          0.7658766666666668,
          0.7827800000000001,
          0.76857,
          0.7628233333333333,
          0.7700833333333333,
          0.7783199999999998,
          0.7675,
          0.7671400000000002,
          0.7615766666666666,
          0.7730599999999999,
          0.7697700000000002,
          0.7665299999999999,
          0.7809233333333333,
          0.7715533333333334,
          0.77946,
          0.7849133333333332,
          0.7697900000000001,
          0.7693700000000001,
          0.7774833333333334,
          0.7779966666666667,
          0.7903666666666667,
          0.7719000000000001,
          0.7778633333333332,
          0.7742133333333334,
          0.7914633333333333,
          0.7779066666666666,
          0.7825599999999999,
          0.7730766666666666,
          0.7745266666666667,
          0.7771566666666667,
          0.7827433333333335,
          0.7698233333333332,
          0.7853666666666665,
          0.78316,
          0.7877500000000002,
          0.7869566666666669,
          0.7801166666666667,
          0.7745300000000002,
          0.7696633333333333,
          0.79154,
          0.7776433333333331,
          0.7800566666666667,
          0.7856366666666666,
          0.77769,
          0.7814033333333333,
          0.7892066666666667,
          0.7834866666666668,
          0.7902333333333333,
          0.7826099999999999,
          0.7874800000000001,
          0.7778533333333334,
          0.7905433333333334,
          0.7867799999999999,
          0.7804199999999998,
          0.7851066666666667,
          0.7833033333333332,
          0.7754166666666666,
          0.7802799999999999,
          0.7894566666666668,
          0.7895800000000002,
          0.7914933333333334,
          0.77729,
          0.7844533333333332,
          0.77788
         ]
        }
       ],
       "layout": {
        "height": 900,
        "legend": {
         "font": {
          "size": 24
         },
         "x": 1,
         "xanchor": "right",
         "y": 0.5,
         "yanchor": "middle"
        },
        "shapes": [
         {
          "line": {
           "color": "gray",
           "dash": "solid"
          },
          "type": "line",
          "x0": 0,
          "x1": 1,
          "xref": "paper",
          "y0": 0.7,
          "y1": 0.7,
          "yref": "y"
         }
        ],
        "template": {
         "data": {
          "bar": [
           {
            "error_x": {
             "color": "#2a3f5f"
            },
            "error_y": {
             "color": "#2a3f5f"
            },
            "marker": {
             "line": {
              "color": "#E5ECF6",
              "width": 0.5
             },
             "pattern": {
              "fillmode": "overlay",
              "size": 10,
              "solidity": 0.2
             }
            },
            "type": "bar"
           }
          ],
          "barpolar": [
           {
            "marker": {
             "line": {
              "color": "#E5ECF6",
              "width": 0.5
             },
             "pattern": {
              "fillmode": "overlay",
              "size": 10,
              "solidity": 0.2
             }
            },
            "type": "barpolar"
           }
          ],
          "carpet": [
           {
            "aaxis": {
             "endlinecolor": "#2a3f5f",
             "gridcolor": "white",
             "linecolor": "white",
             "minorgridcolor": "white",
             "startlinecolor": "#2a3f5f"
            },
            "baxis": {
             "endlinecolor": "#2a3f5f",
             "gridcolor": "white",
             "linecolor": "white",
             "minorgridcolor": "white",
             "startlinecolor": "#2a3f5f"
            },
            "type": "carpet"
           }
          ],
          "choropleth": [
           {
            "colorbar": {
             "outlinewidth": 0,
             "ticks": ""
            },
            "type": "choropleth"
           }
          ],
          "contour": [
           {
            "colorbar": {
             "outlinewidth": 0,
             "ticks": ""
            },
            "colorscale": [
             [
              0,
              "#0d0887"
             ],
             [
              0.1111111111111111,
              "#46039f"
             ],
             [
              0.2222222222222222,
              "#7201a8"
             ],
             [
              0.3333333333333333,
              "#9c179e"
             ],
             [
              0.4444444444444444,
              "#bd3786"
             ],
             [
              0.5555555555555556,
              "#d8576b"
             ],
             [
              0.6666666666666666,
              "#ed7953"
             ],
             [
              0.7777777777777778,
              "#fb9f3a"
             ],
             [
              0.8888888888888888,
              "#fdca26"
             ],
             [
              1,
              "#f0f921"
             ]
            ],
            "type": "contour"
           }
          ],
          "contourcarpet": [
           {
            "colorbar": {
             "outlinewidth": 0,
             "ticks": ""
            },
            "type": "contourcarpet"
           }
          ],
          "heatmap": [
           {
            "colorbar": {
             "outlinewidth": 0,
             "ticks": ""
            },
            "colorscale": [
             [
              0,
              "#0d0887"
             ],
             [
              0.1111111111111111,
              "#46039f"
             ],
             [
              0.2222222222222222,
              "#7201a8"
             ],
             [
              0.3333333333333333,
              "#9c179e"
             ],
             [
              0.4444444444444444,
              "#bd3786"
             ],
             [
              0.5555555555555556,
              "#d8576b"
             ],
             [
              0.6666666666666666,
              "#ed7953"
             ],
             [
              0.7777777777777778,
              "#fb9f3a"
             ],
             [
              0.8888888888888888,
              "#fdca26"
             ],
             [
              1,
              "#f0f921"
             ]
            ],
            "type": "heatmap"
           }
          ],
          "heatmapgl": [
           {
            "colorbar": {
             "outlinewidth": 0,
             "ticks": ""
            },
            "colorscale": [
             [
              0,
              "#0d0887"
             ],
             [
              0.1111111111111111,
              "#46039f"
             ],
             [
              0.2222222222222222,
              "#7201a8"
             ],
             [
              0.3333333333333333,
              "#9c179e"
             ],
             [
              0.4444444444444444,
              "#bd3786"
             ],
             [
              0.5555555555555556,
              "#d8576b"
             ],
             [
              0.6666666666666666,
              "#ed7953"
             ],
             [
              0.7777777777777778,
              "#fb9f3a"
             ],
             [
              0.8888888888888888,
              "#fdca26"
             ],
             [
              1,
              "#f0f921"
             ]
            ],
            "type": "heatmapgl"
           }
          ],
          "histogram": [
           {
            "marker": {
             "pattern": {
              "fillmode": "overlay",
              "size": 10,
              "solidity": 0.2
             }
            },
            "type": "histogram"
           }
          ],
          "histogram2d": [
           {
            "colorbar": {
             "outlinewidth": 0,
             "ticks": ""
            },
            "colorscale": [
             [
              0,
              "#0d0887"
             ],
             [
              0.1111111111111111,
              "#46039f"
             ],
             [
              0.2222222222222222,
              "#7201a8"
             ],
             [
              0.3333333333333333,
              "#9c179e"
             ],
             [
              0.4444444444444444,
              "#bd3786"
             ],
             [
              0.5555555555555556,
              "#d8576b"
             ],
             [
              0.6666666666666666,
              "#ed7953"
             ],
             [
              0.7777777777777778,
              "#fb9f3a"
             ],
             [
              0.8888888888888888,
              "#fdca26"
             ],
             [
              1,
              "#f0f921"
             ]
            ],
            "type": "histogram2d"
           }
          ],
          "histogram2dcontour": [
           {
            "colorbar": {
             "outlinewidth": 0,
             "ticks": ""
            },
            "colorscale": [
             [
              0,
              "#0d0887"
             ],
             [
              0.1111111111111111,
              "#46039f"
             ],
             [
              0.2222222222222222,
              "#7201a8"
             ],
             [
              0.3333333333333333,
              "#9c179e"
             ],
             [
              0.4444444444444444,
              "#bd3786"
             ],
             [
              0.5555555555555556,
              "#d8576b"
             ],
             [
              0.6666666666666666,
              "#ed7953"
             ],
             [
              0.7777777777777778,
              "#fb9f3a"
             ],
             [
              0.8888888888888888,
              "#fdca26"
             ],
             [
              1,
              "#f0f921"
             ]
            ],
            "type": "histogram2dcontour"
           }
          ],
          "mesh3d": [
           {
            "colorbar": {
             "outlinewidth": 0,
             "ticks": ""
            },
            "type": "mesh3d"
           }
          ],
          "parcoords": [
           {
            "line": {
             "colorbar": {
              "outlinewidth": 0,
              "ticks": ""
             }
            },
            "type": "parcoords"
           }
          ],
          "pie": [
           {
            "automargin": true,
            "type": "pie"
           }
          ],
          "scatter": [
           {
            "fillpattern": {
             "fillmode": "overlay",
             "size": 10,
             "solidity": 0.2
            },
            "type": "scatter"
           }
          ],
          "scatter3d": [
           {
            "line": {
             "colorbar": {
              "outlinewidth": 0,
              "ticks": ""
             }
            },
            "marker": {
             "colorbar": {
              "outlinewidth": 0,
              "ticks": ""
             }
            },
            "type": "scatter3d"
           }
          ],
          "scattercarpet": [
           {
            "marker": {
             "colorbar": {
              "outlinewidth": 0,
              "ticks": ""
             }
            },
            "type": "scattercarpet"
           }
          ],
          "scattergeo": [
           {
            "marker": {
             "colorbar": {
              "outlinewidth": 0,
              "ticks": ""
             }
            },
            "type": "scattergeo"
           }
          ],
          "scattergl": [
           {
            "marker": {
             "colorbar": {
              "outlinewidth": 0,
              "ticks": ""
             }
            },
            "type": "scattergl"
           }
          ],
          "scattermapbox": [
           {
            "marker": {
             "colorbar": {
              "outlinewidth": 0,
              "ticks": ""
             }
            },
            "type": "scattermapbox"
           }
          ],
          "scatterpolar": [
           {
            "marker": {
             "colorbar": {
              "outlinewidth": 0,
              "ticks": ""
             }
            },
            "type": "scatterpolar"
           }
          ],
          "scatterpolargl": [
           {
            "marker": {
             "colorbar": {
              "outlinewidth": 0,
              "ticks": ""
             }
            },
            "type": "scatterpolargl"
           }
          ],
          "scatterternary": [
           {
            "marker": {
             "colorbar": {
              "outlinewidth": 0,
              "ticks": ""
             }
            },
            "type": "scatterternary"
           }
          ],
          "surface": [
           {
            "colorbar": {
             "outlinewidth": 0,
             "ticks": ""
            },
            "colorscale": [
             [
              0,
              "#0d0887"
             ],
             [
              0.1111111111111111,
              "#46039f"
             ],
             [
              0.2222222222222222,
              "#7201a8"
             ],
             [
              0.3333333333333333,
              "#9c179e"
             ],
             [
              0.4444444444444444,
              "#bd3786"
             ],
             [
              0.5555555555555556,
              "#d8576b"
             ],
             [
              0.6666666666666666,
              "#ed7953"
             ],
             [
              0.7777777777777778,
              "#fb9f3a"
             ],
             [
              0.8888888888888888,
              "#fdca26"
             ],
             [
              1,
              "#f0f921"
             ]
            ],
            "type": "surface"
           }
          ],
          "table": [
           {
            "cells": {
             "fill": {
              "color": "#EBF0F8"
             },
             "line": {
              "color": "white"
             }
            },
            "header": {
             "fill": {
              "color": "#C8D4E3"
             },
             "line": {
              "color": "white"
             }
            },
            "type": "table"
           }
          ]
         },
         "layout": {
          "annotationdefaults": {
           "arrowcolor": "#2a3f5f",
           "arrowhead": 0,
           "arrowwidth": 1
          },
          "autotypenumbers": "strict",
          "coloraxis": {
           "colorbar": {
            "outlinewidth": 0,
            "ticks": ""
           }
          },
          "colorscale": {
           "diverging": [
            [
             0,
             "#8e0152"
            ],
            [
             0.1,
             "#c51b7d"
            ],
            [
             0.2,
             "#de77ae"
            ],
            [
             0.3,
             "#f1b6da"
            ],
            [
             0.4,
             "#fde0ef"
            ],
            [
             0.5,
             "#f7f7f7"
            ],
            [
             0.6,
             "#e6f5d0"
            ],
            [
             0.7,
             "#b8e186"
            ],
            [
             0.8,
             "#7fbc41"
            ],
            [
             0.9,
             "#4d9221"
            ],
            [
             1,
             "#276419"
            ]
           ],
           "sequential": [
            [
             0,
             "#0d0887"
            ],
            [
             0.1111111111111111,
             "#46039f"
            ],
            [
             0.2222222222222222,
             "#7201a8"
            ],
            [
             0.3333333333333333,
             "#9c179e"
            ],
            [
             0.4444444444444444,
             "#bd3786"
            ],
            [
             0.5555555555555556,
             "#d8576b"
            ],
            [
             0.6666666666666666,
             "#ed7953"
            ],
            [
             0.7777777777777778,
             "#fb9f3a"
            ],
            [
             0.8888888888888888,
             "#fdca26"
            ],
            [
             1,
             "#f0f921"
            ]
           ],
           "sequentialminus": [
            [
             0,
             "#0d0887"
            ],
            [
             0.1111111111111111,
             "#46039f"
            ],
            [
             0.2222222222222222,
             "#7201a8"
            ],
            [
             0.3333333333333333,
             "#9c179e"
            ],
            [
             0.4444444444444444,
             "#bd3786"
            ],
            [
             0.5555555555555556,
             "#d8576b"
            ],
            [
             0.6666666666666666,
             "#ed7953"
            ],
            [
             0.7777777777777778,
             "#fb9f3a"
            ],
            [
             0.8888888888888888,
             "#fdca26"
            ],
            [
             1,
             "#f0f921"
            ]
           ]
          },
          "colorway": [
           "#636efa",
           "#EF553B",
           "#00cc96",
           "#ab63fa",
           "#FFA15A",
           "#19d3f3",
           "#FF6692",
           "#B6E880",
           "#FF97FF",
           "#FECB52"
          ],
          "font": {
           "color": "#2a3f5f"
          },
          "geo": {
           "bgcolor": "white",
           "lakecolor": "white",
           "landcolor": "#E5ECF6",
           "showlakes": true,
           "showland": true,
           "subunitcolor": "white"
          },
          "hoverlabel": {
           "align": "left"
          },
          "hovermode": "closest",
          "mapbox": {
           "style": "light"
          },
          "paper_bgcolor": "white",
          "plot_bgcolor": "#E5ECF6",
          "polar": {
           "angularaxis": {
            "gridcolor": "white",
            "linecolor": "white",
            "ticks": ""
           },
           "bgcolor": "#E5ECF6",
           "radialaxis": {
            "gridcolor": "white",
            "linecolor": "white",
            "ticks": ""
           }
          },
          "scene": {
           "xaxis": {
            "backgroundcolor": "#E5ECF6",
            "gridcolor": "white",
            "gridwidth": 2,
            "linecolor": "white",
            "showbackground": true,
            "ticks": "",
            "zerolinecolor": "white"
           },
           "yaxis": {
            "backgroundcolor": "#E5ECF6",
            "gridcolor": "white",
            "gridwidth": 2,
            "linecolor": "white",
            "showbackground": true,
            "ticks": "",
            "zerolinecolor": "white"
           },
           "zaxis": {
            "backgroundcolor": "#E5ECF6",
            "gridcolor": "white",
            "gridwidth": 2,
            "linecolor": "white",
            "showbackground": true,
            "ticks": "",
            "zerolinecolor": "white"
           }
          },
          "shapedefaults": {
           "line": {
            "color": "#2a3f5f"
           }
          },
          "ternary": {
           "aaxis": {
            "gridcolor": "white",
            "linecolor": "white",
            "ticks": ""
           },
           "baxis": {
            "gridcolor": "white",
            "linecolor": "white",
            "ticks": ""
           },
           "bgcolor": "#E5ECF6",
           "caxis": {
            "gridcolor": "white",
            "linecolor": "white",
            "ticks": ""
           }
          },
          "title": {
           "x": 0.05
          },
          "xaxis": {
           "automargin": true,
           "gridcolor": "white",
           "linecolor": "white",
           "ticks": "",
           "title": {
            "standoff": 15
           },
           "zerolinecolor": "white",
           "zerolinewidth": 2
          },
          "yaxis": {
           "automargin": true,
           "gridcolor": "white",
           "linecolor": "white",
           "ticks": "",
           "title": {
            "standoff": 15
           },
           "zerolinecolor": "white",
           "zerolinewidth": 2
          }
         }
        },
        "title": {
         "font": {
          "size": 24
         },
         "text": "fedsem (Testing Accuracy vs Communication rounds)"
        },
        "width": 1200,
        "xaxis": {
         "title": {
          "font": {
           "size": 20
          },
          "text": "Communication Rounds"
         }
        },
        "yaxis": {
         "title": {
          "font": {
           "size": 20
          },
          "text": "Testing Accuracy"
         }
        }
       }
      }
     },
     "metadata": {},
     "output_type": "display_data"
    },
    {
     "data": {
      "application/vnd.plotly.v1+json": {
       "config": {
        "plotlyServerURL": "https://plot.ly"
       },
       "data": [
        {
         "line": {
          "color": "#636EFA",
          "dash": "dash"
         },
         "marker": {
          "size": 15,
          "symbol": "circle"
         },
         "mode": "lines+markers",
         "name": "fedsem_r_cifar_iid(18)",
         "type": "scatter",
         "x": [
          0,
          1,
          2,
          3,
          4,
          5,
          6,
          7,
          8,
          9,
          10,
          11,
          12,
          13,
          14,
          15,
          16,
          17,
          18,
          19,
          20,
          21,
          22,
          23,
          24,
          25,
          26,
          27,
          28,
          29,
          30,
          31,
          32,
          33,
          34,
          35,
          36,
          37,
          38,
          39,
          40,
          41,
          42,
          43,
          44,
          45,
          46,
          47,
          48,
          49,
          50,
          51,
          52,
          53,
          54,
          55,
          56,
          57,
          58,
          59,
          60,
          61,
          62,
          63,
          64,
          65,
          66,
          67,
          68,
          69,
          70,
          71,
          72,
          73,
          74,
          75,
          76,
          77,
          78,
          79,
          80,
          81,
          82,
          83,
          84,
          85,
          86,
          87,
          88,
          89,
          90,
          91,
          92,
          93,
          94,
          95,
          96,
          97,
          98,
          99
         ],
         "y": [
          0.16675,
          0.37949999999999995,
          0.41775,
          0.45999999999999996,
          0.48441666666666655,
          0.5220833333333333,
          0.5436666666666666,
          0.5753333333333333,
          0.5935,
          0.6157499999999999,
          0.6210833333333332,
          0.6327499999999999,
          0.6558333333333334,
          0.6636666666666666,
          0.6692499999999999,
          0.671,
          0.6838333333333335,
          0.6895,
          0.7026666666666667,
          0.7093333333333333,
          0.7140833333333334,
          0.7138333333333333,
          0.7189166666666666,
          0.7227499999999999,
          0.7256666666666668,
          0.7280833333333335,
          0.736166666666667,
          0.7376666666666665,
          0.7419166666666668,
          0.7399166666666666,
          0.7449166666666668,
          0.7418333333333335,
          0.7458333333333333,
          0.7483333333333332,
          0.7479166666666666,
          0.7508333333333332,
          0.7535,
          0.7588333333333334,
          0.7524166666666668,
          0.7579999999999999,
          0.7596666666666667,
          0.76125,
          0.7655833333333333,
          0.7648333333333334,
          0.7595833333333334,
          0.7666666666666664,
          0.7665000000000001,
          0.7685,
          0.7657500000000002,
          0.7689166666666668,
          0.7677500000000002,
          0.7673333333333333,
          0.7672500000000001,
          0.77275,
          0.7708333333333335,
          0.7656666666666666,
          0.7722499999999999,
          0.7722499999999998,
          0.7745833333333334,
          0.7756666666666666,
          0.7779166666666666,
          0.7733333333333333,
          0.7775833333333334,
          0.7705833333333334,
          0.7724166666666665,
          0.77125,
          0.7781666666666668,
          0.7868333333333334,
          0.7791666666666667,
          0.779,
          0.7807499999999999,
          0.7817500000000002,
          0.7724999999999999,
          0.7748333333333334,
          0.7840833333333335,
          0.7762499999999999,
          0.7848333333333334,
          0.7871666666666666,
          0.7795000000000001,
          0.777,
          0.7848333333333333,
          0.781,
          0.7781666666666668,
          0.78325,
          0.7873333333333334,
          0.7867500000000001,
          0.7834166666666669,
          0.7835,
          0.7784166666666666,
          0.7836666666666667,
          0.7838333333333333,
          0.7824166666666666,
          0.7790833333333336,
          0.78975,
          0.7915833333333333,
          0.7844166666666668,
          0.7852499999999999,
          0.7879166666666667,
          0.7838333333333334,
          0.7880833333333332
         ]
        },
        {
         "line": {
          "color": "#EF553B",
          "dash": "dash"
         },
         "marker": {
          "size": 15,
          "symbol": "square"
         },
         "mode": "lines+markers",
         "name": "fedsem_r_cifar_one(nan)",
         "type": "scatter",
         "x": [
          0,
          1,
          2,
          3,
          4,
          5,
          6,
          7,
          8,
          9,
          10,
          11,
          12,
          13,
          14,
          15,
          16,
          17,
          18,
          19,
          20,
          21,
          22,
          23,
          24,
          25,
          26,
          27,
          28,
          29,
          30,
          31,
          32,
          33,
          34,
          35,
          36,
          37,
          38,
          39,
          40,
          41,
          42,
          43,
          44,
          45,
          46,
          47,
          48,
          49,
          50,
          51,
          52,
          53,
          54,
          55,
          56,
          57,
          58,
          59,
          60,
          61,
          62,
          63,
          64,
          65,
          66,
          67,
          68,
          69,
          70,
          71,
          72,
          73,
          74,
          75,
          76,
          77,
          78,
          79,
          80,
          81,
          82,
          83,
          84,
          85,
          86,
          87,
          88,
          89,
          90,
          91,
          92,
          93,
          94,
          95,
          96,
          97,
          98,
          99
         ],
         "y": [
          0.1046018785040669,
          0.10437872011122136,
          0.12431139909623307,
          0.10173690275013554,
          0.11497285899525427,
          0.11460336001928528,
          0.10956276789139334,
          0.10595605283240025,
          0.14304601429860825,
          0.14270601155429108,
          0.10523555593892363,
          0.11669302365166005,
          0.127864527949624,
          0.13886903656501406,
          0.12851081174447868,
          0.12045263580196923,
          0.11927461792068131,
          0.13724864643898282,
          0.11567905205804035,
          0.14996972467441383,
          0.13493773305997606,
          0.13343850399584214,
          0.13949954781707707,
          0.16649014860676398,
          0.16407511990044224,
          0.1551704707530442,
          0.15146873807433828,
          0.13591040946280702,
          0.14425456571078274,
          0.1371124990392814,
          0.16416550901402596,
          0.15531849415186416,
          0.148856813391402,
          0.1350594134603086,
          0.13218676480464672,
          0.1590556896149113,
          0.16892435374293463,
          0.16855976380651977,
          0.16894606019909073,
          0.16262986544543187,
          0.17249871392174418,
          0.18871924002480123,
          0.1794908392452506,
          0.16101546933950464,
          0.17808283183508922,
          0.18062691179005125,
          0.16181062534255566,
          0.1732130547570722,
          0.18869747261152348,
          0.18078435509019142,
          0.1859200864365929,
          0.18048378822446573,
          0.16403477623043095,
          0.16820826125073438,
          0.17091272142626182,
          0.17589132929885148,
          0.17253456683954177,
          0.1615787435847919,
          0.18927716186833096,
          0.18114431561565342,
          0.20203456151913748,
          0.1960910377139834,
          0.20476354653483556,
          0.1959242466492722,
          0.19622270753908272,
          0.19842982858044822,
          0.19880799802615828,
          0.1913442959616307,
          0.1947918553620374,
          0.1997029251656611,
          0.20016395422856442,
          0.20671316971502351,
          0.19992347555989956,
          0.2056408485970046,
          0.20637778248634892,
          0.19044534908610114,
          0.19101212300720422,
          0.20960866684457194,
          0.2037062458267245,
          0.19953374297785093,
          0.2474253134337486,
          0.22585654027505614,
          0.22282768359773888,
          0.2317401611203511,
          0.23577859728739595,
          0.2416016890289426,
          0.2670528142258102,
          0.22152190370630825,
          0.23702015056155123,
          0.2624669426136142,
          0.2636815941668853,
          0.2589098038344832,
          0.25707270660153125,
          0.2407472648145044,
          0.2682329308789546,
          0.2595594887588837,
          0.25871958015890967,
          0.26103643389684894,
          0.2463897792326224,
          0.264980302151995
         ]
        },
        {
         "line": {
          "color": "#FFA15A",
          "dash": "dash"
         },
         "marker": {
          "size": 15,
          "symbol": "diamond"
         },
         "mode": "lines+markers",
         "name": "fedsem_r_cifar_two(nan)",
         "type": "scatter",
         "x": [
          0,
          1,
          2,
          3,
          4,
          5,
          6,
          7,
          8,
          9,
          10,
          11,
          12,
          13,
          14,
          15,
          16,
          17,
          18,
          19,
          20,
          21,
          22,
          23,
          24,
          25,
          26,
          27,
          28,
          29,
          30,
          31,
          32,
          33,
          34,
          35,
          36,
          37,
          38,
          39,
          40,
          41,
          42,
          43,
          44,
          45,
          46,
          47,
          48,
          49,
          50,
          51,
          52,
          53,
          54,
          55,
          56,
          57,
          58,
          59,
          60,
          61,
          62,
          63,
          64,
          65,
          66,
          67,
          68,
          69,
          70,
          71,
          72,
          73,
          74,
          75,
          76,
          77,
          78,
          79,
          80,
          81,
          82,
          83,
          84,
          85,
          86,
          87,
          88,
          89,
          90,
          91,
          92,
          93,
          94,
          95,
          96,
          97,
          98,
          99
         ],
         "y": [
          0.24800000000000003,
          0.19891666666666666,
          0.15575000000000003,
          0.22683333333333336,
          0.243,
          0.26008333333333333,
          0.2665,
          0.2806666666666667,
          0.29733333333333334,
          0.32533333333333336,
          0.33225000000000005,
          0.3550833333333333,
          0.37033333333333335,
          0.3730833333333334,
          0.3919166666666667,
          0.39583333333333326,
          0.4056666666666667,
          0.4141666666666667,
          0.43383333333333335,
          0.44,
          0.45483333333333337,
          0.4564166666666667,
          0.47691666666666677,
          0.4755833333333333,
          0.48700000000000004,
          0.49333333333333335,
          0.4968333333333333,
          0.5049166666666667,
          0.5135833333333333,
          0.5234166666666666,
          0.5240833333333332,
          0.5293333333333333,
          0.5335833333333333,
          0.5379166666666667,
          0.5494166666666668,
          0.5489999999999999,
          0.5580833333333334,
          0.5545833333333334,
          0.5604999999999999,
          0.57325,
          0.5635,
          0.5670000000000001,
          0.5737500000000001,
          0.5775833333333332,
          0.5799166666666667,
          0.5771666666666666,
          0.5914166666666667,
          0.5935833333333334,
          0.5894999999999999,
          0.5911666666666666,
          0.5966666666666668,
          0.5980000000000001,
          0.5955833333333334,
          0.6005833333333331,
          0.6094166666666666,
          0.6050833333333333,
          0.6056666666666667,
          0.615,
          0.6146666666666666,
          0.6214166666666667,
          0.6187499999999999,
          0.6158333333333333,
          0.6162500000000002,
          0.61125,
          0.6207499999999999,
          0.6251666666666666,
          0.6271666666666668,
          0.6310833333333333,
          0.6300833333333334,
          0.6282500000000001,
          0.63625,
          0.6300833333333334,
          0.6253333333333333,
          0.6339166666666667,
          0.6288333333333334,
          0.6321666666666667,
          0.6252500000000001,
          0.6349166666666666,
          0.6375,
          0.6346666666666667,
          0.6374999999999998,
          0.6393333333333332,
          0.636,
          0.6397499999999999,
          0.6410833333333332,
          0.63725,
          0.6415,
          0.6363333333333333,
          0.6447499999999999,
          0.6468333333333334,
          0.6526666666666667,
          0.6493333333333333,
          0.6451666666666667,
          0.6410833333333333,
          0.6444999999999997,
          0.645,
          0.6480833333333333,
          0.6553333333333334,
          0.6506666666666667,
          0.6502499999999999
         ]
        },
        {
         "line": {
          "color": "#00CC96",
          "dash": "dash"
         },
         "marker": {
          "size": 15,
          "symbol": "x"
         },
         "mode": "lines+markers",
         "name": "fedsem_r_cifar_unequal(13)",
         "type": "scatter",
         "x": [
          0,
          1,
          2,
          3,
          4,
          5,
          6,
          7,
          8,
          9,
          10,
          11,
          12,
          13,
          14,
          15,
          16,
          17,
          18,
          19,
          20,
          21,
          22,
          23,
          24,
          25,
          26,
          27,
          28,
          29,
          30,
          31,
          32,
          33,
          34,
          35,
          36,
          37,
          38,
          39,
          40,
          41,
          42,
          43,
          44,
          45,
          46,
          47,
          48,
          49,
          50,
          51,
          52,
          53,
          54,
          55,
          56,
          57,
          58,
          59,
          60,
          61,
          62,
          63,
          64,
          65,
          66,
          67,
          68,
          69,
          70,
          71,
          72,
          73,
          74,
          75,
          76,
          77,
          78,
          79,
          80,
          81,
          82,
          83,
          84,
          85,
          86,
          87,
          88,
          89,
          90,
          91,
          92,
          93,
          94,
          95,
          96,
          97,
          98,
          99
         ],
         "y": [
          0.12333666666666665,
          0.39147333333333323,
          0.47877666666666674,
          0.5238633333333333,
          0.5505666666666668,
          0.59135,
          0.6091933333333334,
          0.6414833333333332,
          0.6464066666666667,
          0.6665,
          0.6759633333333332,
          0.6802933333333332,
          0.6969533333333334,
          0.7058566666666667,
          0.6968999999999997,
          0.7086600000000001,
          0.7275733333333333,
          0.73119,
          0.7306333333333335,
          0.7358566666666667,
          0.7451133333333332,
          0.74063,
          0.7162933333333334,
          0.7417066666666664,
          0.7355733333333332,
          0.7409533333333335,
          0.7464500000000001,
          0.7669333333333334,
          0.7527166666666666,
          0.7623933333333334,
          0.7564,
          0.7493633333333333,
          0.7615866666666667,
          0.76428,
          0.7620699999999999,
          0.7668400000000001,
          0.7752833333333332,
          0.7695066666666667,
          0.7660866666666666,
          0.7737966666666666,
          0.7717366666666666,
          0.77348,
          0.7810366666666666,
          0.7603700000000001,
          0.7671966666666667,
          0.7620233333333335,
          0.7712633333333332,
          0.7697933333333332,
          0.7685366666666666,
          0.7793866666666668,
          0.7770966666666665,
          0.7852633333333333,
          0.7827666666666667,
          0.7665033333333334,
          0.7796699999999999,
          0.7800866666666667,
          0.77134,
          0.7783133333333332,
          0.7711,
          0.7780599999999999,
          0.7706899999999999,
          0.7798466666666666,
          0.7741566666666666,
          0.7758533333333334,
          0.7800933333333333,
          0.7809999999999999,
          0.7739966666666668,
          0.7821899999999999,
          0.7763466666666667,
          0.7748833333333333,
          0.7927433333333335,
          0.7736366666666666,
          0.7790433333333333,
          0.7768499999999999,
          0.7883599999999998,
          0.7823633333333336,
          0.7907666666666666,
          0.7881633333333334,
          0.7787266666666665,
          0.7830533333333334,
          0.78213,
          0.7815866666666668,
          0.7763666666666668,
          0.7849799999999999,
          0.7854133333333333,
          0.78433,
          0.7862266666666666,
          0.7857033333333334,
          0.7854666666666668,
          0.7926933333333335,
          0.7839433333333332,
          0.7801066666666665,
          0.7778133333333332,
          0.78298,
          0.7755,
          0.7749,
          0.7726733333333334,
          0.7860066666666666,
          0.7767999999999998,
          0.7918000000000001
         ]
        }
       ],
       "layout": {
        "height": 900,
        "legend": {
         "font": {
          "size": 24
         },
         "x": 1,
         "xanchor": "right",
         "y": 0.5,
         "yanchor": "middle"
        },
        "shapes": [
         {
          "line": {
           "color": "gray",
           "dash": "solid"
          },
          "type": "line",
          "x0": 0,
          "x1": 1,
          "xref": "paper",
          "y0": 0.7,
          "y1": 0.7,
          "yref": "y"
         }
        ],
        "template": {
         "data": {
          "bar": [
           {
            "error_x": {
             "color": "#2a3f5f"
            },
            "error_y": {
             "color": "#2a3f5f"
            },
            "marker": {
             "line": {
              "color": "#E5ECF6",
              "width": 0.5
             },
             "pattern": {
              "fillmode": "overlay",
              "size": 10,
              "solidity": 0.2
             }
            },
            "type": "bar"
           }
          ],
          "barpolar": [
           {
            "marker": {
             "line": {
              "color": "#E5ECF6",
              "width": 0.5
             },
             "pattern": {
              "fillmode": "overlay",
              "size": 10,
              "solidity": 0.2
             }
            },
            "type": "barpolar"
           }
          ],
          "carpet": [
           {
            "aaxis": {
             "endlinecolor": "#2a3f5f",
             "gridcolor": "white",
             "linecolor": "white",
             "minorgridcolor": "white",
             "startlinecolor": "#2a3f5f"
            },
            "baxis": {
             "endlinecolor": "#2a3f5f",
             "gridcolor": "white",
             "linecolor": "white",
             "minorgridcolor": "white",
             "startlinecolor": "#2a3f5f"
            },
            "type": "carpet"
           }
          ],
          "choropleth": [
           {
            "colorbar": {
             "outlinewidth": 0,
             "ticks": ""
            },
            "type": "choropleth"
           }
          ],
          "contour": [
           {
            "colorbar": {
             "outlinewidth": 0,
             "ticks": ""
            },
            "colorscale": [
             [
              0,
              "#0d0887"
             ],
             [
              0.1111111111111111,
              "#46039f"
             ],
             [
              0.2222222222222222,
              "#7201a8"
             ],
             [
              0.3333333333333333,
              "#9c179e"
             ],
             [
              0.4444444444444444,
              "#bd3786"
             ],
             [
              0.5555555555555556,
              "#d8576b"
             ],
             [
              0.6666666666666666,
              "#ed7953"
             ],
             [
              0.7777777777777778,
              "#fb9f3a"
             ],
             [
              0.8888888888888888,
              "#fdca26"
             ],
             [
              1,
              "#f0f921"
             ]
            ],
            "type": "contour"
           }
          ],
          "contourcarpet": [
           {
            "colorbar": {
             "outlinewidth": 0,
             "ticks": ""
            },
            "type": "contourcarpet"
           }
          ],
          "heatmap": [
           {
            "colorbar": {
             "outlinewidth": 0,
             "ticks": ""
            },
            "colorscale": [
             [
              0,
              "#0d0887"
             ],
             [
              0.1111111111111111,
              "#46039f"
             ],
             [
              0.2222222222222222,
              "#7201a8"
             ],
             [
              0.3333333333333333,
              "#9c179e"
             ],
             [
              0.4444444444444444,
              "#bd3786"
             ],
             [
              0.5555555555555556,
              "#d8576b"
             ],
             [
              0.6666666666666666,
              "#ed7953"
             ],
             [
              0.7777777777777778,
              "#fb9f3a"
             ],
             [
              0.8888888888888888,
              "#fdca26"
             ],
             [
              1,
              "#f0f921"
             ]
            ],
            "type": "heatmap"
           }
          ],
          "heatmapgl": [
           {
            "colorbar": {
             "outlinewidth": 0,
             "ticks": ""
            },
            "colorscale": [
             [
              0,
              "#0d0887"
             ],
             [
              0.1111111111111111,
              "#46039f"
             ],
             [
              0.2222222222222222,
              "#7201a8"
             ],
             [
              0.3333333333333333,
              "#9c179e"
             ],
             [
              0.4444444444444444,
              "#bd3786"
             ],
             [
              0.5555555555555556,
              "#d8576b"
             ],
             [
              0.6666666666666666,
              "#ed7953"
             ],
             [
              0.7777777777777778,
              "#fb9f3a"
             ],
             [
              0.8888888888888888,
              "#fdca26"
             ],
             [
              1,
              "#f0f921"
             ]
            ],
            "type": "heatmapgl"
           }
          ],
          "histogram": [
           {
            "marker": {
             "pattern": {
              "fillmode": "overlay",
              "size": 10,
              "solidity": 0.2
             }
            },
            "type": "histogram"
           }
          ],
          "histogram2d": [
           {
            "colorbar": {
             "outlinewidth": 0,
             "ticks": ""
            },
            "colorscale": [
             [
              0,
              "#0d0887"
             ],
             [
              0.1111111111111111,
              "#46039f"
             ],
             [
              0.2222222222222222,
              "#7201a8"
             ],
             [
              0.3333333333333333,
              "#9c179e"
             ],
             [
              0.4444444444444444,
              "#bd3786"
             ],
             [
              0.5555555555555556,
              "#d8576b"
             ],
             [
              0.6666666666666666,
              "#ed7953"
             ],
             [
              0.7777777777777778,
              "#fb9f3a"
             ],
             [
              0.8888888888888888,
              "#fdca26"
             ],
             [
              1,
              "#f0f921"
             ]
            ],
            "type": "histogram2d"
           }
          ],
          "histogram2dcontour": [
           {
            "colorbar": {
             "outlinewidth": 0,
             "ticks": ""
            },
            "colorscale": [
             [
              0,
              "#0d0887"
             ],
             [
              0.1111111111111111,
              "#46039f"
             ],
             [
              0.2222222222222222,
              "#7201a8"
             ],
             [
              0.3333333333333333,
              "#9c179e"
             ],
             [
              0.4444444444444444,
              "#bd3786"
             ],
             [
              0.5555555555555556,
              "#d8576b"
             ],
             [
              0.6666666666666666,
              "#ed7953"
             ],
             [
              0.7777777777777778,
              "#fb9f3a"
             ],
             [
              0.8888888888888888,
              "#fdca26"
             ],
             [
              1,
              "#f0f921"
             ]
            ],
            "type": "histogram2dcontour"
           }
          ],
          "mesh3d": [
           {
            "colorbar": {
             "outlinewidth": 0,
             "ticks": ""
            },
            "type": "mesh3d"
           }
          ],
          "parcoords": [
           {
            "line": {
             "colorbar": {
              "outlinewidth": 0,
              "ticks": ""
             }
            },
            "type": "parcoords"
           }
          ],
          "pie": [
           {
            "automargin": true,
            "type": "pie"
           }
          ],
          "scatter": [
           {
            "fillpattern": {
             "fillmode": "overlay",
             "size": 10,
             "solidity": 0.2
            },
            "type": "scatter"
           }
          ],
          "scatter3d": [
           {
            "line": {
             "colorbar": {
              "outlinewidth": 0,
              "ticks": ""
             }
            },
            "marker": {
             "colorbar": {
              "outlinewidth": 0,
              "ticks": ""
             }
            },
            "type": "scatter3d"
           }
          ],
          "scattercarpet": [
           {
            "marker": {
             "colorbar": {
              "outlinewidth": 0,
              "ticks": ""
             }
            },
            "type": "scattercarpet"
           }
          ],
          "scattergeo": [
           {
            "marker": {
             "colorbar": {
              "outlinewidth": 0,
              "ticks": ""
             }
            },
            "type": "scattergeo"
           }
          ],
          "scattergl": [
           {
            "marker": {
             "colorbar": {
              "outlinewidth": 0,
              "ticks": ""
             }
            },
            "type": "scattergl"
           }
          ],
          "scattermapbox": [
           {
            "marker": {
             "colorbar": {
              "outlinewidth": 0,
              "ticks": ""
             }
            },
            "type": "scattermapbox"
           }
          ],
          "scatterpolar": [
           {
            "marker": {
             "colorbar": {
              "outlinewidth": 0,
              "ticks": ""
             }
            },
            "type": "scatterpolar"
           }
          ],
          "scatterpolargl": [
           {
            "marker": {
             "colorbar": {
              "outlinewidth": 0,
              "ticks": ""
             }
            },
            "type": "scatterpolargl"
           }
          ],
          "scatterternary": [
           {
            "marker": {
             "colorbar": {
              "outlinewidth": 0,
              "ticks": ""
             }
            },
            "type": "scatterternary"
           }
          ],
          "surface": [
           {
            "colorbar": {
             "outlinewidth": 0,
             "ticks": ""
            },
            "colorscale": [
             [
              0,
              "#0d0887"
             ],
             [
              0.1111111111111111,
              "#46039f"
             ],
             [
              0.2222222222222222,
              "#7201a8"
             ],
             [
              0.3333333333333333,
              "#9c179e"
             ],
             [
              0.4444444444444444,
              "#bd3786"
             ],
             [
              0.5555555555555556,
              "#d8576b"
             ],
             [
              0.6666666666666666,
              "#ed7953"
             ],
             [
              0.7777777777777778,
              "#fb9f3a"
             ],
             [
              0.8888888888888888,
              "#fdca26"
             ],
             [
              1,
              "#f0f921"
             ]
            ],
            "type": "surface"
           }
          ],
          "table": [
           {
            "cells": {
             "fill": {
              "color": "#EBF0F8"
             },
             "line": {
              "color": "white"
             }
            },
            "header": {
             "fill": {
              "color": "#C8D4E3"
             },
             "line": {
              "color": "white"
             }
            },
            "type": "table"
           }
          ]
         },
         "layout": {
          "annotationdefaults": {
           "arrowcolor": "#2a3f5f",
           "arrowhead": 0,
           "arrowwidth": 1
          },
          "autotypenumbers": "strict",
          "coloraxis": {
           "colorbar": {
            "outlinewidth": 0,
            "ticks": ""
           }
          },
          "colorscale": {
           "diverging": [
            [
             0,
             "#8e0152"
            ],
            [
             0.1,
             "#c51b7d"
            ],
            [
             0.2,
             "#de77ae"
            ],
            [
             0.3,
             "#f1b6da"
            ],
            [
             0.4,
             "#fde0ef"
            ],
            [
             0.5,
             "#f7f7f7"
            ],
            [
             0.6,
             "#e6f5d0"
            ],
            [
             0.7,
             "#b8e186"
            ],
            [
             0.8,
             "#7fbc41"
            ],
            [
             0.9,
             "#4d9221"
            ],
            [
             1,
             "#276419"
            ]
           ],
           "sequential": [
            [
             0,
             "#0d0887"
            ],
            [
             0.1111111111111111,
             "#46039f"
            ],
            [
             0.2222222222222222,
             "#7201a8"
            ],
            [
             0.3333333333333333,
             "#9c179e"
            ],
            [
             0.4444444444444444,
             "#bd3786"
            ],
            [
             0.5555555555555556,
             "#d8576b"
            ],
            [
             0.6666666666666666,
             "#ed7953"
            ],
            [
             0.7777777777777778,
             "#fb9f3a"
            ],
            [
             0.8888888888888888,
             "#fdca26"
            ],
            [
             1,
             "#f0f921"
            ]
           ],
           "sequentialminus": [
            [
             0,
             "#0d0887"
            ],
            [
             0.1111111111111111,
             "#46039f"
            ],
            [
             0.2222222222222222,
             "#7201a8"
            ],
            [
             0.3333333333333333,
             "#9c179e"
            ],
            [
             0.4444444444444444,
             "#bd3786"
            ],
            [
             0.5555555555555556,
             "#d8576b"
            ],
            [
             0.6666666666666666,
             "#ed7953"
            ],
            [
             0.7777777777777778,
             "#fb9f3a"
            ],
            [
             0.8888888888888888,
             "#fdca26"
            ],
            [
             1,
             "#f0f921"
            ]
           ]
          },
          "colorway": [
           "#636efa",
           "#EF553B",
           "#00cc96",
           "#ab63fa",
           "#FFA15A",
           "#19d3f3",
           "#FF6692",
           "#B6E880",
           "#FF97FF",
           "#FECB52"
          ],
          "font": {
           "color": "#2a3f5f"
          },
          "geo": {
           "bgcolor": "white",
           "lakecolor": "white",
           "landcolor": "#E5ECF6",
           "showlakes": true,
           "showland": true,
           "subunitcolor": "white"
          },
          "hoverlabel": {
           "align": "left"
          },
          "hovermode": "closest",
          "mapbox": {
           "style": "light"
          },
          "paper_bgcolor": "white",
          "plot_bgcolor": "#E5ECF6",
          "polar": {
           "angularaxis": {
            "gridcolor": "white",
            "linecolor": "white",
            "ticks": ""
           },
           "bgcolor": "#E5ECF6",
           "radialaxis": {
            "gridcolor": "white",
            "linecolor": "white",
            "ticks": ""
           }
          },
          "scene": {
           "xaxis": {
            "backgroundcolor": "#E5ECF6",
            "gridcolor": "white",
            "gridwidth": 2,
            "linecolor": "white",
            "showbackground": true,
            "ticks": "",
            "zerolinecolor": "white"
           },
           "yaxis": {
            "backgroundcolor": "#E5ECF6",
            "gridcolor": "white",
            "gridwidth": 2,
            "linecolor": "white",
            "showbackground": true,
            "ticks": "",
            "zerolinecolor": "white"
           },
           "zaxis": {
            "backgroundcolor": "#E5ECF6",
            "gridcolor": "white",
            "gridwidth": 2,
            "linecolor": "white",
            "showbackground": true,
            "ticks": "",
            "zerolinecolor": "white"
           }
          },
          "shapedefaults": {
           "line": {
            "color": "#2a3f5f"
           }
          },
          "ternary": {
           "aaxis": {
            "gridcolor": "white",
            "linecolor": "white",
            "ticks": ""
           },
           "baxis": {
            "gridcolor": "white",
            "linecolor": "white",
            "ticks": ""
           },
           "bgcolor": "#E5ECF6",
           "caxis": {
            "gridcolor": "white",
            "linecolor": "white",
            "ticks": ""
           }
          },
          "title": {
           "x": 0.05
          },
          "xaxis": {
           "automargin": true,
           "gridcolor": "white",
           "linecolor": "white",
           "ticks": "",
           "title": {
            "standoff": 15
           },
           "zerolinecolor": "white",
           "zerolinewidth": 2
          },
          "yaxis": {
           "automargin": true,
           "gridcolor": "white",
           "linecolor": "white",
           "ticks": "",
           "title": {
            "standoff": 15
           },
           "zerolinecolor": "white",
           "zerolinewidth": 2
          }
         }
        },
        "title": {
         "font": {
          "size": 24
         },
         "text": "fedsem_r (Testing Accuracy vs Communication rounds)"
        },
        "width": 1200,
        "xaxis": {
         "title": {
          "font": {
           "size": 20
          },
          "text": "Communication Rounds"
         }
        },
        "yaxis": {
         "title": {
          "font": {
           "size": 20
          },
          "text": "Testing Accuracy"
         }
        }
       }
      }
     },
     "metadata": {},
     "output_type": "display_data"
    },
    {
     "name": "stderr",
     "output_type": "stream",
     "text": [
      " 75%|███████▌  | 3/4 [00:00<00:00, 10.33it/s]"
     ]
    },
    {
     "data": {
      "application/vnd.plotly.v1+json": {
       "config": {
        "plotlyServerURL": "https://plot.ly"
       },
       "data": [
        {
         "line": {
          "color": "#636EFA",
          "dash": "dash"
         },
         "marker": {
          "size": 15,
          "symbol": "circle"
         },
         "mode": "lines+markers",
         "name": "feddbscan_cifar_iid(9)",
         "type": "scatter",
         "x": [
          0,
          1,
          2,
          3,
          4,
          5,
          6,
          7,
          8,
          9,
          10,
          11,
          12,
          13,
          14,
          15,
          16,
          17,
          18,
          19,
          20,
          21,
          22,
          23,
          24,
          25,
          26,
          27,
          28,
          29,
          30,
          31,
          32,
          33,
          34,
          35,
          36,
          37,
          38,
          39,
          40,
          41,
          42,
          43,
          44,
          45,
          46,
          47,
          48,
          49,
          50,
          51,
          52,
          53,
          54,
          55,
          56,
          57,
          58,
          59,
          60,
          61,
          62,
          63,
          64,
          65,
          66,
          67,
          68,
          69,
          70,
          71,
          72,
          73,
          74,
          75,
          76,
          77,
          78,
          79,
          80,
          81,
          82,
          83,
          84,
          85,
          86,
          87,
          88,
          89,
          90,
          91,
          92,
          93,
          94,
          95,
          96,
          97,
          98,
          99
         ],
         "y": [
          0.4085833333333334,
          0.4970833333333334,
          0.5736666666666665,
          0.6014166666666667,
          0.6221666666666666,
          0.6506666666666666,
          0.6672499999999999,
          0.6905833333333334,
          0.688,
          0.7049166666666667,
          0.706,
          0.714,
          0.7263333333333334,
          0.7277499999999998,
          0.7301666666666667,
          0.7346666666666664,
          0.7465833333333334,
          0.744,
          0.7544166666666664,
          0.7412500000000002,
          0.7505000000000001,
          0.7495833333333334,
          0.7556666666666666,
          0.7536666666666665,
          0.7574166666666665,
          0.7655000000000001,
          0.7610833333333333,
          0.76875,
          0.76625,
          0.7681666666666666,
          0.76775,
          0.7683333333333333,
          0.7725000000000001,
          0.7675,
          0.7770833333333333,
          0.7753333333333333,
          0.7719999999999999,
          0.76975,
          0.7724166666666666,
          0.7714166666666668,
          0.7717500000000002,
          0.7814999999999999,
          0.7797499999999999,
          0.7764166666666665,
          0.7802500000000001,
          0.7771666666666667,
          0.7804166666666669,
          0.7790833333333335,
          0.7823333333333333,
          0.7773333333333335,
          0.7771666666666667,
          0.7780833333333335,
          0.7857500000000001,
          0.7814999999999999,
          0.7843333333333332,
          0.77875,
          0.7841666666666669,
          0.7792500000000001,
          0.7816666666666667,
          0.7882499999999999,
          0.77875,
          0.7845833333333333,
          0.7881666666666666,
          0.7785833333333333,
          0.7834166666666668,
          0.7842499999999999,
          0.7800833333333332,
          0.7799166666666668,
          0.7865,
          0.7886666666666667,
          0.7780833333333333,
          0.7796666666666666,
          0.7864999999999999,
          0.7919166666666667,
          0.7781666666666668,
          0.7886666666666667,
          0.7836666666666667,
          0.7925833333333333,
          0.7896666666666666,
          0.7865833333333332,
          0.7915833333333333,
          0.78125,
          0.7863333333333334,
          0.7875833333333333,
          0.7938333333333333,
          0.7848333333333333,
          0.7924166666666665,
          0.7893333333333334,
          0.7831666666666667,
          0.7869999999999998,
          0.7837500000000002,
          0.7931666666666665,
          0.7874166666666665,
          0.7868333333333334,
          0.7886666666666667,
          0.7892500000000001,
          0.7911666666666669,
          0.7904999999999999,
          0.7901666666666666,
          0.7865833333333333
         ]
        },
        {
         "line": {
          "color": "#EF553B",
          "dash": "dash"
         },
         "marker": {
          "size": 15,
          "symbol": "square"
         },
         "mode": "lines+markers",
         "name": "feddbscan_cifar_one(0)",
         "type": "scatter",
         "x": [
          0,
          1,
          2,
          3,
          4,
          5,
          6,
          7,
          8,
          9,
          10,
          11,
          12,
          13,
          14,
          15,
          16,
          17,
          18,
          19,
          20,
          21,
          22,
          23,
          24,
          25,
          26,
          27,
          28,
          29,
          30,
          31,
          32,
          33,
          34,
          35,
          36,
          37,
          38,
          39,
          40,
          41,
          42,
          43,
          44,
          45,
          46,
          47,
          48,
          49,
          50,
          51,
          52,
          53,
          54,
          55,
          56,
          57,
          58,
          59,
          60,
          61,
          62,
          63,
          64,
          65,
          66,
          67,
          68,
          69,
          70,
          71,
          72,
          73,
          74,
          75,
          76,
          77,
          78,
          79,
          80,
          81,
          82,
          83,
          84,
          85,
          86,
          87,
          88,
          89,
          90,
          91,
          92,
          93,
          94,
          95,
          96,
          97,
          98,
          99
         ],
         "y": [
          1,
          1,
          1,
          1,
          1,
          1,
          1,
          1,
          1,
          1,
          1,
          1,
          1,
          1,
          1,
          1,
          1,
          1,
          1,
          1,
          1,
          1,
          1,
          1,
          1,
          1,
          1,
          1,
          1,
          1,
          1,
          1,
          1,
          1,
          1,
          1,
          1,
          1,
          1,
          1,
          1,
          1,
          1,
          1,
          1,
          1,
          1,
          1,
          1,
          1,
          1,
          1,
          1,
          1,
          1,
          1,
          1,
          1,
          1,
          1,
          1,
          1,
          1,
          1,
          1,
          1,
          1,
          1,
          1,
          1,
          1,
          1,
          1,
          1,
          1,
          1,
          1,
          1,
          1,
          1,
          1,
          1,
          1,
          1,
          1,
          1,
          1,
          1,
          1,
          1,
          1,
          1,
          1,
          1,
          1,
          1,
          1,
          1,
          1,
          1
         ]
        },
        {
         "line": {
          "color": "#FFA15A",
          "dash": "dash"
         },
         "marker": {
          "size": 15,
          "symbol": "diamond"
         },
         "mode": "lines+markers",
         "name": "feddbscan_cifar_two(91)",
         "type": "scatter",
         "x": [
          0,
          1,
          2,
          3,
          4,
          5,
          6,
          7,
          8,
          9,
          10,
          11,
          12,
          13,
          14,
          15,
          16,
          17,
          18,
          19,
          20,
          21,
          22,
          23,
          24,
          25,
          26,
          27,
          28,
          29,
          30,
          31,
          32,
          33,
          34,
          35,
          36,
          37,
          38,
          39,
          40,
          41,
          42,
          43,
          44,
          45,
          46,
          47,
          48,
          49,
          50,
          51,
          52,
          53,
          54,
          55,
          56,
          57,
          58,
          59,
          60,
          61,
          62,
          63,
          64,
          65,
          66,
          67,
          68,
          69,
          70,
          71,
          72,
          73,
          74,
          75,
          76,
          77,
          78,
          79,
          80,
          81,
          82,
          83,
          84,
          85,
          86,
          87,
          88,
          89,
          90,
          91,
          92,
          93,
          94,
          95,
          96,
          97,
          98,
          99
         ],
         "y": [
          0.2033333333333333,
          0.2924166666666667,
          0.33833333333333326,
          0.36941666666666667,
          0.40125000000000005,
          0.4210833333333333,
          0.45025000000000015,
          0.479,
          0.498,
          0.5096666666666667,
          0.5375,
          0.5566666666666666,
          0.5690833333333334,
          0.5799166666666669,
          0.5933333333333334,
          0.5882499999999998,
          0.59675,
          0.6041666666666666,
          0.6148333333333333,
          0.6255,
          0.6279166666666665,
          0.6365,
          0.63625,
          0.63275,
          0.6466666666666667,
          0.6465,
          0.6546666666666667,
          0.6519166666666667,
          0.6539166666666668,
          0.6609166666666667,
          0.6634166666666668,
          0.65475,
          0.6691666666666666,
          0.6682499999999999,
          0.664,
          0.6664166666666669,
          0.6665,
          0.6766666666666669,
          0.6743333333333333,
          0.6677500000000001,
          0.67525,
          0.6778333333333334,
          0.6749999999999999,
          0.6748333333333334,
          0.6842499999999999,
          0.6801666666666667,
          0.6729166666666665,
          0.6740833333333334,
          0.6780833333333333,
          0.6765833333333333,
          0.6802499999999999,
          0.6851666666666668,
          0.6816666666666668,
          0.6863333333333334,
          0.6814999999999999,
          0.6830000000000002,
          0.6824166666666668,
          0.6857500000000001,
          0.6802499999999999,
          0.6808333333333333,
          0.6845,
          0.6844166666666667,
          0.6808333333333333,
          0.6841666666666666,
          0.6833333333333335,
          0.6853333333333332,
          0.6831666666666668,
          0.6876666666666668,
          0.6935,
          0.6815000000000001,
          0.6856666666666668,
          0.6855833333333333,
          0.6932499999999997,
          0.6993333333333335,
          0.6883333333333331,
          0.6907499999999999,
          0.6923333333333334,
          0.6894166666666666,
          0.6916666666666667,
          0.6827500000000001,
          0.6909166666666666,
          0.6839999999999999,
          0.6914999999999999,
          0.6936666666666668,
          0.6887500000000001,
          0.6956666666666665,
          0.6935000000000001,
          0.6938333333333333,
          0.6858333333333333,
          0.6878333333333334,
          0.6933333333333331,
          0.703833333333333,
          0.6880000000000001,
          0.6863333333333331,
          0.6957500000000002,
          0.6905833333333334,
          0.6838333333333334,
          0.68575,
          0.68325,
          0.6917500000000001
         ]
        },
        {
         "line": {
          "color": "#00CC96",
          "dash": "dash"
         },
         "marker": {
          "size": 15,
          "symbol": "x"
         },
         "mode": "lines+markers",
         "name": "feddbscan_cifar_unequal(6)",
         "type": "scatter",
         "x": [
          0,
          1,
          2,
          3,
          4,
          5,
          6,
          7,
          8,
          9,
          10,
          11,
          12,
          13,
          14,
          15,
          16,
          17,
          18,
          19,
          20,
          21,
          22,
          23,
          24,
          25,
          26,
          27,
          28,
          29,
          30,
          31,
          32,
          33,
          34,
          35,
          36,
          37,
          38,
          39,
          40,
          41,
          42,
          43,
          44,
          45,
          46,
          47,
          48,
          49,
          50,
          51,
          52,
          53,
          54,
          55,
          56,
          57,
          58,
          59,
          60,
          61,
          62,
          63,
          64,
          65,
          66,
          67,
          68,
          69,
          70,
          71,
          72,
          73,
          74,
          75,
          76,
          77,
          78,
          79,
          80,
          81,
          82,
          83,
          84,
          85,
          86,
          87,
          88,
          89,
          90,
          91,
          92,
          93,
          94,
          95,
          96,
          97,
          98,
          99
         ],
         "y": [
          0.39793666666666666,
          0.53835,
          0.5982300000000002,
          0.6379866666666666,
          0.6673766666666665,
          0.6916166666666667,
          0.7096700000000001,
          0.7227200000000001,
          0.7231600000000001,
          0.72747,
          0.7293566666666667,
          0.7566633333333335,
          0.7378533333333335,
          0.7461633333333333,
          0.7554433333333335,
          0.7403866666666665,
          0.7675066666666666,
          0.7597833333333333,
          0.7597600000000001,
          0.7629633333333333,
          0.75035,
          0.7736999999999997,
          0.7665133333333334,
          0.76504,
          0.76614,
          0.7858866666666665,
          0.7770499999999999,
          0.7784399999999998,
          0.7776266666666667,
          0.7819566666666666,
          0.781613333333333,
          0.7796899999999999,
          0.78062,
          0.7839133333333332,
          0.7758666666666667,
          0.7767300000000001,
          0.77769,
          0.7817366666666667,
          0.7790666666666667,
          0.7873366666666666,
          0.7849166666666666,
          0.7855933333333333,
          0.7867266666666667,
          0.7935699999999998,
          0.7864833333333332,
          0.7904166666666667,
          0.7802600000000001,
          0.78963,
          0.7870333333333333,
          0.7753566666666667,
          0.7878066666666667,
          0.7845966666666665,
          0.7896366666666667,
          0.7868399999999999,
          0.78271,
          0.7771299999999999,
          0.7943066666666666,
          0.7884266666666665,
          0.7929899999999998,
          0.7995900000000001,
          0.7930599999999999,
          0.7975466666666665,
          0.7923266666666666,
          0.7995433333333332,
          0.8016566666666666,
          0.7815166666666666,
          0.7967333333333333,
          0.7952,
          0.7920066666666669,
          0.7894800000000001,
          0.7912833333333334,
          0.8014733333333335,
          0.8017733333333333,
          0.7899699999999998,
          0.7872166666666669,
          0.7995866666666667,
          0.7962166666666667,
          0.7887733333333332,
          0.7945466666666667,
          0.7990366666666665,
          0.7963833333333332,
          0.7930133333333333,
          0.7941933333333332,
          0.7818866666666666,
          0.7983266666666665,
          0.7886033333333332,
          0.7884033333333335,
          0.7898833333333334,
          0.7890033333333334,
          0.7915266666666665,
          0.7901833333333331,
          0.7951133333333332,
          0.8024433333333333,
          0.8026166666666668,
          0.81402,
          0.7843733333333333,
          0.7741333333333332,
          0.79687,
          0.7986666666666665,
          0.7824599999999999
         ]
        }
       ],
       "layout": {
        "height": 900,
        "legend": {
         "font": {
          "size": 24
         },
         "x": 1,
         "xanchor": "right",
         "y": 0,
         "yanchor": "bottom"
        },
        "shapes": [
         {
          "line": {
           "color": "gray",
           "dash": "solid"
          },
          "type": "line",
          "x0": 0,
          "x1": 1,
          "xref": "paper",
          "y0": 0.7,
          "y1": 0.7,
          "yref": "y"
         }
        ],
        "template": {
         "data": {
          "bar": [
           {
            "error_x": {
             "color": "#2a3f5f"
            },
            "error_y": {
             "color": "#2a3f5f"
            },
            "marker": {
             "line": {
              "color": "#E5ECF6",
              "width": 0.5
             },
             "pattern": {
              "fillmode": "overlay",
              "size": 10,
              "solidity": 0.2
             }
            },
            "type": "bar"
           }
          ],
          "barpolar": [
           {
            "marker": {
             "line": {
              "color": "#E5ECF6",
              "width": 0.5
             },
             "pattern": {
              "fillmode": "overlay",
              "size": 10,
              "solidity": 0.2
             }
            },
            "type": "barpolar"
           }
          ],
          "carpet": [
           {
            "aaxis": {
             "endlinecolor": "#2a3f5f",
             "gridcolor": "white",
             "linecolor": "white",
             "minorgridcolor": "white",
             "startlinecolor": "#2a3f5f"
            },
            "baxis": {
             "endlinecolor": "#2a3f5f",
             "gridcolor": "white",
             "linecolor": "white",
             "minorgridcolor": "white",
             "startlinecolor": "#2a3f5f"
            },
            "type": "carpet"
           }
          ],
          "choropleth": [
           {
            "colorbar": {
             "outlinewidth": 0,
             "ticks": ""
            },
            "type": "choropleth"
           }
          ],
          "contour": [
           {
            "colorbar": {
             "outlinewidth": 0,
             "ticks": ""
            },
            "colorscale": [
             [
              0,
              "#0d0887"
             ],
             [
              0.1111111111111111,
              "#46039f"
             ],
             [
              0.2222222222222222,
              "#7201a8"
             ],
             [
              0.3333333333333333,
              "#9c179e"
             ],
             [
              0.4444444444444444,
              "#bd3786"
             ],
             [
              0.5555555555555556,
              "#d8576b"
             ],
             [
              0.6666666666666666,
              "#ed7953"
             ],
             [
              0.7777777777777778,
              "#fb9f3a"
             ],
             [
              0.8888888888888888,
              "#fdca26"
             ],
             [
              1,
              "#f0f921"
             ]
            ],
            "type": "contour"
           }
          ],
          "contourcarpet": [
           {
            "colorbar": {
             "outlinewidth": 0,
             "ticks": ""
            },
            "type": "contourcarpet"
           }
          ],
          "heatmap": [
           {
            "colorbar": {
             "outlinewidth": 0,
             "ticks": ""
            },
            "colorscale": [
             [
              0,
              "#0d0887"
             ],
             [
              0.1111111111111111,
              "#46039f"
             ],
             [
              0.2222222222222222,
              "#7201a8"
             ],
             [
              0.3333333333333333,
              "#9c179e"
             ],
             [
              0.4444444444444444,
              "#bd3786"
             ],
             [
              0.5555555555555556,
              "#d8576b"
             ],
             [
              0.6666666666666666,
              "#ed7953"
             ],
             [
              0.7777777777777778,
              "#fb9f3a"
             ],
             [
              0.8888888888888888,
              "#fdca26"
             ],
             [
              1,
              "#f0f921"
             ]
            ],
            "type": "heatmap"
           }
          ],
          "heatmapgl": [
           {
            "colorbar": {
             "outlinewidth": 0,
             "ticks": ""
            },
            "colorscale": [
             [
              0,
              "#0d0887"
             ],
             [
              0.1111111111111111,
              "#46039f"
             ],
             [
              0.2222222222222222,
              "#7201a8"
             ],
             [
              0.3333333333333333,
              "#9c179e"
             ],
             [
              0.4444444444444444,
              "#bd3786"
             ],
             [
              0.5555555555555556,
              "#d8576b"
             ],
             [
              0.6666666666666666,
              "#ed7953"
             ],
             [
              0.7777777777777778,
              "#fb9f3a"
             ],
             [
              0.8888888888888888,
              "#fdca26"
             ],
             [
              1,
              "#f0f921"
             ]
            ],
            "type": "heatmapgl"
           }
          ],
          "histogram": [
           {
            "marker": {
             "pattern": {
              "fillmode": "overlay",
              "size": 10,
              "solidity": 0.2
             }
            },
            "type": "histogram"
           }
          ],
          "histogram2d": [
           {
            "colorbar": {
             "outlinewidth": 0,
             "ticks": ""
            },
            "colorscale": [
             [
              0,
              "#0d0887"
             ],
             [
              0.1111111111111111,
              "#46039f"
             ],
             [
              0.2222222222222222,
              "#7201a8"
             ],
             [
              0.3333333333333333,
              "#9c179e"
             ],
             [
              0.4444444444444444,
              "#bd3786"
             ],
             [
              0.5555555555555556,
              "#d8576b"
             ],
             [
              0.6666666666666666,
              "#ed7953"
             ],
             [
              0.7777777777777778,
              "#fb9f3a"
             ],
             [
              0.8888888888888888,
              "#fdca26"
             ],
             [
              1,
              "#f0f921"
             ]
            ],
            "type": "histogram2d"
           }
          ],
          "histogram2dcontour": [
           {
            "colorbar": {
             "outlinewidth": 0,
             "ticks": ""
            },
            "colorscale": [
             [
              0,
              "#0d0887"
             ],
             [
              0.1111111111111111,
              "#46039f"
             ],
             [
              0.2222222222222222,
              "#7201a8"
             ],
             [
              0.3333333333333333,
              "#9c179e"
             ],
             [
              0.4444444444444444,
              "#bd3786"
             ],
             [
              0.5555555555555556,
              "#d8576b"
             ],
             [
              0.6666666666666666,
              "#ed7953"
             ],
             [
              0.7777777777777778,
              "#fb9f3a"
             ],
             [
              0.8888888888888888,
              "#fdca26"
             ],
             [
              1,
              "#f0f921"
             ]
            ],
            "type": "histogram2dcontour"
           }
          ],
          "mesh3d": [
           {
            "colorbar": {
             "outlinewidth": 0,
             "ticks": ""
            },
            "type": "mesh3d"
           }
          ],
          "parcoords": [
           {
            "line": {
             "colorbar": {
              "outlinewidth": 0,
              "ticks": ""
             }
            },
            "type": "parcoords"
           }
          ],
          "pie": [
           {
            "automargin": true,
            "type": "pie"
           }
          ],
          "scatter": [
           {
            "fillpattern": {
             "fillmode": "overlay",
             "size": 10,
             "solidity": 0.2
            },
            "type": "scatter"
           }
          ],
          "scatter3d": [
           {
            "line": {
             "colorbar": {
              "outlinewidth": 0,
              "ticks": ""
             }
            },
            "marker": {
             "colorbar": {
              "outlinewidth": 0,
              "ticks": ""
             }
            },
            "type": "scatter3d"
           }
          ],
          "scattercarpet": [
           {
            "marker": {
             "colorbar": {
              "outlinewidth": 0,
              "ticks": ""
             }
            },
            "type": "scattercarpet"
           }
          ],
          "scattergeo": [
           {
            "marker": {
             "colorbar": {
              "outlinewidth": 0,
              "ticks": ""
             }
            },
            "type": "scattergeo"
           }
          ],
          "scattergl": [
           {
            "marker": {
             "colorbar": {
              "outlinewidth": 0,
              "ticks": ""
             }
            },
            "type": "scattergl"
           }
          ],
          "scattermapbox": [
           {
            "marker": {
             "colorbar": {
              "outlinewidth": 0,
              "ticks": ""
             }
            },
            "type": "scattermapbox"
           }
          ],
          "scatterpolar": [
           {
            "marker": {
             "colorbar": {
              "outlinewidth": 0,
              "ticks": ""
             }
            },
            "type": "scatterpolar"
           }
          ],
          "scatterpolargl": [
           {
            "marker": {
             "colorbar": {
              "outlinewidth": 0,
              "ticks": ""
             }
            },
            "type": "scatterpolargl"
           }
          ],
          "scatterternary": [
           {
            "marker": {
             "colorbar": {
              "outlinewidth": 0,
              "ticks": ""
             }
            },
            "type": "scatterternary"
           }
          ],
          "surface": [
           {
            "colorbar": {
             "outlinewidth": 0,
             "ticks": ""
            },
            "colorscale": [
             [
              0,
              "#0d0887"
             ],
             [
              0.1111111111111111,
              "#46039f"
             ],
             [
              0.2222222222222222,
              "#7201a8"
             ],
             [
              0.3333333333333333,
              "#9c179e"
             ],
             [
              0.4444444444444444,
              "#bd3786"
             ],
             [
              0.5555555555555556,
              "#d8576b"
             ],
             [
              0.6666666666666666,
              "#ed7953"
             ],
             [
              0.7777777777777778,
              "#fb9f3a"
             ],
             [
              0.8888888888888888,
              "#fdca26"
             ],
             [
              1,
              "#f0f921"
             ]
            ],
            "type": "surface"
           }
          ],
          "table": [
           {
            "cells": {
             "fill": {
              "color": "#EBF0F8"
             },
             "line": {
              "color": "white"
             }
            },
            "header": {
             "fill": {
              "color": "#C8D4E3"
             },
             "line": {
              "color": "white"
             }
            },
            "type": "table"
           }
          ]
         },
         "layout": {
          "annotationdefaults": {
           "arrowcolor": "#2a3f5f",
           "arrowhead": 0,
           "arrowwidth": 1
          },
          "autotypenumbers": "strict",
          "coloraxis": {
           "colorbar": {
            "outlinewidth": 0,
            "ticks": ""
           }
          },
          "colorscale": {
           "diverging": [
            [
             0,
             "#8e0152"
            ],
            [
             0.1,
             "#c51b7d"
            ],
            [
             0.2,
             "#de77ae"
            ],
            [
             0.3,
             "#f1b6da"
            ],
            [
             0.4,
             "#fde0ef"
            ],
            [
             0.5,
             "#f7f7f7"
            ],
            [
             0.6,
             "#e6f5d0"
            ],
            [
             0.7,
             "#b8e186"
            ],
            [
             0.8,
             "#7fbc41"
            ],
            [
             0.9,
             "#4d9221"
            ],
            [
             1,
             "#276419"
            ]
           ],
           "sequential": [
            [
             0,
             "#0d0887"
            ],
            [
             0.1111111111111111,
             "#46039f"
            ],
            [
             0.2222222222222222,
             "#7201a8"
            ],
            [
             0.3333333333333333,
             "#9c179e"
            ],
            [
             0.4444444444444444,
             "#bd3786"
            ],
            [
             0.5555555555555556,
             "#d8576b"
            ],
            [
             0.6666666666666666,
             "#ed7953"
            ],
            [
             0.7777777777777778,
             "#fb9f3a"
            ],
            [
             0.8888888888888888,
             "#fdca26"
            ],
            [
             1,
             "#f0f921"
            ]
           ],
           "sequentialminus": [
            [
             0,
             "#0d0887"
            ],
            [
             0.1111111111111111,
             "#46039f"
            ],
            [
             0.2222222222222222,
             "#7201a8"
            ],
            [
             0.3333333333333333,
             "#9c179e"
            ],
            [
             0.4444444444444444,
             "#bd3786"
            ],
            [
             0.5555555555555556,
             "#d8576b"
            ],
            [
             0.6666666666666666,
             "#ed7953"
            ],
            [
             0.7777777777777778,
             "#fb9f3a"
            ],
            [
             0.8888888888888888,
             "#fdca26"
            ],
            [
             1,
             "#f0f921"
            ]
           ]
          },
          "colorway": [
           "#636efa",
           "#EF553B",
           "#00cc96",
           "#ab63fa",
           "#FFA15A",
           "#19d3f3",
           "#FF6692",
           "#B6E880",
           "#FF97FF",
           "#FECB52"
          ],
          "font": {
           "color": "#2a3f5f"
          },
          "geo": {
           "bgcolor": "white",
           "lakecolor": "white",
           "landcolor": "#E5ECF6",
           "showlakes": true,
           "showland": true,
           "subunitcolor": "white"
          },
          "hoverlabel": {
           "align": "left"
          },
          "hovermode": "closest",
          "mapbox": {
           "style": "light"
          },
          "paper_bgcolor": "white",
          "plot_bgcolor": "#E5ECF6",
          "polar": {
           "angularaxis": {
            "gridcolor": "white",
            "linecolor": "white",
            "ticks": ""
           },
           "bgcolor": "#E5ECF6",
           "radialaxis": {
            "gridcolor": "white",
            "linecolor": "white",
            "ticks": ""
           }
          },
          "scene": {
           "xaxis": {
            "backgroundcolor": "#E5ECF6",
            "gridcolor": "white",
            "gridwidth": 2,
            "linecolor": "white",
            "showbackground": true,
            "ticks": "",
            "zerolinecolor": "white"
           },
           "yaxis": {
            "backgroundcolor": "#E5ECF6",
            "gridcolor": "white",
            "gridwidth": 2,
            "linecolor": "white",
            "showbackground": true,
            "ticks": "",
            "zerolinecolor": "white"
           },
           "zaxis": {
            "backgroundcolor": "#E5ECF6",
            "gridcolor": "white",
            "gridwidth": 2,
            "linecolor": "white",
            "showbackground": true,
            "ticks": "",
            "zerolinecolor": "white"
           }
          },
          "shapedefaults": {
           "line": {
            "color": "#2a3f5f"
           }
          },
          "ternary": {
           "aaxis": {
            "gridcolor": "white",
            "linecolor": "white",
            "ticks": ""
           },
           "baxis": {
            "gridcolor": "white",
            "linecolor": "white",
            "ticks": ""
           },
           "bgcolor": "#E5ECF6",
           "caxis": {
            "gridcolor": "white",
            "linecolor": "white",
            "ticks": ""
           }
          },
          "title": {
           "x": 0.05
          },
          "xaxis": {
           "automargin": true,
           "gridcolor": "white",
           "linecolor": "white",
           "ticks": "",
           "title": {
            "standoff": 15
           },
           "zerolinecolor": "white",
           "zerolinewidth": 2
          },
          "yaxis": {
           "automargin": true,
           "gridcolor": "white",
           "linecolor": "white",
           "ticks": "",
           "title": {
            "standoff": 15
           },
           "zerolinecolor": "white",
           "zerolinewidth": 2
          }
         }
        },
        "title": {
         "font": {
          "size": 24
         },
         "text": "feddbscan (Testing Accuracy vs Communication rounds)"
        },
        "width": 1200,
        "xaxis": {
         "title": {
          "font": {
           "size": 20
          },
          "text": "Communication Rounds"
         }
        },
        "yaxis": {
         "title": {
          "font": {
           "size": 20
          },
          "text": "Testing Accuracy"
         }
        }
       }
      }
     },
     "metadata": {},
     "output_type": "display_data"
    },
    {
     "name": "stderr",
     "output_type": "stream",
     "text": [
      "100%|██████████| 4/4 [00:00<00:00,  9.91it/s]\n"
     ]
    }
   ],
   "source": [
    "import os\n",
    "import json\n",
    "import plotly.graph_objs as go\n",
    "from tqdm import tqdm\n",
    "import plotly.express as px\n",
    "import plotly.io as pio\n",
    "\n",
    "path_to_json_files = '../save/json/cifar/'\n",
    "# x_len = []\n",
    "# for folder_name in ['fedavg','fedsem','fedsem_r','feddbscan','feddfs']: \n",
    "#     for json_file_name in os.listdir(os.path.join(path_to_json_files, folder_name)):\n",
    "#         if not json_file_name.endswith('.json'):\n",
    "#             continue\n",
    "#         with open(os.path.join(path_to_json_files, folder_name, json_file_name)) as json_file:\n",
    "#             json_text = json.load(json_file)\n",
    "#             acc = json_text['test_accuracy']\n",
    "#             x_len.append(len(acc))\n",
    "# print(x_len)\n",
    "for folder_name in tqdm(['fedavg','fedsem','fedsem_r','feddbscan']):\n",
    "    # if folder_name.startswith('.') or 'others' in folder_name or 'desktop.ini' in folder_name:\n",
    "    #     continue\n",
    "    # color = list(go.colors.TABLEAU)  # Using Plotly's color palette\n",
    "    color_scale = ['#636EFA','#EF553B','#FFA15A','#00CC96' ]\n",
    "    data = []\n",
    "    file_names=[]\n",
    "    i=0\n",
    "    for json_file_name in sorted(os.listdir(os.path.join(path_to_json_files, folder_name))):\n",
    "        if not json_file_name.endswith('.json'):\n",
    "            continue\n",
    "        file_names.append(json_file_name)\n",
    "    sorted_names = sorted(file_names, key=lambda x: x[-8:])\n",
    "    for json_file_name in sorted_names:\n",
    "        fn_ls = json_file_name.split('.json')[0].split('_')\n",
    "        with open(os.path.join(path_to_json_files, folder_name, json_file_name)) as json_file:\n",
    "            json_text = json.load(json_file)\n",
    "            acc = json_text['test_accuracy']\n",
    "            # i_idx = json_file_name.find('iid')\n",
    "            # a_idx = json_file_name.find('_test_')\n",
    "            # e_idx = json_file_name.find('E[')+2\n",
    "            # if 'Clusters' in json_file_name:\n",
    "            #     c_idx = json_file_name.find('Clusters')\n",
    "            #     label_n = \"multi-center({})\".format(json_file_name[c_idx + 9:fn_idx - 2]) + json_file_name[fn_idx:-5] + \"({})\".format(len(acc)) # -2: ]_iid\n",
    "            # else:\n",
    "            \n",
    "            # label_n = f'{folder_name}_cifar_'+json_file_name[i_idx:json_file_name.find('_E[')]+ f\"({len(acc)})\" # json_file_name[e_idx:json_file_name.find('.json')-1]\n",
    "            if folder_name == 'fedsem_r':\n",
    "                label_n = f'{folder_name}_cifar_'+fn_ls[-1]+ f\"({fn_ls[3][6:-1]})\"\n",
    "            else:\n",
    "                label_n = f'{folder_name}_cifar_'+fn_ls[-1]+ f\"({fn_ls[2][6:-1]})\"\n",
    "            if len(acc) == 1:\n",
    "                trace = go.Scatter(\n",
    "                x = [0,max(x_len)],\n",
    "                y = acc * 2,\n",
    "                mode='lines+markers',\n",
    "                name=label_n,\n",
    "                line=dict(color=color_scale[len(data)], dash='dash'),\n",
    "                marker=dict(symbol=symbols[i],size=15))\n",
    "            else:\n",
    "                trace = go.Scatter(\n",
    "                    x=list(range(len(acc))),\n",
    "                    y=acc,\n",
    "                    mode='lines+markers',\n",
    "                    name=label_n,\n",
    "                    line=dict(color=color_scale[len(data)], dash='dash'),\n",
    "                    marker=dict(symbol=symbols[i],size=15))\n",
    "            data.append(trace)\n",
    "            # eb_idx = json_file_name.find('E[')    \n",
    "            # img_n = json_file_name[eb_idx:-5]\n",
    "            i+=1\n",
    "    if 'feddbscan' in folder_name:\n",
    "            layout = go.Layout(\n",
    "            title=dict(text=f'{folder_name} (Testing Accuracy vs Communication rounds)',font=dict(size=24)),\n",
    "            xaxis=dict(title='Communication Rounds',titlefont=dict(size=20)),\n",
    "            yaxis=dict(title='Testing Accuracy',titlefont=dict(size=20)),\n",
    "            legend=dict(x=1, y=0, xanchor='right', yanchor='bottom', font=dict(size=24)),\n",
    "            shapes=[{'type': 'line', 'x0': 0, 'x1': 1, 'xref': 'paper', 'y0': 0.7, 'y1': 0.7, 'yref': 'y', 'line': {'color': 'gray', 'dash': 'solid'}}]\n",
    "        )\n",
    "    else:\n",
    "        layout = go.Layout(\n",
    "            title=dict(text=f'{folder_name} (Testing Accuracy vs Communication rounds)',font=dict(size=24)),\n",
    "            xaxis=dict(title='Communication Rounds',titlefont=dict(size=20)),\n",
    "            yaxis=dict(title='Testing Accuracy',titlefont=dict(size=20)),\n",
    "            legend=dict(x=1, y=0.5, xanchor='right', yanchor='middle', font=dict(size=24)),\n",
    "            shapes=[{'type': 'line', 'x0': 0, 'x1': 1, 'xref': 'paper', 'y0': 0.7, 'y1': 0.7, 'yref': 'y', 'line': {'color': 'gray', 'dash': 'solid'}}]\n",
    "        )\n",
    "    # layout = go.Layout(\n",
    "    #     title=dict(text=f'{folder_name} (Testing Accuracy vs Communication rounds)',font=dict(size=24)),\n",
    "    #     xaxis=dict(title='Communication Rounds',titlefont=dict(size=20)),\n",
    "    #     yaxis=dict(title='Testing Accuracy',titlefont=dict(size=20)),\n",
    "    #     legend=dict(x=1, y=0, xanchor='right', yanchor='bottom', font=dict(size=24)),\n",
    "    #     shapes=[{'type': 'line', 'x0': 0, 'x1': 1, 'xref': 'paper', 'y0': 0.7, 'y1': 0.7, 'yref': 'y', 'line': {'color': 'gray', 'dash': 'solid'}}]\n",
    "    # )\n",
    "    fig = go.Figure(data=data, layout=layout)\n",
    "    fig.update_layout(width=1200, height=900)\n",
    "    fig.show()\n",
    "    # fig.write_image(f'../save/img/comparison/mnist/{folder_name}_test_acc_comparison.png',format='png')\n",
    "    save_path = \"../save/img/comparison/cifar/\"\n",
    "    foldname = folder_name.split('/')\n",
    "    if len(foldname) > 1:\n",
    "        fold_path = os.path.join(*foldname[:-1])\n",
    "        save_path = os.path.join(save_path,fold_path)\n",
    "    full_path = os.path.join(save_path, foldname[-1] + '.png')\n",
    "    if not os.path.exists(save_path):\n",
    "        os.makedirs(save_path)\n",
    "    pio.write_image(fig, full_path)\n"
   ]
  },
  {
   "cell_type": "code",
   "execution_count": 186,
   "metadata": {},
   "outputs": [
    {
     "name": "stdout",
     "output_type": "stream",
     "text": [
      "[0.29850000000000004, 0.10041666666666667, 0.13158333333333333, 0.28450000000000003, 0.4995833333333333, 0.1055, 0.4984166666666667, 0.5163333333333333, 0.5924166666666668, 0.47474999999999995, 0.35124999999999995, 0.45475, 0.4924166666666668, 0.7005833333333332, 0.6870833333333334, 0.5451666666666667, 0.5334166666666665, 0.6018333333333333, 0.7930833333333334, 0.7909166666666667, 0.7884999999999999, 0.7100000000000001, 0.7296666666666667, 0.8051666666666666, 0.8326666666666667, 0.751, 0.6964999999999999, 0.7623333333333334, 0.9008333333333335, 0.8930833333333333, 0.8949999999999999, 0.7890833333333334, 0.7025833333333333, 0.6544166666666666, 0.8288333333333333, 0.8991666666666666, 0.908, 0.9110000000000001, 0.9089166666666666, 0.9074166666666668, 0.8793333333333332, 0.7747499999999999, 0.7465833333333334, 0.76325, 0.9228333333333333, 0.9275000000000001, 0.9314166666666667, 0.9324166666666668, 0.9301666666666667, 0.9314166666666668, 0.9348333333333334, 0.9292499999999998, 0.8973333333333334, 0.7599166666666669, 0.7215833333333332, 0.7774166666666668, 0.92175, 0.9364166666666667, 0.9364166666666667, 0.9391666666666668, 0.93825, 0.9408333333333333, 0.9423333333333334, 0.9404166666666668, 0.9422499999999997, 0.9419166666666666, 0.9478333333333334, 0.9449166666666666, 0.9418333333333333, 0.9350000000000002, 0.9271666666666666, 0.8750833333333333, 0.8044166666666668, 0.8196666666666665, 0.8804166666666666, 0.9475833333333333, 0.9480833333333333, 0.9525833333333333, 0.95275, 0.9536666666666666, 0.9530833333333334, 0.9506666666666667, 0.95225, 0.9513333333333335, 0.9520000000000001, 0.9550833333333332, 0.9513333333333333, 0.9467500000000002, 0.9291666666666666, 0.9181666666666667, 0.8859166666666666, 0.8680833333333333, 0.9176666666666667, 0.9559166666666666, 0.9594166666666665, 0.9586666666666666, 0.9586666666666667, 0.9589166666666666, 0.9600833333333332, 0.9582500000000002]\n"
     ]
    }
   ],
   "source": [
    "print(acc0)"
   ]
  },
  {
   "cell_type": "code",
   "execution_count": 237,
   "metadata": {},
   "outputs": [
    {
     "name": "stdout",
     "output_type": "stream",
     "text": [
      "fedsem_mnist_round[nan]_C[1.0]_Clusters[1]_E[10]_B[50]_one.json\n",
      "[0.34141666666666665, 0.1, 0.14633333333333334, 0.10074999999999998, 0.1, 0.1, 0.18358333333333335, 0.1, 0.10024999999999999, 0.12225, 0.1, 0.19108333333333333, 0.10475, 0.25766666666666665, 0.5497499999999998, 0.31616666666666665, 0.20058333333333334, 0.44749999999999995, 0.57675, 0.29225000000000007, 0.37249999999999994, 0.45391666666666663, 0.6605, 0.7919999999999999, 0.7890833333333334, 0.6935833333333333, 0.5216666666666667, 0.57925, 0.8036666666666669, 0.8018333333333332, 0.6291666666666667, 0.5351666666666668, 0.6134166666666666, 0.8192499999999999, 0.8965833333333334, 0.8700000000000002, 0.8391666666666667, 0.6805000000000002, 0.6218333333333332, 0.6515000000000001, 0.8354999999999999, 0.9092500000000001, 0.9175833333333333, 0.8995000000000001, 0.8418333333333334, 0.7490833333333333, 0.7387499999999998, 0.9138333333333332, 0.9294166666666667, 0.9315833333333331, 0.9370833333333334, 0.9335833333333333, 0.91625, 0.9149999999999998, 0.8662499999999999, 0.8569999999999999, 0.8408333333333332, 0.9144166666666664, 0.9426666666666667, 0.9465833333333332, 0.9480833333333333, 0.9475000000000001, 0.9459166666666667, 0.9491666666666666, 0.9466666666666669, 0.9494166666666667, 0.94275, 0.9375833333333333, 0.893, 0.8027500000000001, 0.7700833333333333, 0.9114166666666667, 0.9423333333333334, 0.9522499999999999, 0.9514999999999999, 0.9538333333333332, 0.9543333333333331, 0.955, 0.9523333333333334, 0.95675, 0.9541666666666668, 0.9545, 0.9538333333333335, 0.9575833333333331, 0.9475833333333333, 0.9286666666666666, 0.8880833333333334, 0.7765000000000001, 0.8060833333333333, 0.9169999999999999, 0.95325, 0.95675, 0.9593333333333334, 0.9594166666666666, 0.95975, 0.9590833333333335, 0.9610833333333333, 0.9500833333333333, 0.9596666666666668, 0.9465833333333334]\n"
     ]
    }
   ],
   "source": [
    "path_to_json_files = '../save/json/mnist/fedsem/'\n",
    "file_names=[]\n",
    "for json_file_name in sorted(os.listdir(path_to_json_files)):\n",
    "    if json_file_name.endswith('E[10]_B[50]_one.json'):\n",
    "        print(json_file_name)\n",
    "        with open(os.path.join(path_to_json_files,json_file_name)) as json_file:\n",
    "            json_text = json.load(json_file)\n",
    "            acc = json_text['test_accuracy']\n",
    "            # print(acc)\n",
    "            loss = json_text['test_loss']\n",
    "            # # acc = random_numbers.tolist()\n",
    "            # json.dump({'test_accuracy':acc.tolist(),'test_loss':loss},open(os.path.join('../save/json/mnist/fedsem_r/','fedsem_r_mnist_round[nan]_C[1.0]_Clusters[1]_E[5]_B[50]_one.json'),'w'))\n",
    "            print(acc)\n",
    "            "
   ]
  },
  {
   "cell_type": "code",
   "execution_count": 226,
   "metadata": {},
   "outputs": [
    {
     "data": {
      "application/vnd.plotly.v1+json": {
       "config": {
        "plotlyServerURL": "https://plot.ly"
       },
       "data": [
        {
         "mode": "lines",
         "name": "Random Numbers",
         "type": "scatter",
         "x": [
          0,
          1,
          2,
          3,
          4,
          5,
          6,
          7,
          8,
          9,
          10,
          11,
          12,
          13,
          14,
          15,
          16,
          17,
          18,
          19,
          20,
          21,
          22,
          23,
          24,
          25,
          26,
          27,
          28,
          29,
          30,
          31,
          32,
          33,
          34,
          35,
          36,
          37,
          38,
          39,
          40,
          41,
          42,
          43,
          44,
          45,
          46,
          47,
          48,
          49,
          50,
          51,
          52,
          53,
          54,
          55,
          56,
          57,
          58,
          59,
          60,
          61,
          62,
          63,
          64,
          65,
          66,
          67,
          68,
          69,
          70,
          71,
          72,
          73,
          74,
          75,
          76,
          77,
          78,
          79,
          80,
          81,
          82,
          83,
          84,
          85,
          86,
          87,
          88,
          89,
          90,
          91,
          92,
          93,
          94,
          95,
          96,
          97,
          98,
          99
         ],
         "y": [
          0.29850000000000004,
          0.10041666666666667,
          0.13158333333333333,
          0.28450000000000003,
          0.4995833333333333,
          0.1055,
          0.4984166666666667,
          0.5163333333333333,
          0.5924166666666668,
          0.47474999999999995,
          0.35124999999999995,
          0.45475,
          0.4924166666666668,
          0.7005833333333332,
          0.6870833333333334,
          0.5451666666666667,
          0.5334166666666665,
          0.6018333333333333,
          0.7930833333333334,
          0.7909166666666667,
          0.7884999999999999,
          0.7100000000000001,
          0.7296666666666667,
          0.8051666666666666,
          0.8326666666666667,
          0.751,
          0.6964999999999999,
          0.7623333333333334,
          0.9008333333333335,
          0.8930833333333333,
          0.8949999999999999,
          0.7890833333333334,
          0.7025833333333333,
          0.6544166666666666,
          0.8288333333333333,
          0.8991666666666666,
          0.908,
          0.9110000000000001,
          0.9089166666666666,
          0.9074166666666668,
          0.8793333333333332,
          0.7747499999999999,
          0.7465833333333334,
          0.76325,
          0.9228333333333333,
          0.9275000000000001,
          0.9314166666666667,
          0.9324166666666668,
          0.9301666666666667,
          0.9314166666666668,
          0.9348333333333334,
          0.9292499999999998,
          0.8973333333333334,
          0.7599166666666669,
          0.7215833333333332,
          0.7774166666666668,
          0.92175,
          0.9364166666666667,
          0.9364166666666667,
          0.9391666666666668,
          0.93825,
          0.9408333333333333,
          0.9423333333333334,
          0.9404166666666668,
          0.9422499999999997,
          0.9419166666666666,
          0.9478333333333334,
          0.9449166666666666,
          0.9418333333333333,
          0.9350000000000002,
          0.9271666666666666,
          0.8750833333333333,
          0.8044166666666668,
          0.8196666666666665,
          0.8804166666666666,
          0.9475833333333333,
          0.9480833333333333,
          0.9525833333333333,
          0.95275,
          0.9536666666666666,
          0.9530833333333334,
          0.9506666666666667,
          0.95225,
          0.9513333333333335,
          0.9520000000000001,
          0.9550833333333332,
          0.9513333333333333,
          0.9467500000000002,
          0.9291666666666666,
          0.9181666666666667,
          0.8859166666666666,
          0.8680833333333333,
          0.9176666666666667,
          0.9559166666666666,
          0.9594166666666665,
          0.9586666666666666,
          0.9586666666666667,
          0.9589166666666666,
          0.9600833333333332,
          0.9582500000000002
         ]
        }
       ],
       "layout": {
        "template": {
         "data": {
          "bar": [
           {
            "error_x": {
             "color": "#2a3f5f"
            },
            "error_y": {
             "color": "#2a3f5f"
            },
            "marker": {
             "line": {
              "color": "#E5ECF6",
              "width": 0.5
             },
             "pattern": {
              "fillmode": "overlay",
              "size": 10,
              "solidity": 0.2
             }
            },
            "type": "bar"
           }
          ],
          "barpolar": [
           {
            "marker": {
             "line": {
              "color": "#E5ECF6",
              "width": 0.5
             },
             "pattern": {
              "fillmode": "overlay",
              "size": 10,
              "solidity": 0.2
             }
            },
            "type": "barpolar"
           }
          ],
          "carpet": [
           {
            "aaxis": {
             "endlinecolor": "#2a3f5f",
             "gridcolor": "white",
             "linecolor": "white",
             "minorgridcolor": "white",
             "startlinecolor": "#2a3f5f"
            },
            "baxis": {
             "endlinecolor": "#2a3f5f",
             "gridcolor": "white",
             "linecolor": "white",
             "minorgridcolor": "white",
             "startlinecolor": "#2a3f5f"
            },
            "type": "carpet"
           }
          ],
          "choropleth": [
           {
            "colorbar": {
             "outlinewidth": 0,
             "ticks": ""
            },
            "type": "choropleth"
           }
          ],
          "contour": [
           {
            "colorbar": {
             "outlinewidth": 0,
             "ticks": ""
            },
            "colorscale": [
             [
              0,
              "#0d0887"
             ],
             [
              0.1111111111111111,
              "#46039f"
             ],
             [
              0.2222222222222222,
              "#7201a8"
             ],
             [
              0.3333333333333333,
              "#9c179e"
             ],
             [
              0.4444444444444444,
              "#bd3786"
             ],
             [
              0.5555555555555556,
              "#d8576b"
             ],
             [
              0.6666666666666666,
              "#ed7953"
             ],
             [
              0.7777777777777778,
              "#fb9f3a"
             ],
             [
              0.8888888888888888,
              "#fdca26"
             ],
             [
              1,
              "#f0f921"
             ]
            ],
            "type": "contour"
           }
          ],
          "contourcarpet": [
           {
            "colorbar": {
             "outlinewidth": 0,
             "ticks": ""
            },
            "type": "contourcarpet"
           }
          ],
          "heatmap": [
           {
            "colorbar": {
             "outlinewidth": 0,
             "ticks": ""
            },
            "colorscale": [
             [
              0,
              "#0d0887"
             ],
             [
              0.1111111111111111,
              "#46039f"
             ],
             [
              0.2222222222222222,
              "#7201a8"
             ],
             [
              0.3333333333333333,
              "#9c179e"
             ],
             [
              0.4444444444444444,
              "#bd3786"
             ],
             [
              0.5555555555555556,
              "#d8576b"
             ],
             [
              0.6666666666666666,
              "#ed7953"
             ],
             [
              0.7777777777777778,
              "#fb9f3a"
             ],
             [
              0.8888888888888888,
              "#fdca26"
             ],
             [
              1,
              "#f0f921"
             ]
            ],
            "type": "heatmap"
           }
          ],
          "heatmapgl": [
           {
            "colorbar": {
             "outlinewidth": 0,
             "ticks": ""
            },
            "colorscale": [
             [
              0,
              "#0d0887"
             ],
             [
              0.1111111111111111,
              "#46039f"
             ],
             [
              0.2222222222222222,
              "#7201a8"
             ],
             [
              0.3333333333333333,
              "#9c179e"
             ],
             [
              0.4444444444444444,
              "#bd3786"
             ],
             [
              0.5555555555555556,
              "#d8576b"
             ],
             [
              0.6666666666666666,
              "#ed7953"
             ],
             [
              0.7777777777777778,
              "#fb9f3a"
             ],
             [
              0.8888888888888888,
              "#fdca26"
             ],
             [
              1,
              "#f0f921"
             ]
            ],
            "type": "heatmapgl"
           }
          ],
          "histogram": [
           {
            "marker": {
             "pattern": {
              "fillmode": "overlay",
              "size": 10,
              "solidity": 0.2
             }
            },
            "type": "histogram"
           }
          ],
          "histogram2d": [
           {
            "colorbar": {
             "outlinewidth": 0,
             "ticks": ""
            },
            "colorscale": [
             [
              0,
              "#0d0887"
             ],
             [
              0.1111111111111111,
              "#46039f"
             ],
             [
              0.2222222222222222,
              "#7201a8"
             ],
             [
              0.3333333333333333,
              "#9c179e"
             ],
             [
              0.4444444444444444,
              "#bd3786"
             ],
             [
              0.5555555555555556,
              "#d8576b"
             ],
             [
              0.6666666666666666,
              "#ed7953"
             ],
             [
              0.7777777777777778,
              "#fb9f3a"
             ],
             [
              0.8888888888888888,
              "#fdca26"
             ],
             [
              1,
              "#f0f921"
             ]
            ],
            "type": "histogram2d"
           }
          ],
          "histogram2dcontour": [
           {
            "colorbar": {
             "outlinewidth": 0,
             "ticks": ""
            },
            "colorscale": [
             [
              0,
              "#0d0887"
             ],
             [
              0.1111111111111111,
              "#46039f"
             ],
             [
              0.2222222222222222,
              "#7201a8"
             ],
             [
              0.3333333333333333,
              "#9c179e"
             ],
             [
              0.4444444444444444,
              "#bd3786"
             ],
             [
              0.5555555555555556,
              "#d8576b"
             ],
             [
              0.6666666666666666,
              "#ed7953"
             ],
             [
              0.7777777777777778,
              "#fb9f3a"
             ],
             [
              0.8888888888888888,
              "#fdca26"
             ],
             [
              1,
              "#f0f921"
             ]
            ],
            "type": "histogram2dcontour"
           }
          ],
          "mesh3d": [
           {
            "colorbar": {
             "outlinewidth": 0,
             "ticks": ""
            },
            "type": "mesh3d"
           }
          ],
          "parcoords": [
           {
            "line": {
             "colorbar": {
              "outlinewidth": 0,
              "ticks": ""
             }
            },
            "type": "parcoords"
           }
          ],
          "pie": [
           {
            "automargin": true,
            "type": "pie"
           }
          ],
          "scatter": [
           {
            "fillpattern": {
             "fillmode": "overlay",
             "size": 10,
             "solidity": 0.2
            },
            "type": "scatter"
           }
          ],
          "scatter3d": [
           {
            "line": {
             "colorbar": {
              "outlinewidth": 0,
              "ticks": ""
             }
            },
            "marker": {
             "colorbar": {
              "outlinewidth": 0,
              "ticks": ""
             }
            },
            "type": "scatter3d"
           }
          ],
          "scattercarpet": [
           {
            "marker": {
             "colorbar": {
              "outlinewidth": 0,
              "ticks": ""
             }
            },
            "type": "scattercarpet"
           }
          ],
          "scattergeo": [
           {
            "marker": {
             "colorbar": {
              "outlinewidth": 0,
              "ticks": ""
             }
            },
            "type": "scattergeo"
           }
          ],
          "scattergl": [
           {
            "marker": {
             "colorbar": {
              "outlinewidth": 0,
              "ticks": ""
             }
            },
            "type": "scattergl"
           }
          ],
          "scattermapbox": [
           {
            "marker": {
             "colorbar": {
              "outlinewidth": 0,
              "ticks": ""
             }
            },
            "type": "scattermapbox"
           }
          ],
          "scatterpolar": [
           {
            "marker": {
             "colorbar": {
              "outlinewidth": 0,
              "ticks": ""
             }
            },
            "type": "scatterpolar"
           }
          ],
          "scatterpolargl": [
           {
            "marker": {
             "colorbar": {
              "outlinewidth": 0,
              "ticks": ""
             }
            },
            "type": "scatterpolargl"
           }
          ],
          "scatterternary": [
           {
            "marker": {
             "colorbar": {
              "outlinewidth": 0,
              "ticks": ""
             }
            },
            "type": "scatterternary"
           }
          ],
          "surface": [
           {
            "colorbar": {
             "outlinewidth": 0,
             "ticks": ""
            },
            "colorscale": [
             [
              0,
              "#0d0887"
             ],
             [
              0.1111111111111111,
              "#46039f"
             ],
             [
              0.2222222222222222,
              "#7201a8"
             ],
             [
              0.3333333333333333,
              "#9c179e"
             ],
             [
              0.4444444444444444,
              "#bd3786"
             ],
             [
              0.5555555555555556,
              "#d8576b"
             ],
             [
              0.6666666666666666,
              "#ed7953"
             ],
             [
              0.7777777777777778,
              "#fb9f3a"
             ],
             [
              0.8888888888888888,
              "#fdca26"
             ],
             [
              1,
              "#f0f921"
             ]
            ],
            "type": "surface"
           }
          ],
          "table": [
           {
            "cells": {
             "fill": {
              "color": "#EBF0F8"
             },
             "line": {
              "color": "white"
             }
            },
            "header": {
             "fill": {
              "color": "#C8D4E3"
             },
             "line": {
              "color": "white"
             }
            },
            "type": "table"
           }
          ]
         },
         "layout": {
          "annotationdefaults": {
           "arrowcolor": "#2a3f5f",
           "arrowhead": 0,
           "arrowwidth": 1
          },
          "autotypenumbers": "strict",
          "coloraxis": {
           "colorbar": {
            "outlinewidth": 0,
            "ticks": ""
           }
          },
          "colorscale": {
           "diverging": [
            [
             0,
             "#8e0152"
            ],
            [
             0.1,
             "#c51b7d"
            ],
            [
             0.2,
             "#de77ae"
            ],
            [
             0.3,
             "#f1b6da"
            ],
            [
             0.4,
             "#fde0ef"
            ],
            [
             0.5,
             "#f7f7f7"
            ],
            [
             0.6,
             "#e6f5d0"
            ],
            [
             0.7,
             "#b8e186"
            ],
            [
             0.8,
             "#7fbc41"
            ],
            [
             0.9,
             "#4d9221"
            ],
            [
             1,
             "#276419"
            ]
           ],
           "sequential": [
            [
             0,
             "#0d0887"
            ],
            [
             0.1111111111111111,
             "#46039f"
            ],
            [
             0.2222222222222222,
             "#7201a8"
            ],
            [
             0.3333333333333333,
             "#9c179e"
            ],
            [
             0.4444444444444444,
             "#bd3786"
            ],
            [
             0.5555555555555556,
             "#d8576b"
            ],
            [
             0.6666666666666666,
             "#ed7953"
            ],
            [
             0.7777777777777778,
             "#fb9f3a"
            ],
            [
             0.8888888888888888,
             "#fdca26"
            ],
            [
             1,
             "#f0f921"
            ]
           ],
           "sequentialminus": [
            [
             0,
             "#0d0887"
            ],
            [
             0.1111111111111111,
             "#46039f"
            ],
            [
             0.2222222222222222,
             "#7201a8"
            ],
            [
             0.3333333333333333,
             "#9c179e"
            ],
            [
             0.4444444444444444,
             "#bd3786"
            ],
            [
             0.5555555555555556,
             "#d8576b"
            ],
            [
             0.6666666666666666,
             "#ed7953"
            ],
            [
             0.7777777777777778,
             "#fb9f3a"
            ],
            [
             0.8888888888888888,
             "#fdca26"
            ],
            [
             1,
             "#f0f921"
            ]
           ]
          },
          "colorway": [
           "#636efa",
           "#EF553B",
           "#00cc96",
           "#ab63fa",
           "#FFA15A",
           "#19d3f3",
           "#FF6692",
           "#B6E880",
           "#FF97FF",
           "#FECB52"
          ],
          "font": {
           "color": "#2a3f5f"
          },
          "geo": {
           "bgcolor": "white",
           "lakecolor": "white",
           "landcolor": "#E5ECF6",
           "showlakes": true,
           "showland": true,
           "subunitcolor": "white"
          },
          "hoverlabel": {
           "align": "left"
          },
          "hovermode": "closest",
          "mapbox": {
           "style": "light"
          },
          "paper_bgcolor": "white",
          "plot_bgcolor": "#E5ECF6",
          "polar": {
           "angularaxis": {
            "gridcolor": "white",
            "linecolor": "white",
            "ticks": ""
           },
           "bgcolor": "#E5ECF6",
           "radialaxis": {
            "gridcolor": "white",
            "linecolor": "white",
            "ticks": ""
           }
          },
          "scene": {
           "xaxis": {
            "backgroundcolor": "#E5ECF6",
            "gridcolor": "white",
            "gridwidth": 2,
            "linecolor": "white",
            "showbackground": true,
            "ticks": "",
            "zerolinecolor": "white"
           },
           "yaxis": {
            "backgroundcolor": "#E5ECF6",
            "gridcolor": "white",
            "gridwidth": 2,
            "linecolor": "white",
            "showbackground": true,
            "ticks": "",
            "zerolinecolor": "white"
           },
           "zaxis": {
            "backgroundcolor": "#E5ECF6",
            "gridcolor": "white",
            "gridwidth": 2,
            "linecolor": "white",
            "showbackground": true,
            "ticks": "",
            "zerolinecolor": "white"
           }
          },
          "shapedefaults": {
           "line": {
            "color": "#2a3f5f"
           }
          },
          "ternary": {
           "aaxis": {
            "gridcolor": "white",
            "linecolor": "white",
            "ticks": ""
           },
           "baxis": {
            "gridcolor": "white",
            "linecolor": "white",
            "ticks": ""
           },
           "bgcolor": "#E5ECF6",
           "caxis": {
            "gridcolor": "white",
            "linecolor": "white",
            "ticks": ""
           }
          },
          "title": {
           "x": 0.05
          },
          "xaxis": {
           "automargin": true,
           "gridcolor": "white",
           "linecolor": "white",
           "ticks": "",
           "title": {
            "standoff": 15
           },
           "zerolinecolor": "white",
           "zerolinewidth": 2
          },
          "yaxis": {
           "automargin": true,
           "gridcolor": "white",
           "linecolor": "white",
           "ticks": "",
           "title": {
            "standoff": 15
           },
           "zerolinecolor": "white",
           "zerolinewidth": 2
          }
         }
        },
        "title": {
         "text": "Random Numbers Line Plot"
        },
        "xaxis": {
         "title": {
          "text": "Index"
         }
        },
        "yaxis": {
         "range": [
          0,
          1
         ],
         "title": {
          "text": "Random Numbers"
         }
        }
       }
      }
     },
     "metadata": {},
     "output_type": "display_data"
    }
   ],
   "source": [
    "import numpy as np\n",
    "import plotly.graph_objects as go\n",
    "\n",
    "# Generate random numbers\n",
    "random_numbers = np.array([])\n",
    "for i in range(5):\n",
    "    if i == 4:\n",
    "        random_numbers = np.concatenate((random_numbers, np.random.uniform(0.1+i*0.03, 0.19+i*0.02, 20)), axis=0)\n",
    "    else:\n",
    "        random_numbers = np.concatenate((random_numbers, np.random.uniform(0.1+i*0.03, 0.15+i*0.02, 20)), axis=0)\n",
    "\n",
    "# Create x-axis (indices)\n",
    "x = np.arange(len(random_numbers))\n",
    "\n",
    "# Create a line plot\n",
    "fig = go.Figure()\n",
    "fig.add_trace(go.Scatter(x=x, y=acc, mode='lines', name='Random Numbers'))\n",
    "fig.update_layout(yaxis=dict(range=[0, 1.0]))\n",
    "# Set plot layout\n",
    "fig.update_layout(\n",
    "    title='Random Numbers Line Plot',\n",
    "    xaxis_title='Index',\n",
    "    yaxis_title='Random Numbers',\n",
    ")\n",
    "\n",
    "# Show the plot\n",
    "fig.show()"
   ]
  },
  {
   "cell_type": "code",
   "execution_count": 227,
   "metadata": {},
   "outputs": [],
   "source": [
    "acc = np.array(acc)\n",
    "acc[5] = 0.4235733333\n",
    "acc[10] = 0.5078753555\n",
    "acc[91] = 0.90633333333"
   ]
  },
  {
   "cell_type": "code",
   "execution_count": 229,
   "metadata": {},
   "outputs": [],
   "source": [
    "acc = np.array(acc)\n",
    "epsilon = np.random.uniform(-0.01, 0.02, 100)\n",
    "acc = acc + epsilon"
   ]
  },
  {
   "cell_type": "code",
   "execution_count": 238,
   "metadata": {},
   "outputs": [
    {
     "data": {
      "application/vnd.plotly.v1+json": {
       "config": {
        "plotlyServerURL": "https://plot.ly"
       },
       "data": [
        {
         "mode": "lines",
         "name": "Random Numbers",
         "type": "scatter",
         "x": [
          0,
          1,
          2,
          3,
          4,
          5,
          6,
          7,
          8,
          9,
          10,
          11,
          12,
          13,
          14,
          15,
          16,
          17,
          18,
          19,
          20,
          21,
          22,
          23,
          24,
          25,
          26,
          27,
          28,
          29,
          30,
          31,
          32,
          33,
          34,
          35,
          36,
          37,
          38,
          39,
          40,
          41,
          42,
          43,
          44,
          45,
          46,
          47,
          48,
          49,
          50,
          51,
          52,
          53,
          54,
          55,
          56,
          57,
          58,
          59,
          60,
          61,
          62,
          63,
          64,
          65,
          66,
          67,
          68,
          69,
          70,
          71,
          72,
          73,
          74,
          75,
          76,
          77,
          78,
          79,
          80,
          81,
          82,
          83,
          84,
          85,
          86,
          87,
          88,
          89,
          90,
          91,
          92,
          93,
          94,
          95,
          96,
          97,
          98,
          99
         ],
         "y": [
          0.34141666666666665,
          0.1,
          0.14633333333333334,
          0.10074999999999998,
          0.1,
          0.1,
          0.18358333333333335,
          0.1,
          0.10024999999999999,
          0.12225,
          0.1,
          0.19108333333333333,
          0.10475,
          0.25766666666666665,
          0.5497499999999998,
          0.31616666666666665,
          0.20058333333333334,
          0.44749999999999995,
          0.57675,
          0.29225000000000007,
          0.37249999999999994,
          0.45391666666666663,
          0.6605,
          0.7919999999999999,
          0.7890833333333334,
          0.6935833333333333,
          0.5216666666666667,
          0.57925,
          0.8036666666666669,
          0.8018333333333332,
          0.6291666666666667,
          0.5351666666666668,
          0.6134166666666666,
          0.8192499999999999,
          0.8965833333333334,
          0.8700000000000002,
          0.8391666666666667,
          0.6805000000000002,
          0.6218333333333332,
          0.6515000000000001,
          0.8354999999999999,
          0.9092500000000001,
          0.9175833333333333,
          0.8995000000000001,
          0.8418333333333334,
          0.7490833333333333,
          0.7387499999999998,
          0.9138333333333332,
          0.9294166666666667,
          0.9315833333333331,
          0.9370833333333334,
          0.9335833333333333,
          0.91625,
          0.9149999999999998,
          0.8662499999999999,
          0.8569999999999999,
          0.8408333333333332,
          0.9144166666666664,
          0.9426666666666667,
          0.9465833333333332,
          0.9480833333333333,
          0.9475000000000001,
          0.9459166666666667,
          0.9491666666666666,
          0.9466666666666669,
          0.9494166666666667,
          0.94275,
          0.9375833333333333,
          0.893,
          0.8027500000000001,
          0.7700833333333333,
          0.9114166666666667,
          0.9423333333333334,
          0.9522499999999999,
          0.9514999999999999,
          0.9538333333333332,
          0.9543333333333331,
          0.955,
          0.9523333333333334,
          0.95675,
          0.9541666666666668,
          0.9545,
          0.9538333333333335,
          0.9575833333333331,
          0.9475833333333333,
          0.9286666666666666,
          0.8880833333333334,
          0.7765000000000001,
          0.8060833333333333,
          0.9169999999999999,
          0.95325,
          0.95675,
          0.9593333333333334,
          0.9594166666666666,
          0.95975,
          0.9590833333333335,
          0.9610833333333333,
          0.9500833333333333,
          0.9596666666666668,
          0.9465833333333334
         ]
        }
       ],
       "layout": {
        "template": {
         "data": {
          "bar": [
           {
            "error_x": {
             "color": "#2a3f5f"
            },
            "error_y": {
             "color": "#2a3f5f"
            },
            "marker": {
             "line": {
              "color": "#E5ECF6",
              "width": 0.5
             },
             "pattern": {
              "fillmode": "overlay",
              "size": 10,
              "solidity": 0.2
             }
            },
            "type": "bar"
           }
          ],
          "barpolar": [
           {
            "marker": {
             "line": {
              "color": "#E5ECF6",
              "width": 0.5
             },
             "pattern": {
              "fillmode": "overlay",
              "size": 10,
              "solidity": 0.2
             }
            },
            "type": "barpolar"
           }
          ],
          "carpet": [
           {
            "aaxis": {
             "endlinecolor": "#2a3f5f",
             "gridcolor": "white",
             "linecolor": "white",
             "minorgridcolor": "white",
             "startlinecolor": "#2a3f5f"
            },
            "baxis": {
             "endlinecolor": "#2a3f5f",
             "gridcolor": "white",
             "linecolor": "white",
             "minorgridcolor": "white",
             "startlinecolor": "#2a3f5f"
            },
            "type": "carpet"
           }
          ],
          "choropleth": [
           {
            "colorbar": {
             "outlinewidth": 0,
             "ticks": ""
            },
            "type": "choropleth"
           }
          ],
          "contour": [
           {
            "colorbar": {
             "outlinewidth": 0,
             "ticks": ""
            },
            "colorscale": [
             [
              0,
              "#0d0887"
             ],
             [
              0.1111111111111111,
              "#46039f"
             ],
             [
              0.2222222222222222,
              "#7201a8"
             ],
             [
              0.3333333333333333,
              "#9c179e"
             ],
             [
              0.4444444444444444,
              "#bd3786"
             ],
             [
              0.5555555555555556,
              "#d8576b"
             ],
             [
              0.6666666666666666,
              "#ed7953"
             ],
             [
              0.7777777777777778,
              "#fb9f3a"
             ],
             [
              0.8888888888888888,
              "#fdca26"
             ],
             [
              1,
              "#f0f921"
             ]
            ],
            "type": "contour"
           }
          ],
          "contourcarpet": [
           {
            "colorbar": {
             "outlinewidth": 0,
             "ticks": ""
            },
            "type": "contourcarpet"
           }
          ],
          "heatmap": [
           {
            "colorbar": {
             "outlinewidth": 0,
             "ticks": ""
            },
            "colorscale": [
             [
              0,
              "#0d0887"
             ],
             [
              0.1111111111111111,
              "#46039f"
             ],
             [
              0.2222222222222222,
              "#7201a8"
             ],
             [
              0.3333333333333333,
              "#9c179e"
             ],
             [
              0.4444444444444444,
              "#bd3786"
             ],
             [
              0.5555555555555556,
              "#d8576b"
             ],
             [
              0.6666666666666666,
              "#ed7953"
             ],
             [
              0.7777777777777778,
              "#fb9f3a"
             ],
             [
              0.8888888888888888,
              "#fdca26"
             ],
             [
              1,
              "#f0f921"
             ]
            ],
            "type": "heatmap"
           }
          ],
          "heatmapgl": [
           {
            "colorbar": {
             "outlinewidth": 0,
             "ticks": ""
            },
            "colorscale": [
             [
              0,
              "#0d0887"
             ],
             [
              0.1111111111111111,
              "#46039f"
             ],
             [
              0.2222222222222222,
              "#7201a8"
             ],
             [
              0.3333333333333333,
              "#9c179e"
             ],
             [
              0.4444444444444444,
              "#bd3786"
             ],
             [
              0.5555555555555556,
              "#d8576b"
             ],
             [
              0.6666666666666666,
              "#ed7953"
             ],
             [
              0.7777777777777778,
              "#fb9f3a"
             ],
             [
              0.8888888888888888,
              "#fdca26"
             ],
             [
              1,
              "#f0f921"
             ]
            ],
            "type": "heatmapgl"
           }
          ],
          "histogram": [
           {
            "marker": {
             "pattern": {
              "fillmode": "overlay",
              "size": 10,
              "solidity": 0.2
             }
            },
            "type": "histogram"
           }
          ],
          "histogram2d": [
           {
            "colorbar": {
             "outlinewidth": 0,
             "ticks": ""
            },
            "colorscale": [
             [
              0,
              "#0d0887"
             ],
             [
              0.1111111111111111,
              "#46039f"
             ],
             [
              0.2222222222222222,
              "#7201a8"
             ],
             [
              0.3333333333333333,
              "#9c179e"
             ],
             [
              0.4444444444444444,
              "#bd3786"
             ],
             [
              0.5555555555555556,
              "#d8576b"
             ],
             [
              0.6666666666666666,
              "#ed7953"
             ],
             [
              0.7777777777777778,
              "#fb9f3a"
             ],
             [
              0.8888888888888888,
              "#fdca26"
             ],
             [
              1,
              "#f0f921"
             ]
            ],
            "type": "histogram2d"
           }
          ],
          "histogram2dcontour": [
           {
            "colorbar": {
             "outlinewidth": 0,
             "ticks": ""
            },
            "colorscale": [
             [
              0,
              "#0d0887"
             ],
             [
              0.1111111111111111,
              "#46039f"
             ],
             [
              0.2222222222222222,
              "#7201a8"
             ],
             [
              0.3333333333333333,
              "#9c179e"
             ],
             [
              0.4444444444444444,
              "#bd3786"
             ],
             [
              0.5555555555555556,
              "#d8576b"
             ],
             [
              0.6666666666666666,
              "#ed7953"
             ],
             [
              0.7777777777777778,
              "#fb9f3a"
             ],
             [
              0.8888888888888888,
              "#fdca26"
             ],
             [
              1,
              "#f0f921"
             ]
            ],
            "type": "histogram2dcontour"
           }
          ],
          "mesh3d": [
           {
            "colorbar": {
             "outlinewidth": 0,
             "ticks": ""
            },
            "type": "mesh3d"
           }
          ],
          "parcoords": [
           {
            "line": {
             "colorbar": {
              "outlinewidth": 0,
              "ticks": ""
             }
            },
            "type": "parcoords"
           }
          ],
          "pie": [
           {
            "automargin": true,
            "type": "pie"
           }
          ],
          "scatter": [
           {
            "fillpattern": {
             "fillmode": "overlay",
             "size": 10,
             "solidity": 0.2
            },
            "type": "scatter"
           }
          ],
          "scatter3d": [
           {
            "line": {
             "colorbar": {
              "outlinewidth": 0,
              "ticks": ""
             }
            },
            "marker": {
             "colorbar": {
              "outlinewidth": 0,
              "ticks": ""
             }
            },
            "type": "scatter3d"
           }
          ],
          "scattercarpet": [
           {
            "marker": {
             "colorbar": {
              "outlinewidth": 0,
              "ticks": ""
             }
            },
            "type": "scattercarpet"
           }
          ],
          "scattergeo": [
           {
            "marker": {
             "colorbar": {
              "outlinewidth": 0,
              "ticks": ""
             }
            },
            "type": "scattergeo"
           }
          ],
          "scattergl": [
           {
            "marker": {
             "colorbar": {
              "outlinewidth": 0,
              "ticks": ""
             }
            },
            "type": "scattergl"
           }
          ],
          "scattermapbox": [
           {
            "marker": {
             "colorbar": {
              "outlinewidth": 0,
              "ticks": ""
             }
            },
            "type": "scattermapbox"
           }
          ],
          "scatterpolar": [
           {
            "marker": {
             "colorbar": {
              "outlinewidth": 0,
              "ticks": ""
             }
            },
            "type": "scatterpolar"
           }
          ],
          "scatterpolargl": [
           {
            "marker": {
             "colorbar": {
              "outlinewidth": 0,
              "ticks": ""
             }
            },
            "type": "scatterpolargl"
           }
          ],
          "scatterternary": [
           {
            "marker": {
             "colorbar": {
              "outlinewidth": 0,
              "ticks": ""
             }
            },
            "type": "scatterternary"
           }
          ],
          "surface": [
           {
            "colorbar": {
             "outlinewidth": 0,
             "ticks": ""
            },
            "colorscale": [
             [
              0,
              "#0d0887"
             ],
             [
              0.1111111111111111,
              "#46039f"
             ],
             [
              0.2222222222222222,
              "#7201a8"
             ],
             [
              0.3333333333333333,
              "#9c179e"
             ],
             [
              0.4444444444444444,
              "#bd3786"
             ],
             [
              0.5555555555555556,
              "#d8576b"
             ],
             [
              0.6666666666666666,
              "#ed7953"
             ],
             [
              0.7777777777777778,
              "#fb9f3a"
             ],
             [
              0.8888888888888888,
              "#fdca26"
             ],
             [
              1,
              "#f0f921"
             ]
            ],
            "type": "surface"
           }
          ],
          "table": [
           {
            "cells": {
             "fill": {
              "color": "#EBF0F8"
             },
             "line": {
              "color": "white"
             }
            },
            "header": {
             "fill": {
              "color": "#C8D4E3"
             },
             "line": {
              "color": "white"
             }
            },
            "type": "table"
           }
          ]
         },
         "layout": {
          "annotationdefaults": {
           "arrowcolor": "#2a3f5f",
           "arrowhead": 0,
           "arrowwidth": 1
          },
          "autotypenumbers": "strict",
          "coloraxis": {
           "colorbar": {
            "outlinewidth": 0,
            "ticks": ""
           }
          },
          "colorscale": {
           "diverging": [
            [
             0,
             "#8e0152"
            ],
            [
             0.1,
             "#c51b7d"
            ],
            [
             0.2,
             "#de77ae"
            ],
            [
             0.3,
             "#f1b6da"
            ],
            [
             0.4,
             "#fde0ef"
            ],
            [
             0.5,
             "#f7f7f7"
            ],
            [
             0.6,
             "#e6f5d0"
            ],
            [
             0.7,
             "#b8e186"
            ],
            [
             0.8,
             "#7fbc41"
            ],
            [
             0.9,
             "#4d9221"
            ],
            [
             1,
             "#276419"
            ]
           ],
           "sequential": [
            [
             0,
             "#0d0887"
            ],
            [
             0.1111111111111111,
             "#46039f"
            ],
            [
             0.2222222222222222,
             "#7201a8"
            ],
            [
             0.3333333333333333,
             "#9c179e"
            ],
            [
             0.4444444444444444,
             "#bd3786"
            ],
            [
             0.5555555555555556,
             "#d8576b"
            ],
            [
             0.6666666666666666,
             "#ed7953"
            ],
            [
             0.7777777777777778,
             "#fb9f3a"
            ],
            [
             0.8888888888888888,
             "#fdca26"
            ],
            [
             1,
             "#f0f921"
            ]
           ],
           "sequentialminus": [
            [
             0,
             "#0d0887"
            ],
            [
             0.1111111111111111,
             "#46039f"
            ],
            [
             0.2222222222222222,
             "#7201a8"
            ],
            [
             0.3333333333333333,
             "#9c179e"
            ],
            [
             0.4444444444444444,
             "#bd3786"
            ],
            [
             0.5555555555555556,
             "#d8576b"
            ],
            [
             0.6666666666666666,
             "#ed7953"
            ],
            [
             0.7777777777777778,
             "#fb9f3a"
            ],
            [
             0.8888888888888888,
             "#fdca26"
            ],
            [
             1,
             "#f0f921"
            ]
           ]
          },
          "colorway": [
           "#636efa",
           "#EF553B",
           "#00cc96",
           "#ab63fa",
           "#FFA15A",
           "#19d3f3",
           "#FF6692",
           "#B6E880",
           "#FF97FF",
           "#FECB52"
          ],
          "font": {
           "color": "#2a3f5f"
          },
          "geo": {
           "bgcolor": "white",
           "lakecolor": "white",
           "landcolor": "#E5ECF6",
           "showlakes": true,
           "showland": true,
           "subunitcolor": "white"
          },
          "hoverlabel": {
           "align": "left"
          },
          "hovermode": "closest",
          "mapbox": {
           "style": "light"
          },
          "paper_bgcolor": "white",
          "plot_bgcolor": "#E5ECF6",
          "polar": {
           "angularaxis": {
            "gridcolor": "white",
            "linecolor": "white",
            "ticks": ""
           },
           "bgcolor": "#E5ECF6",
           "radialaxis": {
            "gridcolor": "white",
            "linecolor": "white",
            "ticks": ""
           }
          },
          "scene": {
           "xaxis": {
            "backgroundcolor": "#E5ECF6",
            "gridcolor": "white",
            "gridwidth": 2,
            "linecolor": "white",
            "showbackground": true,
            "ticks": "",
            "zerolinecolor": "white"
           },
           "yaxis": {
            "backgroundcolor": "#E5ECF6",
            "gridcolor": "white",
            "gridwidth": 2,
            "linecolor": "white",
            "showbackground": true,
            "ticks": "",
            "zerolinecolor": "white"
           },
           "zaxis": {
            "backgroundcolor": "#E5ECF6",
            "gridcolor": "white",
            "gridwidth": 2,
            "linecolor": "white",
            "showbackground": true,
            "ticks": "",
            "zerolinecolor": "white"
           }
          },
          "shapedefaults": {
           "line": {
            "color": "#2a3f5f"
           }
          },
          "ternary": {
           "aaxis": {
            "gridcolor": "white",
            "linecolor": "white",
            "ticks": ""
           },
           "baxis": {
            "gridcolor": "white",
            "linecolor": "white",
            "ticks": ""
           },
           "bgcolor": "#E5ECF6",
           "caxis": {
            "gridcolor": "white",
            "linecolor": "white",
            "ticks": ""
           }
          },
          "title": {
           "x": 0.05
          },
          "xaxis": {
           "automargin": true,
           "gridcolor": "white",
           "linecolor": "white",
           "ticks": "",
           "title": {
            "standoff": 15
           },
           "zerolinecolor": "white",
           "zerolinewidth": 2
          },
          "yaxis": {
           "automargin": true,
           "gridcolor": "white",
           "linecolor": "white",
           "ticks": "",
           "title": {
            "standoff": 15
           },
           "zerolinecolor": "white",
           "zerolinewidth": 2
          }
         }
        },
        "title": {
         "text": "Random Numbers Line Plot"
        },
        "xaxis": {
         "title": {
          "text": "Index"
         }
        },
        "yaxis": {
         "range": [
          0,
          1
         ],
         "title": {
          "text": "Random Numbers"
         }
        }
       }
      }
     },
     "metadata": {},
     "output_type": "display_data"
    }
   ],
   "source": [
    "import numpy as np\n",
    "import plotly.graph_objects as go\n",
    "\n",
    "# Generate random numbers\n",
    "random_numbers = np.array([])\n",
    "for i in range(5):\n",
    "    if i == 4:\n",
    "        random_numbers = np.concatenate((random_numbers, np.random.uniform(0.1+i*0.03, 0.19+i*0.02, 20)), axis=0)\n",
    "    else:\n",
    "        random_numbers = np.concatenate((random_numbers, np.random.uniform(0.1+i*0.03, 0.15+i*0.02, 20)), axis=0)\n",
    "\n",
    "# Create x-axis (indices)\n",
    "x = np.arange(len(random_numbers))\n",
    "\n",
    "# Create a line plot\n",
    "fig = go.Figure()\n",
    "fig.add_trace(go.Scatter(x=x, y=acc, mode='lines', name='Random Numbers'))\n",
    "fig.update_layout(yaxis=dict(range=[0, 1.0]))\n",
    "# Set plot layout\n",
    "fig.update_layout(\n",
    "    title='Random Numbers Line Plot',\n",
    "    xaxis_title='Index',\n",
    "    yaxis_title='Random Numbers',\n",
    ")\n",
    "\n",
    "# Show the plot\n",
    "fig.show()\n"
   ]
  },
  {
   "cell_type": "code",
   "execution_count": 69,
   "metadata": {},
   "outputs": [
    {
     "name": "stdout",
     "output_type": "stream",
     "text": [
      "[0.91120647 0.98909316 0.97433281 0.97163243 0.98861415 0.93671564\n",
      " 0.9302032  0.97251753 0.93516612 0.99066424 0.97810057 0.95398525\n",
      " 0.91739761 0.91163578 0.99933484 0.97892722 0.93162182 0.93859282\n",
      " 0.98616911 0.94804659 0.94776896 0.96706012 0.98281427 0.96507121\n",
      " 0.99628374 0.95157187 0.99814755 0.94502193 0.99915323 0.94137464\n",
      " 0.99465133 0.96367203 0.94264022 0.95229575 0.94647044 0.95873575\n",
      " 0.97906496 0.94138446 0.95378228 0.96255004 0.94413753 0.98367758\n",
      " 0.95211564 0.9554811  0.97527149 0.96650339 0.99344533 0.98494247\n",
      " 0.96280727 0.98309174 0.96428714 0.97270301 0.98283466 0.953213\n",
      " 0.97439226 0.98223813 0.99135774 0.95702366 0.96494256 0.9724431\n",
      " 0.99834512 0.98690023 0.98603868 0.9974266  0.97884739 0.97544655\n",
      " 0.99308271 0.97408926 0.98518025 0.97439519 0.9994863  0.98663418\n",
      " 0.98361245 0.97965245 0.99776837 0.98117724 0.99046409 0.98539042\n",
      " 0.98790168 0.99308599 0.99450603 0.98729797 0.99583621 0.98404253\n",
      " 0.99731906 0.99022971 0.99805457 0.98578399 0.9953104  0.99507475\n",
      " 0.99734637 0.9927253  0.99207904 0.99834094 0.99032774 0.99812914\n",
      " 0.99525751 0.99616245 0.99864572 0.99726191]\n"
     ]
    }
   ],
   "source": [
    "import numpy as np\n",
    "random_numbers = np.array([])\n",
    "for i in range(20):\n",
    "    random_numbers = np.concatenate((random_numbers, np.random.uniform(0.9+i*0.005, 1.0, 5)), axis=0)\n",
    "# for i in range(50):\n",
    "#     random_numbers = np.concatenate((random_numbers, np.random.uniform(0.9+i*0.002, 0.902+i*0.002, 2)), axis=0)\n",
    "# random_numbers = np.random.uniform(0.9,1.0, 100)\n",
    "print(random_numbers)"
   ]
  },
  {
   "cell_type": "code",
   "execution_count": null,
   "metadata": {},
   "outputs": [],
   "source": [
    "color_scale = ['#636EFA', '#00CC96' ,'#EF553B','#FFA15A']"
   ]
  },
  {
   "cell_type": "code",
   "execution_count": 14,
   "metadata": {},
   "outputs": [
    {
     "data": {
      "text/plain": [
       "['#636EFA',\n",
       " '#EF553B',\n",
       " '#00CC96',\n",
       " '#AB63FA',\n",
       " '#FFA15A',\n",
       " '#19D3F3',\n",
       " '#FF6692',\n",
       " '#B6E880',\n",
       " '#FF97FF',\n",
       " '#FECB52']"
      ]
     },
     "execution_count": 14,
     "metadata": {},
     "output_type": "execute_result"
    }
   ],
   "source": [
    "color_scale"
   ]
  }
 ],
 "metadata": {
  "kernelspec": {
   "display_name": "kevin",
   "language": "python",
   "name": "python3"
  },
  "language_info": {
   "codemirror_mode": {
    "name": "ipython",
    "version": 3
   },
   "file_extension": ".py",
   "mimetype": "text/x-python",
   "name": "python",
   "nbconvert_exporter": "python",
   "pygments_lexer": "ipython3",
   "version": "3.9.13"
  },
  "orig_nbformat": 4
 },
 "nbformat": 4,
 "nbformat_minor": 2
}
