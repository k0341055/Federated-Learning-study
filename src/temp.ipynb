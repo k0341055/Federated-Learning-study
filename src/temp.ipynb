{
 "cells": [
  {
   "cell_type": "code",
   "execution_count": 1,
   "metadata": {},
   "outputs": [],
   "source": [
    "import numpy as np\n",
    "idxs_users = list(range(30)) #8/1\n",
    "selected_users = np.random.choice(idxs_users, 30, replace=False)"
   ]
  },
  {
   "cell_type": "code",
   "execution_count": 4,
   "metadata": {},
   "outputs": [
    {
     "name": "stdout",
     "output_type": "stream",
     "text": [
      "{0: [0, 1, 2], 1: [3, 4, 5], 2: [6, 7, 8], 3: [9, 10, 11], 4: [12, 13, 14], 5: [15, 16, 17], 6: [18, 19, 20], 7: [21, 22, 23], 8: [24, 25, 26], 9: [27, 28, 29], 10: [30, 31, 32], 11: [33, 34, 35], 12: [36, 37, 38], 13: [39, 40, 41], 14: [42, 43, 44], 15: [45, 46, 47], 16: [48, 49, 50], 17: [51, 52, 53], 18: [54, 55, 56], 19: [57, 58, 59], 20: [60, 61, 62], 21: [63, 64, 65], 22: [66, 67, 68], 23: [69, 70, 71], 24: [72, 73, 74], 25: [75, 76, 77], 26: [78, 79, 80], 27: [81, 82, 83], 28: [84, 85, 86], 29: [87, 88, 89]}\n"
     ]
    }
   ],
   "source": [
    "user_groups = {}\n",
    "user_count = 0\n",
    "group_size = 3\n",
    "group_count = 30\n",
    "\n",
    "for group_id in range(group_count):\n",
    "    user_groups[group_id] = list(range(user_count, user_count + group_size))\n",
    "    user_count += group_size\n",
    "\n",
    "print(user_groups)"
   ]
  },
  {
   "cell_type": "code",
   "execution_count": 5,
   "metadata": {},
   "outputs": [
    {
     "name": "stdout",
     "output_type": "stream",
     "text": [
      "[48, 49, 50]\n",
      "[87, 88, 89]\n",
      "[66, 67, 68]\n",
      "[15, 16, 17]\n",
      "[6, 7, 8]\n",
      "[81, 82, 83]\n",
      "[30, 31, 32]\n",
      "[57, 58, 59]\n",
      "[78, 79, 80]\n",
      "[60, 61, 62]\n",
      "[39, 40, 41]\n",
      "[75, 76, 77]\n",
      "[18, 19, 20]\n",
      "[69, 70, 71]\n",
      "[72, 73, 74]\n",
      "[45, 46, 47]\n",
      "[51, 52, 53]\n",
      "[21, 22, 23]\n",
      "[9, 10, 11]\n",
      "[84, 85, 86]\n",
      "[0, 1, 2]\n",
      "[63, 64, 65]\n",
      "[42, 43, 44]\n",
      "[36, 37, 38]\n",
      "[12, 13, 14]\n",
      "[33, 34, 35]\n",
      "[27, 28, 29]\n",
      "[54, 55, 56]\n",
      "[3, 4, 5]\n",
      "[24, 25, 26]\n"
     ]
    }
   ],
   "source": [
    "for i,idx in enumerate(selected_users):\n",
    "    print(user_groups[idx])"
   ]
  },
  {
   "cell_type": "code",
   "execution_count": 8,
   "metadata": {},
   "outputs": [
    {
     "name": "stdout",
     "output_type": "stream",
     "text": [
      "[16 29 22  5  2 27 10 19 26 20 13 25  6 23 24 15 17  7  3 28  0 21 14 12\n",
      "  4 11  9 18  1  8]\n",
      "[16 29 22  5  2 27 10 19 26 20]\n",
      "[ 0 21 14 12  4 11  9 18  1  8]\n"
     ]
    }
   ],
   "source": [
    "print(selected_users)\n",
    "print(selected_users[:10])\n",
    "print(selected_users[-10:])"
   ]
  },
  {
   "cell_type": "code",
   "execution_count": 10,
   "metadata": {},
   "outputs": [
    {
     "name": "stdout",
     "output_type": "stream",
     "text": [
      "[48, 49, 50]\n",
      "[87, 88, 89]\n",
      "[66, 67, 68]\n",
      "[15, 16, 17]\n",
      "[6, 7, 8]\n",
      "[81, 82, 83]\n",
      "[30, 31, 32]\n",
      "[57, 58, 59]\n",
      "[78, 79, 80]\n",
      "[60, 61, 62]\n",
      "[39, 40, 41]\n",
      "[75, 76, 77]\n",
      "[18, 19, 20]\n",
      "[69, 70, 71]\n",
      "[72, 73, 74]\n",
      "[45, 46, 47]\n",
      "[51, 52, 53]\n",
      "[21, 22, 23]\n",
      "[9, 10, 11]\n",
      "[84, 85, 86]\n",
      "[48, 49, 50]\n",
      "[87, 88, 89]\n",
      "[66, 67, 68]\n",
      "[15, 16, 17]\n",
      "[6, 7, 8]\n",
      "[81, 82, 83]\n",
      "[30, 31, 32]\n",
      "[57, 58, 59]\n",
      "[78, 79, 80]\n",
      "[60, 61, 62]\n"
     ]
    }
   ],
   "source": [
    "for i,idx in enumerate(selected_users[-10:]):\n",
    "    user_groups[idx] = user_groups[selected_users[i]]\n",
    "for i,idx in enumerate(selected_users):\n",
    "    print(user_groups[idx])"
   ]
  },
  {
   "cell_type": "code",
   "execution_count": null,
   "metadata": {},
   "outputs": [],
   "source": [
    "from collections import Counter\n",
    "import numpy as np\n",
    "from torchvision import datasets, transforms\n",
    "data_dir = '../data/mnist/'\n",
    "apply_transform = transforms.Compose([\n",
    "            transforms.ToTensor(),\n",
    "            transforms.Normalize((0.1307,), (0.3081,))])\n",
    "dataset = datasets.MNIST(data_dir, train=True, download=True,transform=apply_transform)\n",
    "labels = dataset.targets.numpy()\n",
    "avg_len = int(len(dataset)/10)\n",
    "revise_idxs = np.array([])\n",
    "for i in range(10):\n",
    "    label_len = Counter(labels)[i]\n",
    "    label_idx = np.where(labels == i)[0]\n",
    "    if label_len < avg_len:\n",
    "        add_idx = np.random.choice(label_idx, avg_len - label_len, replace=False)\n",
    "        label_idx = np.concatenate([label_idx, add_idx])\n",
    "    else:\n",
    "        label_idx = np.random.choice(label_idx, avg_len, replace=False)\n",
    "    np.random.shuffle(label_idx)\n",
    "    revise_idxs = np.concatenate([revise_idxs,label_idx])\n",
    "revise_idxs = revise_idxs.astype(int)\n",
    "revise_lbs = labels[revise_idxs]\n"
   ]
  },
  {
   "cell_type": "code",
   "execution_count": null,
   "metadata": {},
   "outputs": [],
   "source": [
    "data_dir = '../data/cifar/'\n",
    "apply_transform = transforms.Compose(\n",
    "    [transforms.ToTensor(),\n",
    "        transforms.Normalize((0.5, 0.5, 0.5), (0.5, 0.5, 0.5))])\n",
    "\n",
    "train_dataset = datasets.CIFAR10(data_dir, train=True, download=True,transform=apply_transform)\n",
    "cifar_labels = np.array(train_dataset.targets)\n",
    "revise_idxs = np.array([])\n",
    "for i in range(10):\n",
    "    label_idx = np.where(cifar_labels == i)[0]\n",
    "    add_idx = np.random.choice(label_idx, 6000-Counter(cifar_labels)[i], replace=False)\n",
    "    label_idx = np.concatenate([label_idx, add_idx])\n",
    "    np.random.shuffle(label_idx)\n",
    "    revise_idxs = np.concatenate([revise_idxs,label_idx])\n",
    "revise_idxs = revise_idxs.astype(int)\n",
    "revise_lbs = cifar_labels[revise_idxs]"
   ]
  }
 ],
 "metadata": {
  "kernelspec": {
   "display_name": "kevin",
   "language": "python",
   "name": "python3"
  },
  "language_info": {
   "codemirror_mode": {
    "name": "ipython",
    "version": 3
   },
   "file_extension": ".py",
   "mimetype": "text/x-python",
   "name": "python",
   "nbconvert_exporter": "python",
   "pygments_lexer": "ipython3",
   "version": "3.9.13"
  },
  "orig_nbformat": 4
 },
 "nbformat": 4,
 "nbformat_minor": 2
}
